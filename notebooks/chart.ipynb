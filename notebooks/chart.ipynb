{
 "cells": [
  {
   "cell_type": "markdown",
   "metadata": {},
   "source": [
    "# chart module"
   ]
  },
  {
   "cell_type": "code",
   "execution_count": 1,
   "metadata": {},
   "outputs": [],
   "source": [
    "import ee"
   ]
  },
  {
   "cell_type": "code",
   "execution_count": 2,
   "metadata": {},
   "outputs": [],
   "source": [
    "from geetools import chart"
   ]
  },
  {
   "cell_type": "code",
   "execution_count": 3,
   "metadata": {
    "scrolled": true
   },
   "outputs": [
    {
     "name": "stdout",
     "output_type": "stream",
     "text": [
      "Help on module geetools.chart in geetools:\n",
      "\n",
      "NAME\n",
      "    geetools.chart\n",
      "\n",
      "FILE\n",
      "    c:\\users\\rprincipe\\appdata\\local\\continuum\\anaconda2\\lib\\site-packages\\geetools\\chart.py\n",
      "\n",
      "DESCRIPTION\n",
      "    Charts from Google Earth Engine data. Inpired by this question\n",
      "    https://gis.stackexchange.com/questions/291823/ui-charts-for-indices-time-series-in-python-api-of-google-earth-engine\n",
      "    and https://youtu.be/FytuB8nFHPQ, but at the moment relaying on `pygal`\n",
      "    library because it's the easiest to integrate with ipywidgets\n",
      "    \n",
      "    author: Rodrigo E. Principe\n",
      "    author email: fitoprincipe82@gmail.com\n",
      "    gitHub: https://github.com/gee-community/gee_tools\n",
      "\n",
      "CLASSES\n",
      "    __builtin__.object\n",
      "        Image\n",
      "    pygal.graph.line.Line(pygal.graph.graph.Graph)\n",
      "        Line\n",
      "    \n",
      "    class Image(__builtin__.object)\n",
      "     |  Charts for Images\n",
      "     |  \n",
      "     |  Methods defined here:\n",
      "     |  \n",
      "     |  __init__(self, source)\n",
      "     |  \n",
      "     |  ----------------------------------------------------------------------\n",
      "     |  Static methods defined here:\n",
      "     |  \n",
      "     |  check_imageCollection(imageCollection)\n",
      "     |  \n",
      "     |  create_widget(pygal_chart)\n",
      "     |      Create a HTML Widget (ipywidget)\n",
      "     |  \n",
      "     |  data2pandas(data)\n",
      "     |      Convert data coming from tools.get_values to a pandas DataFrame\n",
      "     |  \n",
      "     |  series(imageCollection, region, reducer=<ee.Reducer object>, scale=None, xProperty='system:time_start', bands=None)\n",
      "     |  \n",
      "     |  seriesByRegion(imageCollection, regions, reducer, band=None, scale=None, xProperty='system:time_start', seriesProperty='system:index')\n",
      "     |  \n",
      "     |  ----------------------------------------------------------------------\n",
      "     |  Data descriptors defined here:\n",
      "     |  \n",
      "     |  __dict__\n",
      "     |      dictionary for instance variables (if defined)\n",
      "     |  \n",
      "     |  __weakref__\n",
      "     |      list of weak references to the object (if defined)\n",
      "    \n",
      "    class Line(pygal.graph.line.Line)\n",
      "     |  Method resolution order:\n",
      "     |      Line\n",
      "     |      pygal.graph.line.Line\n",
      "     |      pygal.graph.graph.Graph\n",
      "     |      pygal.graph.public.PublicApi\n",
      "     |      pygal.graph.base.BaseGraph\n",
      "     |      __builtin__.object\n",
      "     |  \n",
      "     |  Methods defined here:\n",
      "     |  \n",
      "     |  __init__(self, **kwargs)\n",
      "     |  \n",
      "     |  render_widget(self)\n",
      "     |  \n",
      "     |  ----------------------------------------------------------------------\n",
      "     |  Static methods defined here:\n",
      "     |  \n",
      "     |  from_pandas(dataframe, x=None, y=None, datetime=False, **kwargs)\n",
      "     |      Creates a Line chart from a pandas dataFrame\n",
      "     |  \n",
      "     |  ----------------------------------------------------------------------\n",
      "     |  Methods inherited from pygal.graph.line.Line:\n",
      "     |  \n",
      "     |  line(self, serie, rescale=False)\n",
      "     |      Draw the line serie\n",
      "     |  \n",
      "     |  ----------------------------------------------------------------------\n",
      "     |  Methods inherited from pygal.graph.graph.Graph:\n",
      "     |  \n",
      "     |  add_squares(self, squares)\n",
      "     |  \n",
      "     |  ----------------------------------------------------------------------\n",
      "     |  Data descriptors inherited from pygal.graph.graph.Graph:\n",
      "     |  \n",
      "     |  all_series\n",
      "     |      Getter for all series (nomal and secondary)\n",
      "     |  \n",
      "     |  ----------------------------------------------------------------------\n",
      "     |  Methods inherited from pygal.graph.public.PublicApi:\n",
      "     |  \n",
      "     |  __call__(self, *args, **kwargs)\n",
      "     |      Call api: chart(1, 2, 3, title='T')\n",
      "     |  \n",
      "     |  add(self, title, values, **kwargs)\n",
      "     |      Add a serie to this graph, compat api\n",
      "     |  \n",
      "     |  add_xml_filter(self, callback)\n",
      "     |      Add an xml filter for in tree post processing\n",
      "     |  \n",
      "     |  render(self, is_unicode=False, **kwargs)\n",
      "     |      Render the graph, and return the svg string\n",
      "     |  \n",
      "     |  render_data_uri(self, **kwargs)\n",
      "     |      Output a base 64 encoded data uri\n",
      "     |  \n",
      "     |  render_django_response(self, **kwargs)\n",
      "     |      Render the graph, and return a Django response\n",
      "     |  \n",
      "     |  render_in_browser(self, **kwargs)\n",
      "     |      Render the graph, open it in your browser with black magic\n",
      "     |  \n",
      "     |  render_pyquery(self, **kwargs)\n",
      "     |      Render the graph, and return a pyquery wrapped tree\n",
      "     |  \n",
      "     |  render_response(self, **kwargs)\n",
      "     |      Render the graph, and return a Flask response\n",
      "     |  \n",
      "     |  render_sparkline(self, **kwargs)\n",
      "     |      Render a sparkline\n",
      "     |  \n",
      "     |  render_sparktext(self, relative_to=None)\n",
      "     |      Make a mini text sparkline from chart\n",
      "     |  \n",
      "     |  render_table(self, **kwargs)\n",
      "     |      Render the data as a html table\n",
      "     |  \n",
      "     |  render_to_file(self, filename, **kwargs)\n",
      "     |      Render the graph, and write it to filename\n",
      "     |  \n",
      "     |  render_to_png(self, filename=None, dpi=72, **kwargs)\n",
      "     |      Render the graph, convert it to png and write it to filename\n",
      "     |  \n",
      "     |  render_tree(self, **kwargs)\n",
      "     |      Render the graph, and return (l)xml etree\n",
      "     |  \n",
      "     |  ----------------------------------------------------------------------\n",
      "     |  Methods inherited from pygal.graph.base.BaseGraph:\n",
      "     |  \n",
      "     |  __getattribute__(self, name)\n",
      "     |      Get an attribute from the class or from the state if there is one\n",
      "     |  \n",
      "     |  __setattr__(self, name, value)\n",
      "     |      Set an attribute on the class or in the state if there is one\n",
      "     |  \n",
      "     |  prepare_values(self, raw, offset=0)\n",
      "     |      Prepare the values to start with sane values\n",
      "     |  \n",
      "     |  setup(self, **kwargs)\n",
      "     |      Set up the transient state prior rendering\n",
      "     |  \n",
      "     |  teardown(self)\n",
      "     |      Remove the transient state after rendering\n",
      "     |  \n",
      "     |  ----------------------------------------------------------------------\n",
      "     |  Data descriptors inherited from pygal.graph.base.BaseGraph:\n",
      "     |  \n",
      "     |  __dict__\n",
      "     |      dictionary for instance variables (if defined)\n",
      "     |  \n",
      "     |  __weakref__\n",
      "     |      list of weak references to the object (if defined)\n",
      "\n",
      "\n"
     ]
    }
   ],
   "source": [
    "help(chart)"
   ]
  },
  {
   "cell_type": "code",
   "execution_count": 4,
   "metadata": {},
   "outputs": [],
   "source": [
    "test_site = ee.Geometry.Point([-71, -42])"
   ]
  },
  {
   "cell_type": "markdown",
   "metadata": {},
   "source": [
    "## Time Series"
   ]
  },
  {
   "cell_type": "code",
   "execution_count": 5,
   "metadata": {},
   "outputs": [],
   "source": [
    "years = ee.List([2015, 2016, 2017, 2018])"
   ]
  },
  {
   "cell_type": "code",
   "execution_count": 6,
   "metadata": {},
   "outputs": [],
   "source": [
    "col = ee.ImageCollection('COPERNICUS/S2').filterBounds(test_site)"
   ]
  },
  {
   "cell_type": "code",
   "execution_count": 7,
   "metadata": {},
   "outputs": [],
   "source": [
    "def make_time_series(year):\n",
    "    ''' make a time series from year's list '''\n",
    "    eefilter = ee.Filter.calendarRange(year, field='year')\n",
    "    filtered = col.filter(eefilter)\n",
    "    return filtered.mean().set('system:time_start', ee.Date.fromYMD(year, 1, 1).millis())"
   ]
  },
  {
   "cell_type": "code",
   "execution_count": 8,
   "metadata": {},
   "outputs": [],
   "source": [
    "time_series = ee.ImageCollection(years.map(make_time_series))"
   ]
  },
  {
   "cell_type": "code",
   "execution_count": 9,
   "metadata": {},
   "outputs": [],
   "source": [
    "chart_ts = chart.Image.series(time_series, region=test_site, bands=['B1', 'B2', 'B3'])"
   ]
  },
  {
   "cell_type": "code",
   "execution_count": 13,
   "metadata": {},
   "outputs": [
    {
     "data": {
      "application/vnd.jupyter.widget-view+json": {
       "model_id": "7f6e04fcbfcf40f5ba517612a7bd2809",
       "version_major": 2,
       "version_minor": 0
      },
      "text/plain": [
       "SFRNTCh2YWx1ZT11JzxlbWJlZCBzcmM9ZGF0YTppbWFnZS9zdmcreG1sO2NoYXJzZXQ9dXRmLTg7YmFzZTY0LFBEOTRiV3dnZG1WeWMybHZiajBuTVM0d0p5QmxibU52WkdsdVp6MG5kWFJtTFTigKY=\n"
      ]
     },
     "metadata": {},
     "output_type": "display_data"
    }
   ],
   "source": [
    "chart_ts.render_widget()"
   ]
  },
  {
   "cell_type": "code",
   "execution_count": 12,
   "metadata": {},
   "outputs": [],
   "source": [
    "chart_ts.title = 'S2 mean Time Series'"
   ]
  }
 ],
 "metadata": {
  "kernelspec": {
   "display_name": "Python 2",
   "language": "python",
   "name": "python2"
  },
  "language_info": {
   "codemirror_mode": {
    "name": "ipython",
    "version": 2
   },
   "file_extension": ".py",
   "mimetype": "text/x-python",
   "name": "python",
   "nbconvert_exporter": "python",
   "pygments_lexer": "ipython2",
   "version": "2.7.15"
  }
 },
 "nbformat": 4,
 "nbformat_minor": 2
}
