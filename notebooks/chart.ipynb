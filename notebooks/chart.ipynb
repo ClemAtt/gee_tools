{
 "cells": [
  {
   "cell_type": "code",
   "execution_count": 135,
   "metadata": {},
   "outputs": [],
   "source": [
    "import pygal\n",
    "import base64\n",
    "import ee\n",
    "from geetools import tools\n",
    "import pandas as pd\n",
    "\n",
    "class Line(pygal.Line):\n",
    "    def __init__(self, **kwargs):\n",
    "        super(Line, self).__init__(**kwargs)\n",
    "        self.data = None\n",
    "        self.y_labels = dict()\n",
    "\n",
    "    @staticmethod\n",
    "    def from_pandas(dataframe, x=None, y=None, datetime=False, **kwargs):\n",
    "        \"\"\" Creates a Line chart from a pandas dataFrame \"\"\"\n",
    "        if not isinstance(dataframe, pd.DataFrame):\n",
    "            raise ValueError('first argument must be a pandas DataFrame')\n",
    "\n",
    "        line_chart = Line(**kwargs)\n",
    "\n",
    "        if not x:\n",
    "            labels = dataframe[dataframe.columns[0]]\n",
    "        else:\n",
    "            labels = dataframe[x].values.tolist()\n",
    "\n",
    "        if not datetime:\n",
    "            x_values = labels\n",
    "        else:\n",
    "            x_values = [tools.Date.millis2datetime(d) for d in labels]\n",
    "\n",
    "        line_chart.x_labels = x_values\n",
    "\n",
    "        if isinstance(y, list):\n",
    "            for column in y:\n",
    "                if column == x:\n",
    "                    continue\n",
    "                ydata = dataframe[column].values.tolist()\n",
    "                ydata = [{'value':data} for data in ydata]\n",
    "                # TODO: add values config\n",
    "                # pygal.org/en/latest/documentation/configuration/value.html\n",
    "                line_chart.add(column, ydata)\n",
    "                line_chart.y_labels[column] = ydata\n",
    "        else:\n",
    "            ydata = dataframe[y].values.tolist()\n",
    "            line_chart.add(y, ydata)\n",
    "            line_chart.y_labels[y] = ydata\n",
    "\n",
    "        line_chart.data = dataframe\n",
    "        return line_chart\n",
    "\n",
    "    def render_widget(self, width=None, height=None):\n",
    "        from ipywidgets import HTML\n",
    "\n",
    "        b64 = base64.b64encode(self.render())\n",
    "        src = 'data:image/svg+xml;charset=utf-8;base64,'+b64\n",
    "        \n",
    "        if width and not height:\n",
    "            html = '<embed src={} width={}></embed>'.format(src, width)\n",
    "        elif height and not width:\n",
    "            html = '<embed src={} height={}></embed>'.format(src, height)\n",
    "        elif width and height:\n",
    "            html = '<embed src={} height={} width={}></embed>'.format(src, height, width)\n",
    "        else:\n",
    "            html = '<embed src={}>'.format(src)\n",
    "            \n",
    "        return HTML(html)\n",
    "\n",
    "\n",
    "class Image(object):\n",
    "    \"\"\" Charts for Images \"\"\"\n",
    "    def __init__(self, source):\n",
    "        self.source = source\n",
    "\n",
    "    @staticmethod\n",
    "    def data2pandas(data):\n",
    "        ''' Convert data coming from tools.get_values to a pandas DataFrame'''\n",
    "        # Indices\n",
    "        # header\n",
    "        allbands = [val.keys() for bands, val in data.items()]\n",
    "        header = []\n",
    "        for bandlist in allbands:\n",
    "            for band in bandlist:\n",
    "                if band not in header:\n",
    "                    header.append(band)\n",
    "\n",
    "        data_dict = {}\n",
    "        indices = []\n",
    "        for i, head in enumerate(header):\n",
    "            band_data = []\n",
    "            for iid, val in data.items():\n",
    "                if i == 0:\n",
    "                    indices.append(iid)\n",
    "                band_data.append(val[head])\n",
    "            data_dict[head] = band_data\n",
    "\n",
    "        df = pd.DataFrame(data=data_dict, index=indices)\n",
    "\n",
    "        return df\n",
    "\n",
    "    @staticmethod\n",
    "    def check_imageCollection(imageCollection):\n",
    "        if not isinstance(imageCollection, ee.ImageCollection):\n",
    "            msg = 'first parameter of Image.doySeries must be an ' \\\n",
    "                  'ImageCollection, found {}'\n",
    "            raise ValueError(msg.format(type(imageCollection)))\n",
    "\n",
    "    @staticmethod\n",
    "    def series(imageCollection, region, reducer=ee.Reducer.mean(),\n",
    "               scale=None, xProperty='system:time_start', bands=None,\n",
    "               labels=None):\n",
    "        Image.check_imageCollection(imageCollection)\n",
    "\n",
    "        # scale\n",
    "        if not scale:\n",
    "            scale = 1\n",
    "\n",
    "        # first image (for getting bands and properties)\n",
    "        first = ee.Image(imageCollection.first())\n",
    "        allbands = first.bandNames().getInfo()\n",
    "\n",
    "        # Get Y (bands)\n",
    "        if not bands:\n",
    "            ydata = allbands\n",
    "        else:\n",
    "            ydata = bands\n",
    "\n",
    "        # Get Images properties\n",
    "        properties = first.propertyNames().getInfo()\n",
    "\n",
    "        # If xProperty == 'system:time_start' will compute datetime\n",
    "        datetime = True if xProperty == 'system:time_start' else False\n",
    "\n",
    "        # generate data\n",
    "        if isinstance(region, ee.Geometry):\n",
    "            geom = region\n",
    "        elif isinstance(region, (ee.Feature, ee.FeatureCollection)):\n",
    "            geom = region.geometry()\n",
    "        else:\n",
    "            msg = 'Parameter `region` must be `ee.Geometry`, `ee.Feautre` or'\\\n",
    "                  ' or `ee.FeatureCollection, found {}'\n",
    "            raise ValueError(msg.format(type(region)))\n",
    "\n",
    "        if xProperty in properties:\n",
    "            # include xProperty in data\n",
    "            x_property = [xProperty]\n",
    "        elif xProperty in allbands:\n",
    "            # xProperty will be included in data because is a band\n",
    "            x_property = []\n",
    "        else:\n",
    "            msg = 'xProperty \"{}\" not found in properties or bands'\n",
    "            raise ValueError(msg.format(xProperty))\n",
    "\n",
    "        data = tools.get_values(imageCollection, geom, reducer, scale,\n",
    "                                properties=x_property, side='client')\n",
    "\n",
    "        # Replace band names with labels provided\n",
    "        if labels and len(ydata) == len(labels):\n",
    "            for iid, values_dict in data.items():\n",
    "                for old_name, new_name in zip(ydata, labels):\n",
    "                    data[iid][new_name] = data[iid][old_name]\n",
    "                    data[iid].pop(old_name)\n",
    "            ydata = labels\n",
    "\n",
    "        df = Image.data2pandas(data)\n",
    "        newdf = df.sort_values(xProperty)\n",
    "\n",
    "        line_chart = Line.from_pandas(newdf, y=ydata,\n",
    "                                      x=xProperty, datetime=datetime)\n",
    "        \n",
    "        reducer_name = reducer.getInfo()['type'].split('.')[1]\n",
    "        chart_title = 'Band {} across images'.format(reducer_name)\n",
    "        line_chart.title = chart_title\n",
    "        \n",
    "        return line_chart\n",
    "\n",
    "    @staticmethod\n",
    "    def seriesByRegion(imageCollection, regions, reducer, band=None,\n",
    "                       scale=None, xProperty='system:time_start',\n",
    "                       seriesProperty='system:index'):\n",
    "        \n",
    "        # If xProperty == 'system:time_start' will compute datetime\n",
    "        datetime = True if xProperty == 'system:time_start' else False\n",
    "\n",
    "        Image.check_imageCollection(imageCollection)\n",
    "        first = ee.Image(imageCollection.first())\n",
    "\n",
    "        # Make defaults\n",
    "        if not band:\n",
    "            band = ee.String(first.bandNames().get(0))\n",
    "        if not scale:\n",
    "            # scale = first.select([0]).projection().nominalScale()\n",
    "            scale = 1\n",
    "        \n",
    "        imageCollection = imageCollection.select([band])\n",
    "        \n",
    "        # Generate data\n",
    "        # Geometry\n",
    "        if isinstance(regions, ee.Geometry):\n",
    "            print('Using `seriesByRegion` with `ee.Geometry` will give you'\n",
    "                  ' the same output as `series`, use that method instead')\n",
    "            chart_title = '{} values in merged geometry across images'.format(band)\n",
    "            \n",
    "            chart_line = Image.series(imageCollection, regions, reducer, scale=scale,\n",
    "                                      xProperty=xProperty, bands=[band], labels=['geometry'])\n",
    "            chart_line.title = chart_title            \n",
    "            return chart_line\n",
    "        \n",
    "        elif isinstance(regions, ee.Feature):\n",
    "            reducer_name = reducer.getInfo()['type'].split('.')[1]\n",
    "            chart_title = '{} {} values in one regions across images\\nlabeled by {}'.format(\n",
    "                band, reducer_name, seriesProperty)\n",
    "            label = regions.get(seriesProperty).getInfo()\n",
    "            label = label if label else 'unknown feature'\n",
    "            chart_line = Image.series(imageCollection, regions, reducer, scale=scale,\n",
    "                                      xProperty=xProperty, bands=[band], labels=[label])\n",
    "            chart_line.title = chart_title\n",
    "            return chart_line\n",
    "        \n",
    "        elif isinstance(regions, ee.FeatureCollection):            \n",
    "            \n",
    "            def over_col(img, inicol):\n",
    "                inicol = ee.Dictionary(inicol)\n",
    "                x_prop = img.get(xProperty)\n",
    "                iid = img.get('system:index')\n",
    "                \n",
    "                def over_fc(feat, inifeat):\n",
    "                    inifeat = ee.Dictionary(inifeat)\n",
    "                    name = feat.get(seriesProperty)\n",
    "                    data = img.reduceRegion(reducer, \n",
    "                                            feat.geometry(), \n",
    "                                            scale).get(band)\n",
    "                    return inifeat.set(name, data)\n",
    "                \n",
    "                fc_data = ee.Dictionary(\n",
    "                    regions.iterate(over_fc, ee.Dictionary({}))\n",
    "                ).set(xProperty, x_prop)\n",
    "                \n",
    "                return inicol.set(iid, fc_data)\n",
    "            \n",
    "            data = ee.Dictionary(\n",
    "                imageCollection.iterate(over_col, ee.Dictionary({})))\n",
    "            \n",
    "            data = data.getInfo()\n",
    "                        \n",
    "            df = Image.data2pandas(data)\n",
    "            newdf = df.sort_values(xProperty)\n",
    "            \n",
    "            y_labels = newdf.columns.values.tolist()\n",
    "\n",
    "            line_chart = Line.from_pandas(newdf, y=y_labels,\n",
    "                                          x=xProperty, datetime=datetime)\n",
    "\n",
    "            reducer_name = reducer.getInfo()['type'].split('.')[1]\n",
    "            chart_title = '{} {} values in different regions across images\\nlabeled by {}'.format(\n",
    "                band, reducer_name, seriesProperty)\n",
    "            line_chart.title = chart_title\n",
    "\n",
    "            return line_chart                "
   ]
  },
  {
   "cell_type": "markdown",
   "metadata": {},
   "source": [
    "# chart module"
   ]
  },
  {
   "cell_type": "markdown",
   "metadata": {},
   "source": [
    "### https://code.earthengine.google.com/e50afcbdc75fbb9611a4ac7d6567fdf8"
   ]
  },
  {
   "cell_type": "code",
   "execution_count": 2,
   "metadata": {},
   "outputs": [],
   "source": [
    "import ee"
   ]
  },
  {
   "cell_type": "code",
   "execution_count": 3,
   "metadata": {},
   "outputs": [],
   "source": [
    "from geetools import chart"
   ]
  },
  {
   "cell_type": "code",
   "execution_count": 4,
   "metadata": {},
   "outputs": [],
   "source": [
    "test_site = ee.Geometry.Point([-71, -42])"
   ]
  },
  {
   "cell_type": "code",
   "execution_count": 59,
   "metadata": {},
   "outputs": [],
   "source": [
    "test_feat = ee.Feature(test_site, {'name': 'test feature'})"
   ]
  },
  {
   "cell_type": "code",
   "execution_count": 130,
   "metadata": {},
   "outputs": [],
   "source": [
    "test_featcol = ee.FeatureCollection([\n",
    "    test_feat, \n",
    "    test_feat.buffer(100).set('name', 'buffer 100'),\n",
    "    test_feat.buffer(1000).set('name', 'buffer 1000')\n",
    "])"
   ]
  },
  {
   "cell_type": "markdown",
   "metadata": {},
   "source": [
    "## Time Series"
   ]
  },
  {
   "cell_type": "code",
   "execution_count": 5,
   "metadata": {},
   "outputs": [],
   "source": [
    "years = ee.List([2015, 2016, 2017, 2018])"
   ]
  },
  {
   "cell_type": "code",
   "execution_count": 6,
   "metadata": {},
   "outputs": [],
   "source": [
    "col = ee.ImageCollection('COPERNICUS/S2').filterBounds(test_site)"
   ]
  },
  {
   "cell_type": "code",
   "execution_count": 7,
   "metadata": {},
   "outputs": [],
   "source": [
    "def make_time_series(year):\n",
    "    ''' make a time series from year's list '''\n",
    "    eefilter = ee.Filter.calendarRange(year, field='year')\n",
    "    filtered = col.filter(eefilter)\n",
    "    return filtered.mean().set('system:time_start', ee.Date.fromYMD(year, 1, 1).millis())"
   ]
  },
  {
   "cell_type": "code",
   "execution_count": 8,
   "metadata": {},
   "outputs": [],
   "source": [
    "time_series = ee.ImageCollection(years.map(make_time_series))"
   ]
  },
  {
   "cell_type": "markdown",
   "metadata": {},
   "source": [
    "## Chart *series*"
   ]
  },
  {
   "cell_type": "code",
   "execution_count": 110,
   "metadata": {},
   "outputs": [],
   "source": [
    "chart_ts = Image.series(**{\n",
    "    'imageCollection': time_series, \n",
    "    'region': test_site,\n",
    "    'scale': 10,\n",
    "    'bands': ['B1', 'B2', 'B3'],\n",
    "    'xProperty': 'B4',\n",
    "    'labels': ['band B1', 'B2 band', 'this is B3']\n",
    "})"
   ]
  },
  {
   "cell_type": "code",
   "execution_count": 113,
   "metadata": {},
   "outputs": [
    {
     "data": {
      "application/vnd.jupyter.widget-view+json": {
       "model_id": "e8e8f75567ab4534a80c2845f0e7378e",
       "version_major": 2,
       "version_minor": 0
      },
      "text/plain": [
       "HTML(value=u'<embed src=data:image/svg+xml;charset=utf-8;base64,PD94bWwgdmVyc2lvbj0nMS4wJyBlbmNvZGluZz0ndXRmLT…"
      ]
     },
     "metadata": {},
     "output_type": "display_data"
    }
   ],
   "source": [
    "chart_ts.render_widget()"
   ]
  },
  {
   "cell_type": "code",
   "execution_count": 104,
   "metadata": {},
   "outputs": [],
   "source": [
    "chart_ts.title = 'S2 mean Time Series'"
   ]
  },
  {
   "cell_type": "markdown",
   "metadata": {},
   "source": [
    "## Chart *seriesByRegion*"
   ]
  },
  {
   "cell_type": "code",
   "execution_count": 142,
   "metadata": {},
   "outputs": [
    {
     "name": "stdout",
     "output_type": "stream",
     "text": [
      "Using `seriesByRegion` with `ee.Geometry` will give you the same output as `series`, use that method instead\n"
     ]
    }
   ],
   "source": [
    "chart_ts_region = Image.seriesByRegion(**{\n",
    "    'imageCollection': time_series,\n",
    "    'reducer': ee.Reducer.median(),\n",
    "    'regions': test_site,\n",
    "    'scale': 10,\n",
    "    'band': 'B1',\n",
    "    'seriesProperty': 'name'\n",
    "})"
   ]
  },
  {
   "cell_type": "code",
   "execution_count": 143,
   "metadata": {},
   "outputs": [
    {
     "data": {
      "application/vnd.jupyter.widget-view+json": {
       "model_id": "8b63a28254204efabdda4a86122dfcb1",
       "version_major": 2,
       "version_minor": 0
      },
      "text/plain": [
       "HTML(value=u'<embed src=data:image/svg+xml;charset=utf-8;base64,PD94bWwgdmVyc2lvbj0nMS4wJyBlbmNvZGluZz0ndXRmLT…"
      ]
     },
     "metadata": {},
     "output_type": "display_data"
    }
   ],
   "source": [
    "chart_ts_region.render_widget()"
   ]
  },
  {
   "cell_type": "code",
   "execution_count": 42,
   "metadata": {},
   "outputs": [
    {
     "data": {
      "text/plain": [
       "u'mean'"
      ]
     },
     "execution_count": 42,
     "metadata": {},
     "output_type": "execute_result"
    }
   ],
   "source": [
    "ee.Reducer.mean().getInfo()['type'].split('.')[1]"
   ]
  },
  {
   "cell_type": "code",
   "execution_count": null,
   "metadata": {},
   "outputs": [],
   "source": []
  }
 ],
 "metadata": {
  "kernelspec": {
   "display_name": "Python 2",
   "language": "python",
   "name": "python2"
  },
  "language_info": {
   "codemirror_mode": {
    "name": "ipython",
    "version": 2
   },
   "file_extension": ".py",
   "mimetype": "text/x-python",
   "name": "python",
   "nbconvert_exporter": "python",
   "pygments_lexer": "ipython2",
   "version": "2.7.14"
  }
 },
 "nbformat": 4,
 "nbformat_minor": 2
}
