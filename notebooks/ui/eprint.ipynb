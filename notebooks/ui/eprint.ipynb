{
 "cells": [
  {
   "cell_type": "code",
   "execution_count": 1,
   "metadata": {},
   "outputs": [],
   "source": [
    "import ee"
   ]
  },
  {
   "cell_type": "code",
   "execution_count": 2,
   "metadata": {},
   "outputs": [],
   "source": [
    "from geetools import ui"
   ]
  },
  {
   "cell_type": "code",
   "execution_count": 3,
   "metadata": {},
   "outputs": [],
   "source": [
    "p = ee.Geometry.Point([-72, -42])"
   ]
  },
  {
   "cell_type": "code",
   "execution_count": 4,
   "metadata": {},
   "outputs": [],
   "source": [
    "import threading\n",
    "import multiprocessing"
   ]
  },
  {
   "cell_type": "code",
   "execution_count": 5,
   "metadata": {},
   "outputs": [
    {
     "data": {
      "application/vnd.jupyter.widget-view+json": {
       "model_id": "02ef80fba9b74b33ab739fd26e445c1a",
       "version_major": 2,
       "version_minor": 0
      },
      "text/plain": [
       "Output()"
      ]
     },
     "metadata": {},
     "output_type": "display_data"
    }
   ],
   "source": [
    "from IPython.display import display\n",
    "import ipywidgets as widgets\n",
    "infowin = widgets.Output()\n",
    "\n",
    "def get_info(eeobj):\n",
    "    info = eeobj.getInfo()\n",
    "    # html = widgets.HTML(str(info))\n",
    "    wid = ui.ipytools.create_accordion(info)\n",
    "    with infowin:\n",
    "        display(wid)\n",
    "        \n",
    "thread = threading.Thread(target=get_info, args=(p,))\n",
    "display(infowin)\n",
    "thread.start()"
   ]
  },
  {
   "cell_type": "code",
   "execution_count": null,
   "metadata": {},
   "outputs": [],
   "source": []
  },
  {
   "cell_type": "code",
   "execution_count": 6,
   "metadata": {},
   "outputs": [],
   "source": [
    "def eprint(*args, indent=2, notebook=True, do_async=False):\n",
    "    \"\"\" Print an EE Object. Same as `print(object.getInfo())`\n",
    "\n",
    "    :param eeobject: object to print\n",
    "    :type eeobject: ee.ComputedObject\n",
    "    :param notebook: if True, prints the object as an Accordion Widget for\n",
    "        the Jupyter Notebook\n",
    "    :type notebook: bool\n",
    "    :param indent: indentation of the print output\n",
    "    :type indent: int\n",
    "    :param do_async: call getInfo() asynchronously\n",
    "    :type do_async: bool\n",
    "    \"\"\"\n",
    "\n",
    "    import pprint\n",
    "    pp = pprint.PrettyPrinter(indent=indent)\n",
    "    \n",
    "    from IPython.display import display\n",
    "    from ipywidgets import Output, HTML\n",
    "    infowin = Output()\n",
    "    \n",
    "    info_return = []\n",
    "\n",
    "    def get_info(eeobject, from_ee, infowindow):\n",
    "        \"\"\" Get Info and append it to infowindow \"\"\"\n",
    "        if from_ee:\n",
    "            info = eeobject.getInfo()\n",
    "        else:\n",
    "            info = eeobject\n",
    "        \n",
    "        if notebook:\n",
    "            widget = HTML(str(info)+'<br/>')        \n",
    "            with infowindow:\n",
    "                display(widget)\n",
    "            info_return.append(widget)\n",
    "        else:\n",
    "            print(info)\n",
    "            info_return.append(info)\n",
    "\n",
    "    for eeobject in args:\n",
    "        module = getattr(eeobject, '__module__', None)\n",
    "        parent = module.split('.')[0] if module else None\n",
    "        if parent == ee.__name__:\n",
    "            if do_async:\n",
    "                thread = threading.Thread(target=get_info, args=(eeobject, True, infowin))\n",
    "                thread.start()\n",
    "            else:\n",
    "                get_info(eeobject, True, infowin)\n",
    "        else:\n",
    "            get_info(eeobject, False, infowin)\n",
    "    \n",
    "    display(infowin)\n",
    "    return info_return"
   ]
  },
  {
   "cell_type": "code",
   "execution_count": 7,
   "metadata": {},
   "outputs": [
    {
     "data": {
      "application/vnd.jupyter.widget-view+json": {
       "model_id": "4b8e8ebc8cb1412da3e6d8477f5f0ed5",
       "version_major": 2,
       "version_minor": 0
      },
      "text/plain": [
       "Output()"
      ]
     },
     "metadata": {},
     "output_type": "display_data"
    }
   ],
   "source": [
    "data = eprint(p, 'test', p, do_async=True, notebook=True)"
   ]
  },
  {
   "cell_type": "code",
   "execution_count": 8,
   "metadata": {},
   "outputs": [],
   "source": [
    "import threading\n",
    "import queue\n",
    "\n",
    "# https://stackoverflow.com/questions/35160417/threading-queue-working-example\n",
    "\n",
    "def worker(*args, notebook):\n",
    "    class Worker(threading.Thread):\n",
    "        def __init__(self, q, *args, **kwargs):\n",
    "            self.q = q\n",
    "            super().__init__(*args, **kwargs)\n",
    "\n",
    "        def run(self):\n",
    "            while True:\n",
    "                try:\n",
    "                    work = self.q.get(timeout=3)  # 3s timeout\n",
    "                except queue.Empty:\n",
    "                    return\n",
    "                # do whatever work you have to do on work\n",
    "                print(work.getInfo())\n",
    "                self.q.task_done()\n",
    "\n",
    "    b = [ee.Image.constant(0).add(10000).subtract(10000), p, ee.Number(1)]\n",
    "\n",
    "\n",
    "    q = queue.Queue()\n",
    "\n",
    "    for eeobj in args:\n",
    "        q.put(eeobj)\n",
    "\n",
    "    for _ in range(len(args)):\n",
    "        Worker(q).start()\n",
    "        # q.join()  # blocks until the queue is empty."
   ]
  },
  {
   "cell_type": "code",
   "execution_count": 9,
   "metadata": {},
   "outputs": [
    {
     "name": "stdout",
     "output_type": "stream",
     "text": [
      "{'geodesic': True, 'coordinates': [-72.0, -42.0], 'type': 'Point'}\n",
      "{'type': 'Image', 'bands': [{'id': 'constant', 'crs_transform': [1.0, 0.0, 0.0, 0.0, 1.0, 0.0], 'data_type': {'max': 0, 'type': 'PixelType', 'precision': 'int', 'min': 0}, 'crs': 'EPSG:4326'}]}\n",
      "1\n"
     ]
    }
   ],
   "source": [
    "class Worker(threading.Thread):\n",
    "    def __init__(self, q, *args, **kwargs):\n",
    "        self.q = q\n",
    "        super().__init__(*args, **kwargs)\n",
    "\n",
    "    def run(self):\n",
    "        while True:\n",
    "            try:\n",
    "                work = self.q.get(timeout=3)  # 3s timeout\n",
    "            except queue.Empty:\n",
    "                return\n",
    "            # do whatever work you have to do on work\n",
    "            print(work.getInfo())\n",
    "            self.q.task_done()\n",
    "\n",
    "b = [ee.Image.constant(0).add(10000).subtract(10000), p, ee.Number(1)]\n",
    "\n",
    "q = queue.Queue()\n",
    "\n",
    "for eeobj in b:\n",
    "    q.put(eeobj)\n",
    "\n",
    "for _ in range(len(b)):\n",
    "    Worker(q).start()\n",
    "    # q.join()  # blocks until the queue is empty."
   ]
  },
  {
   "cell_type": "code",
   "execution_count": null,
   "metadata": {},
   "outputs": [],
   "source": []
  }
 ],
 "metadata": {
  "kernelspec": {
   "display_name": "geepy3",
   "language": "python",
   "name": "geepy3"
  },
  "language_info": {
   "codemirror_mode": {
    "name": "ipython",
    "version": 3
   },
   "file_extension": ".py",
   "mimetype": "text/x-python",
   "name": "python",
   "nbconvert_exporter": "python",
   "pygments_lexer": "ipython3",
   "version": "3.5.2"
  }
 },
 "nbformat": 4,
 "nbformat_minor": 2
}
