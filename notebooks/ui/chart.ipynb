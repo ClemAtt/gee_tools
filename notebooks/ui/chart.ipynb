{
 "cells": [
  {
   "cell_type": "markdown",
   "metadata": {},
   "source": [
    "# chart module\n",
    "\n",
    "This module relies on `pygal` library, so the returned charts are instances of `pygal.chart`. See options at \n",
    "[pygal site][1]\n",
    "\n",
    "I made a JavaScript 'equivalent': https://code.earthengine.google.com/b2922b860b85c1120250794fb82dfda8\n",
    "\n",
    "  [1]: http://www.pygal.org/en/latest/documentation/index.html"
   ]
  },
  {
   "cell_type": "code",
   "execution_count": 1,
   "metadata": {},
   "outputs": [],
   "source": [
    "import ee\n",
    "ee.Initialize()"
   ]
  },
  {
   "cell_type": "code",
   "execution_count": 2,
   "metadata": {},
   "outputs": [],
   "source": [
    "from geetools import tools, ui"
   ]
  },
  {
   "cell_type": "code",
   "execution_count": 3,
   "metadata": {},
   "outputs": [],
   "source": [
    "test_site = ee.Geometry.Point([-71, -42])"
   ]
  },
  {
   "cell_type": "code",
   "execution_count": 4,
   "metadata": {},
   "outputs": [],
   "source": [
    "test_feat = ee.Feature(test_site, {'name': 'test feature', 'buffer':0})"
   ]
  },
  {
   "cell_type": "code",
   "execution_count": 5,
   "metadata": {},
   "outputs": [],
   "source": [
    "test_featcol = ee.FeatureCollection([\n",
    "    test_feat, \n",
    "    test_feat.buffer(100).set('name', 'buffer 100', 'buffer', 100),\n",
    "    test_feat.buffer(1000).set('name', 'buffer 1000', 'buffer', 1000)\n",
    "])"
   ]
  },
  {
   "cell_type": "markdown",
   "metadata": {},
   "source": [
    "## Time Series"
   ]
  },
  {
   "cell_type": "code",
   "execution_count": 6,
   "metadata": {},
   "outputs": [],
   "source": [
    "col = ee.ImageCollection('COPERNICUS/S2').filterBounds(test_site)"
   ]
  },
  {
   "cell_type": "code",
   "execution_count": 7,
   "metadata": {},
   "outputs": [],
   "source": [
    "time_series = col.filterDate('2018-01-01', '2018-04-01')"
   ]
  },
  {
   "cell_type": "code",
   "execution_count": 8,
   "metadata": {},
   "outputs": [],
   "source": [
    "bands = ['B1', 'B2', 'B3']"
   ]
  },
  {
   "cell_type": "markdown",
   "metadata": {},
   "source": [
    "## **Image.series**\n",
    "Chart band values across images in relation with a property or a band"
   ]
  },
  {
   "cell_type": "code",
   "execution_count": 9,
   "metadata": {},
   "outputs": [],
   "source": [
    "chart_ts = ui.chart.Image.series(**{\n",
    "    'imageCollection': time_series, \n",
    "    'region': test_site,\n",
    "    'scale': 10,\n",
    "    'bands': bands,\n",
    "    'label_bands':['band B1', 'B2 band', 'this is B3'],\n",
    "    'properties':['CLOUD_COVERAGE_ASSESSMENT'],\n",
    "    'label_properties':['CLOUD_COVER']\n",
    "})"
   ]
  },
  {
   "cell_type": "code",
   "execution_count": 10,
   "metadata": {},
   "outputs": [
    {
     "data": {
      "application/vnd.jupyter.widget-view+json": {
       "model_id": "4691e8ab045345ec84c4d5769296f2a0",
       "version_major": 2,
       "version_minor": 0
      },
      "text/plain": [
       "HTML(value='<embed src=data:image/svg+xml;charset=utf-8;base64,PD94bWwgdmVyc2lvbj0nMS4wJyBlbmNvZGluZz0ndXRmLTg…"
      ]
     },
     "metadata": {},
     "output_type": "display_data"
    }
   ],
   "source": [
    "chart_ts.render_widget(width='50%')"
   ]
  },
  {
   "cell_type": "code",
   "execution_count": 11,
   "metadata": {},
   "outputs": [
    {
     "data": {
      "text/html": [
       "<div>\n",
       "<style scoped>\n",
       "    .dataframe tbody tr th:only-of-type {\n",
       "        vertical-align: middle;\n",
       "    }\n",
       "\n",
       "    .dataframe tbody tr th {\n",
       "        vertical-align: top;\n",
       "    }\n",
       "\n",
       "    .dataframe thead th {\n",
       "        text-align: right;\n",
       "    }\n",
       "</style>\n",
       "<table border=\"1\" class=\"dataframe\">\n",
       "  <thead>\n",
       "    <tr style=\"text-align: right;\">\n",
       "      <th></th>\n",
       "      <th>this is B3</th>\n",
       "      <th>band B1</th>\n",
       "      <th>B2 band</th>\n",
       "      <th>CLOUD_COVER</th>\n",
       "    </tr>\n",
       "  </thead>\n",
       "  <tbody>\n",
       "    <tr>\n",
       "      <th>2018-01-01 14:37:52.570</th>\n",
       "      <td>2673.0</td>\n",
       "      <td>3622.0</td>\n",
       "      <td>2749.0</td>\n",
       "      <td>88.2101</td>\n",
       "    </tr>\n",
       "    <tr>\n",
       "      <th>2018-01-06 14:43:00.500</th>\n",
       "      <td>6483.0</td>\n",
       "      <td>6989.0</td>\n",
       "      <td>6841.0</td>\n",
       "      <td>98.1513</td>\n",
       "    </tr>\n",
       "    <tr>\n",
       "      <th>2018-01-16 14:38:41.740</th>\n",
       "      <td>1012.0</td>\n",
       "      <td>1196.0</td>\n",
       "      <td>1042.0</td>\n",
       "      <td>0.0646</td>\n",
       "    </tr>\n",
       "    <tr>\n",
       "      <th>2018-01-21 14:41:57.890</th>\n",
       "      <td>1035.0</td>\n",
       "      <td>1232.0</td>\n",
       "      <td>1070.0</td>\n",
       "      <td>58.2937</td>\n",
       "    </tr>\n",
       "    <tr>\n",
       "      <th>2018-01-26 14:40:02.120</th>\n",
       "      <td>1038.0</td>\n",
       "      <td>1210.0</td>\n",
       "      <td>1082.0</td>\n",
       "      <td>0.2448</td>\n",
       "    </tr>\n",
       "    <tr>\n",
       "      <th>2018-02-05 14:36:43.690</th>\n",
       "      <td>1037.0</td>\n",
       "      <td>1196.0</td>\n",
       "      <td>1072.0</td>\n",
       "      <td>0.0204</td>\n",
       "    </tr>\n",
       "    <tr>\n",
       "      <th>2018-02-10 14:42:58.290</th>\n",
       "      <td>4290.0</td>\n",
       "      <td>4730.0</td>\n",
       "      <td>4153.0</td>\n",
       "      <td>30.9238</td>\n",
       "    </tr>\n",
       "    <tr>\n",
       "      <th>2018-02-15 14:40:26.370</th>\n",
       "      <td>1020.0</td>\n",
       "      <td>1212.0</td>\n",
       "      <td>1069.0</td>\n",
       "      <td>0.0000</td>\n",
       "    </tr>\n",
       "    <tr>\n",
       "      <th>2018-02-20 14:33:53.510</th>\n",
       "      <td>1036.0</td>\n",
       "      <td>1230.0</td>\n",
       "      <td>1077.0</td>\n",
       "      <td>0.0121</td>\n",
       "    </tr>\n",
       "    <tr>\n",
       "      <th>2018-02-25 14:37:50.240</th>\n",
       "      <td>1019.0</td>\n",
       "      <td>1234.0</td>\n",
       "      <td>1091.0</td>\n",
       "      <td>0.4717</td>\n",
       "    </tr>\n",
       "    <tr>\n",
       "      <th>2018-03-02 14:43:01.890</th>\n",
       "      <td>1052.0</td>\n",
       "      <td>1228.0</td>\n",
       "      <td>1094.0</td>\n",
       "      <td>0.0000</td>\n",
       "    </tr>\n",
       "    <tr>\n",
       "      <th>2018-03-07 14:36:40.690</th>\n",
       "      <td>1055.0</td>\n",
       "      <td>1220.0</td>\n",
       "      <td>1076.0</td>\n",
       "      <td>0.0148</td>\n",
       "    </tr>\n",
       "    <tr>\n",
       "      <th>2018-03-12 14:36:45.680</th>\n",
       "      <td>4814.0</td>\n",
       "      <td>5176.0</td>\n",
       "      <td>4903.0</td>\n",
       "      <td>16.0556</td>\n",
       "    </tr>\n",
       "    <tr>\n",
       "      <th>2018-03-17 14:36:42.690</th>\n",
       "      <td>4792.0</td>\n",
       "      <td>5532.0</td>\n",
       "      <td>5218.0</td>\n",
       "      <td>95.7127</td>\n",
       "    </tr>\n",
       "    <tr>\n",
       "      <th>2018-03-22 14:36:47.680</th>\n",
       "      <td>1316.0</td>\n",
       "      <td>1467.0</td>\n",
       "      <td>1391.0</td>\n",
       "      <td>56.3747</td>\n",
       "    </tr>\n",
       "    <tr>\n",
       "      <th>2018-03-27 14:32:51.510</th>\n",
       "      <td>1318.0</td>\n",
       "      <td>1521.0</td>\n",
       "      <td>1378.0</td>\n",
       "      <td>51.1411</td>\n",
       "    </tr>\n",
       "  </tbody>\n",
       "</table>\n",
       "</div>"
      ],
      "text/plain": [
       "                         this is B3  band B1  B2 band  CLOUD_COVER\n",
       "2018-01-01 14:37:52.570      2673.0   3622.0   2749.0      88.2101\n",
       "2018-01-06 14:43:00.500      6483.0   6989.0   6841.0      98.1513\n",
       "2018-01-16 14:38:41.740      1012.0   1196.0   1042.0       0.0646\n",
       "2018-01-21 14:41:57.890      1035.0   1232.0   1070.0      58.2937\n",
       "2018-01-26 14:40:02.120      1038.0   1210.0   1082.0       0.2448\n",
       "2018-02-05 14:36:43.690      1037.0   1196.0   1072.0       0.0204\n",
       "2018-02-10 14:42:58.290      4290.0   4730.0   4153.0      30.9238\n",
       "2018-02-15 14:40:26.370      1020.0   1212.0   1069.0       0.0000\n",
       "2018-02-20 14:33:53.510      1036.0   1230.0   1077.0       0.0121\n",
       "2018-02-25 14:37:50.240      1019.0   1234.0   1091.0       0.4717\n",
       "2018-03-02 14:43:01.890      1052.0   1228.0   1094.0       0.0000\n",
       "2018-03-07 14:36:40.690      1055.0   1220.0   1076.0       0.0148\n",
       "2018-03-12 14:36:45.680      4814.0   5176.0   4903.0      16.0556\n",
       "2018-03-17 14:36:42.690      4792.0   5532.0   5218.0      95.7127\n",
       "2018-03-22 14:36:47.680      1316.0   1467.0   1391.0      56.3747\n",
       "2018-03-27 14:32:51.510      1318.0   1521.0   1378.0      51.1411"
      ]
     },
     "execution_count": 11,
     "metadata": {},
     "output_type": "execute_result"
    }
   ],
   "source": [
    "chart_ts.dataframe"
   ]
  },
  {
   "cell_type": "markdown",
   "metadata": {},
   "source": [
    "## **Image.seriesByRegion**\n",
    "Chart the value of one band in different regions in relation with a property or a band"
   ]
  },
  {
   "cell_type": "code",
   "execution_count": 12,
   "metadata": {},
   "outputs": [],
   "source": [
    "chart_ts_region = ui.chart.Image.seriesByRegion(**{\n",
    "    'imageCollection': time_series,\n",
    "    'reducer': ee.Reducer.median(),\n",
    "    'regions': test_featcol,\n",
    "    'scale': 10,\n",
    "    'band': 'B11',\n",
    "    'seriesProperty': 'name'\n",
    "})"
   ]
  },
  {
   "cell_type": "code",
   "execution_count": 13,
   "metadata": {},
   "outputs": [
    {
     "data": {
      "application/vnd.jupyter.widget-view+json": {
       "model_id": "3967d3153e0f40bf8100111ffd46e00a",
       "version_major": 2,
       "version_minor": 0
      },
      "text/plain": [
       "HTML(value='<embed src=data:image/svg+xml;charset=utf-8;base64,PD94bWwgdmVyc2lvbj0nMS4wJyBlbmNvZGluZz0ndXRmLTg…"
      ]
     },
     "metadata": {},
     "output_type": "display_data"
    }
   ],
   "source": [
    "chart_ts_region.render_widget(width=800)"
   ]
  },
  {
   "cell_type": "code",
   "execution_count": 14,
   "metadata": {},
   "outputs": [
    {
     "data": {
      "text/html": [
       "<div>\n",
       "<style scoped>\n",
       "    .dataframe tbody tr th:only-of-type {\n",
       "        vertical-align: middle;\n",
       "    }\n",
       "\n",
       "    .dataframe tbody tr th {\n",
       "        vertical-align: top;\n",
       "    }\n",
       "\n",
       "    .dataframe thead th {\n",
       "        text-align: right;\n",
       "    }\n",
       "</style>\n",
       "<table border=\"1\" class=\"dataframe\">\n",
       "  <thead>\n",
       "    <tr style=\"text-align: right;\">\n",
       "      <th></th>\n",
       "      <th>this is B3</th>\n",
       "      <th>band B1</th>\n",
       "      <th>B2 band</th>\n",
       "      <th>CLOUD_COVER</th>\n",
       "    </tr>\n",
       "  </thead>\n",
       "  <tbody>\n",
       "    <tr>\n",
       "      <th>2018-01-01 14:37:52.570</th>\n",
       "      <td>2673.0</td>\n",
       "      <td>3622.0</td>\n",
       "      <td>2749.0</td>\n",
       "      <td>88.2101</td>\n",
       "    </tr>\n",
       "    <tr>\n",
       "      <th>2018-01-06 14:43:00.500</th>\n",
       "      <td>6483.0</td>\n",
       "      <td>6989.0</td>\n",
       "      <td>6841.0</td>\n",
       "      <td>98.1513</td>\n",
       "    </tr>\n",
       "    <tr>\n",
       "      <th>2018-01-16 14:38:41.740</th>\n",
       "      <td>1012.0</td>\n",
       "      <td>1196.0</td>\n",
       "      <td>1042.0</td>\n",
       "      <td>0.0646</td>\n",
       "    </tr>\n",
       "    <tr>\n",
       "      <th>2018-01-21 14:41:57.890</th>\n",
       "      <td>1035.0</td>\n",
       "      <td>1232.0</td>\n",
       "      <td>1070.0</td>\n",
       "      <td>58.2937</td>\n",
       "    </tr>\n",
       "    <tr>\n",
       "      <th>2018-01-26 14:40:02.120</th>\n",
       "      <td>1038.0</td>\n",
       "      <td>1210.0</td>\n",
       "      <td>1082.0</td>\n",
       "      <td>0.2448</td>\n",
       "    </tr>\n",
       "    <tr>\n",
       "      <th>2018-02-05 14:36:43.690</th>\n",
       "      <td>1037.0</td>\n",
       "      <td>1196.0</td>\n",
       "      <td>1072.0</td>\n",
       "      <td>0.0204</td>\n",
       "    </tr>\n",
       "    <tr>\n",
       "      <th>2018-02-10 14:42:58.290</th>\n",
       "      <td>4290.0</td>\n",
       "      <td>4730.0</td>\n",
       "      <td>4153.0</td>\n",
       "      <td>30.9238</td>\n",
       "    </tr>\n",
       "    <tr>\n",
       "      <th>2018-02-15 14:40:26.370</th>\n",
       "      <td>1020.0</td>\n",
       "      <td>1212.0</td>\n",
       "      <td>1069.0</td>\n",
       "      <td>0.0000</td>\n",
       "    </tr>\n",
       "    <tr>\n",
       "      <th>2018-02-20 14:33:53.510</th>\n",
       "      <td>1036.0</td>\n",
       "      <td>1230.0</td>\n",
       "      <td>1077.0</td>\n",
       "      <td>0.0121</td>\n",
       "    </tr>\n",
       "    <tr>\n",
       "      <th>2018-02-25 14:37:50.240</th>\n",
       "      <td>1019.0</td>\n",
       "      <td>1234.0</td>\n",
       "      <td>1091.0</td>\n",
       "      <td>0.4717</td>\n",
       "    </tr>\n",
       "    <tr>\n",
       "      <th>2018-03-02 14:43:01.890</th>\n",
       "      <td>1052.0</td>\n",
       "      <td>1228.0</td>\n",
       "      <td>1094.0</td>\n",
       "      <td>0.0000</td>\n",
       "    </tr>\n",
       "    <tr>\n",
       "      <th>2018-03-07 14:36:40.690</th>\n",
       "      <td>1055.0</td>\n",
       "      <td>1220.0</td>\n",
       "      <td>1076.0</td>\n",
       "      <td>0.0148</td>\n",
       "    </tr>\n",
       "    <tr>\n",
       "      <th>2018-03-12 14:36:45.680</th>\n",
       "      <td>4814.0</td>\n",
       "      <td>5176.0</td>\n",
       "      <td>4903.0</td>\n",
       "      <td>16.0556</td>\n",
       "    </tr>\n",
       "    <tr>\n",
       "      <th>2018-03-17 14:36:42.690</th>\n",
       "      <td>4792.0</td>\n",
       "      <td>5532.0</td>\n",
       "      <td>5218.0</td>\n",
       "      <td>95.7127</td>\n",
       "    </tr>\n",
       "    <tr>\n",
       "      <th>2018-03-22 14:36:47.680</th>\n",
       "      <td>1316.0</td>\n",
       "      <td>1467.0</td>\n",
       "      <td>1391.0</td>\n",
       "      <td>56.3747</td>\n",
       "    </tr>\n",
       "    <tr>\n",
       "      <th>2018-03-27 14:32:51.510</th>\n",
       "      <td>1318.0</td>\n",
       "      <td>1521.0</td>\n",
       "      <td>1378.0</td>\n",
       "      <td>51.1411</td>\n",
       "    </tr>\n",
       "  </tbody>\n",
       "</table>\n",
       "</div>"
      ],
      "text/plain": [
       "                         this is B3  band B1  B2 band  CLOUD_COVER\n",
       "2018-01-01 14:37:52.570      2673.0   3622.0   2749.0      88.2101\n",
       "2018-01-06 14:43:00.500      6483.0   6989.0   6841.0      98.1513\n",
       "2018-01-16 14:38:41.740      1012.0   1196.0   1042.0       0.0646\n",
       "2018-01-21 14:41:57.890      1035.0   1232.0   1070.0      58.2937\n",
       "2018-01-26 14:40:02.120      1038.0   1210.0   1082.0       0.2448\n",
       "2018-02-05 14:36:43.690      1037.0   1196.0   1072.0       0.0204\n",
       "2018-02-10 14:42:58.290      4290.0   4730.0   4153.0      30.9238\n",
       "2018-02-15 14:40:26.370      1020.0   1212.0   1069.0       0.0000\n",
       "2018-02-20 14:33:53.510      1036.0   1230.0   1077.0       0.0121\n",
       "2018-02-25 14:37:50.240      1019.0   1234.0   1091.0       0.4717\n",
       "2018-03-02 14:43:01.890      1052.0   1228.0   1094.0       0.0000\n",
       "2018-03-07 14:36:40.690      1055.0   1220.0   1076.0       0.0148\n",
       "2018-03-12 14:36:45.680      4814.0   5176.0   4903.0      16.0556\n",
       "2018-03-17 14:36:42.690      4792.0   5532.0   5218.0      95.7127\n",
       "2018-03-22 14:36:47.680      1316.0   1467.0   1391.0      56.3747\n",
       "2018-03-27 14:32:51.510      1318.0   1521.0   1378.0      51.1411"
      ]
     },
     "execution_count": 14,
     "metadata": {},
     "output_type": "execute_result"
    }
   ],
   "source": [
    "chart_ts.dataframe"
   ]
  },
  {
   "cell_type": "markdown",
   "metadata": {},
   "source": [
    "## Chart band values in one image across features in relation with a property value or a band"
   ]
  },
  {
   "cell_type": "code",
   "execution_count": 23,
   "metadata": {},
   "outputs": [],
   "source": [
    "chart_band = ui.chart.Image.bandsByRegion(**{\n",
    "    'image': ee.Image(time_series.first()), \n",
    "    'collection': test_featcol,\n",
    "    'reducer': 'mean',\n",
    "    'scale': 10,\n",
    "    'bands': ['B1', 'B2', 'B3'],\n",
    "    'xProperty': 'buffer', # You can use a band too!\n",
    "    'labels': ['B1 mean', 'B2 mean', 'B3 mean']\n",
    "})"
   ]
  },
  {
   "cell_type": "code",
   "execution_count": 24,
   "metadata": {},
   "outputs": [
    {
     "data": {
      "application/vnd.jupyter.widget-view+json": {
       "model_id": "01b4bbcc6a6947a4bab41b31c2078bb8",
       "version_major": 2,
       "version_minor": 0
      },
      "text/plain": [
       "HTML(value='<embed src=data:image/svg+xml;charset=utf-8;base64,PD94bWwgdmVyc2lvbj0nMS4wJyBlbmNvZGluZz0ndXRmLTg…"
      ]
     },
     "metadata": {},
     "output_type": "display_data"
    }
   ],
   "source": [
    "chart_band.render_widget(width=800)"
   ]
  },
  {
   "cell_type": "code",
   "execution_count": 25,
   "metadata": {},
   "outputs": [
    {
     "data": {
      "text/html": [
       "<div>\n",
       "<style scoped>\n",
       "    .dataframe tbody tr th:only-of-type {\n",
       "        vertical-align: middle;\n",
       "    }\n",
       "\n",
       "    .dataframe tbody tr th {\n",
       "        vertical-align: top;\n",
       "    }\n",
       "\n",
       "    .dataframe thead th {\n",
       "        text-align: right;\n",
       "    }\n",
       "</style>\n",
       "<table border=\"1\" class=\"dataframe\">\n",
       "  <thead>\n",
       "    <tr style=\"text-align: right;\">\n",
       "      <th></th>\n",
       "      <th>B3 mean</th>\n",
       "      <th>B2 mean</th>\n",
       "      <th>B1 mean</th>\n",
       "    </tr>\n",
       "  </thead>\n",
       "  <tbody>\n",
       "    <tr>\n",
       "      <th>0</th>\n",
       "      <td>2673.000000</td>\n",
       "      <td>2749.000000</td>\n",
       "      <td>3622.000000</td>\n",
       "    </tr>\n",
       "    <tr>\n",
       "      <th>100</th>\n",
       "      <td>2665.863711</td>\n",
       "      <td>2781.726426</td>\n",
       "      <td>3547.196452</td>\n",
       "    </tr>\n",
       "    <tr>\n",
       "      <th>1000</th>\n",
       "      <td>2811.374592</td>\n",
       "      <td>2983.575209</td>\n",
       "      <td>3373.623957</td>\n",
       "    </tr>\n",
       "  </tbody>\n",
       "</table>\n",
       "</div>"
      ],
      "text/plain": [
       "          B3 mean      B2 mean      B1 mean\n",
       "0     2673.000000  2749.000000  3622.000000\n",
       "100   2665.863711  2781.726426  3547.196452\n",
       "1000  2811.374592  2983.575209  3373.623957"
      ]
     },
     "execution_count": 25,
     "metadata": {},
     "output_type": "execute_result"
    }
   ],
   "source": [
    "chart_band.dataframe"
   ]
  },
  {
   "cell_type": "markdown",
   "metadata": {},
   "source": [
    "## Concatenate Charts"
   ]
  },
  {
   "cell_type": "markdown",
   "metadata": {},
   "source": [
    "### Concatenate mean with median"
   ]
  },
  {
   "cell_type": "code",
   "execution_count": 26,
   "metadata": {},
   "outputs": [],
   "source": [
    "chart_band_median = ui.chart.Image.bandsByRegion(**{\n",
    "    'image': ee.Image(time_series.first()), \n",
    "    'collection': test_featcol,\n",
    "    'reducer': 'median',\n",
    "    'scale': 10,\n",
    "    'bands': ['B1', 'B2', 'B3'],\n",
    "    'xProperty': 'buffer', # You can use a band too!\n",
    "    'labels': ['B1 median', 'B2 median', 'B3 median']\n",
    "})"
   ]
  },
  {
   "cell_type": "code",
   "execution_count": 27,
   "metadata": {},
   "outputs": [
    {
     "data": {
      "application/vnd.jupyter.widget-view+json": {
       "model_id": "1c816e2173fa4352a723baa3941f5d08",
       "version_major": 2,
       "version_minor": 0
      },
      "text/plain": [
       "HTML(value='<embed src=data:image/svg+xml;charset=utf-8;base64,PD94bWwgdmVyc2lvbj0nMS4wJyBlbmNvZGluZz0ndXRmLTg…"
      ]
     },
     "metadata": {},
     "output_type": "display_data"
    }
   ],
   "source": [
    "chart_band_median.render_widget(width=800)"
   ]
  },
  {
   "cell_type": "code",
   "execution_count": 28,
   "metadata": {},
   "outputs": [],
   "source": [
    "median_mean = chart_band_median.cat(chart_band)"
   ]
  },
  {
   "cell_type": "code",
   "execution_count": 29,
   "metadata": {},
   "outputs": [
    {
     "data": {
      "application/vnd.jupyter.widget-view+json": {
       "model_id": "fe04547316844989b530baab7b1a83bc",
       "version_major": 2,
       "version_minor": 0
      },
      "text/plain": [
       "HTML(value='<embed src=data:image/svg+xml;charset=utf-8;base64,PD94bWwgdmVyc2lvbj0nMS4wJyBlbmNvZGluZz0ndXRmLTg…"
      ]
     },
     "metadata": {},
     "output_type": "display_data"
    }
   ],
   "source": [
    "median_mean.render_widget(width=800)"
   ]
  },
  {
   "cell_type": "code",
   "execution_count": 30,
   "metadata": {},
   "outputs": [
    {
     "data": {
      "text/html": [
       "<div>\n",
       "<style scoped>\n",
       "    .dataframe tbody tr th:only-of-type {\n",
       "        vertical-align: middle;\n",
       "    }\n",
       "\n",
       "    .dataframe tbody tr th {\n",
       "        vertical-align: top;\n",
       "    }\n",
       "\n",
       "    .dataframe thead th {\n",
       "        text-align: right;\n",
       "    }\n",
       "</style>\n",
       "<table border=\"1\" class=\"dataframe\">\n",
       "  <thead>\n",
       "    <tr style=\"text-align: right;\">\n",
       "      <th></th>\n",
       "      <th>B3 mean</th>\n",
       "      <th>B1 median</th>\n",
       "      <th>B2 mean</th>\n",
       "      <th>B3 median</th>\n",
       "      <th>B2 median</th>\n",
       "      <th>B1 mean</th>\n",
       "    </tr>\n",
       "  </thead>\n",
       "  <tbody>\n",
       "    <tr>\n",
       "      <th>0</th>\n",
       "      <td>2673.000000</td>\n",
       "      <td>3622.000</td>\n",
       "      <td>2749.000000</td>\n",
       "      <td>2673.000000</td>\n",
       "      <td>2749.000000</td>\n",
       "      <td>3622.000000</td>\n",
       "    </tr>\n",
       "    <tr>\n",
       "      <th>100</th>\n",
       "      <td>2665.863711</td>\n",
       "      <td>3563.000</td>\n",
       "      <td>2781.726426</td>\n",
       "      <td>2640.666667</td>\n",
       "      <td>2781.000000</td>\n",
       "      <td>3547.196452</td>\n",
       "    </tr>\n",
       "    <tr>\n",
       "      <th>1000</th>\n",
       "      <td>2811.374592</td>\n",
       "      <td>3496.375</td>\n",
       "      <td>2983.575209</td>\n",
       "      <td>2854.880285</td>\n",
       "      <td>2983.859858</td>\n",
       "      <td>3373.623957</td>\n",
       "    </tr>\n",
       "  </tbody>\n",
       "</table>\n",
       "</div>"
      ],
      "text/plain": [
       "          B3 mean  B1 median      B2 mean    B3 median    B2 median  \\\n",
       "0     2673.000000   3622.000  2749.000000  2673.000000  2749.000000   \n",
       "100   2665.863711   3563.000  2781.726426  2640.666667  2781.000000   \n",
       "1000  2811.374592   3496.375  2983.575209  2854.880285  2983.859858   \n",
       "\n",
       "          B1 mean  \n",
       "0     3622.000000  \n",
       "100   3547.196452  \n",
       "1000  3373.623957  "
      ]
     },
     "execution_count": 30,
     "metadata": {},
     "output_type": "execute_result"
    }
   ],
   "source": [
    "median_mean.dataframe"
   ]
  },
  {
   "cell_type": "code",
   "execution_count": null,
   "metadata": {},
   "outputs": [],
   "source": []
  }
 ],
 "metadata": {
  "kernelspec": {
   "display_name": "Python 3",
   "language": "python",
   "name": "python3"
  },
  "language_info": {
   "codemirror_mode": {
    "name": "ipython",
    "version": 3
   },
   "file_extension": ".py",
   "mimetype": "text/x-python",
   "name": "python",
   "nbconvert_exporter": "python",
   "pygments_lexer": "ipython3",
   "version": "3.5.2"
  }
 },
 "nbformat": 4,
 "nbformat_minor": 2
}
