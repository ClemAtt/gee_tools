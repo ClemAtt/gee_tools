{
 "cells": [
  {
   "cell_type": "markdown",
   "metadata": {},
   "source": [
    "# Interactive Maps for Google Earth Engine Python API\n",
    "\n",
    "### This notebook is a showcase of a new feature of `geetools`, and it is still under active development on https://github.com/gee-community/gee_tools. There are 2 options:\n",
    "\n",
    "## 1. maptool\n",
    "### Based on https://github.com/mccarthyryanc/folium_gee but improved in order to 'emulate' the behavior of Map in the Code Editor. \n",
    "#### Pros:\n",
    "1. This module can be use to generate html for other purposes like webapps, etc\n",
    "2. Can change zoom with mouse scroll\n",
    "\n",
    "#### Cons:\n",
    "1. When using this module you have to complete the Map (addLayer, etc), and at the end use `Map.show()` to show the map. Can't add more layers afterwards.\n",
    "2. Takes a long time to show the map\n",
    "\n",
    "## 2. ipymap\n",
    "### Based on https://github.com/gee-community/ee-jupyter-contrib/blob/master/examples/getting-started/display-interactive-map.ipynb\n",
    "#### Pros and cons are the opposite to `maptool`\n",
    "\n",
    "#### *(I'll try to keep this notebook up to date)*"
   ]
  },
  {
   "cell_type": "markdown",
   "metadata": {},
   "source": [
    "# Make imports"
   ]
  },
  {
   "cell_type": "code",
   "execution_count": 1,
   "metadata": {},
   "outputs": [],
   "source": [
    "import ee\n",
    "ee.Initialize()"
   ]
  },
  {
   "cell_type": "markdown",
   "metadata": {},
   "source": [
    "# Get an image"
   ]
  },
  {
   "cell_type": "code",
   "execution_count": 2,
   "metadata": {},
   "outputs": [],
   "source": [
    "col = ee.ImageCollection('COPERNICUS/S2')\n",
    "site = ee.Geometry.Point([-72, -42])\n",
    "col = col.filterBounds(site).filterMetadata('CLOUD_COVERAGE_ASSESSMENT', 'less_than', 40)\n",
    "i = ee.Image(col.first())\n",
    "igeom = i.geometry()"
   ]
  },
  {
   "cell_type": "markdown",
   "metadata": {},
   "source": [
    "# define visualization parameters (dict)"
   ]
  },
  {
   "cell_type": "code",
   "execution_count": 3,
   "metadata": {},
   "outputs": [],
   "source": [
    "visParam = {'bands':['B8', 'B11', 'B4'], 'min':0, 'max':5000}"
   ]
  },
  {
   "cell_type": "markdown",
   "metadata": {},
   "source": [
    "## define inspection\n",
    "### `addLayer` has a parameter called `inspect` that defines de content for a pop up, which is a dict with the following keys:\n",
    "1. data: eeObject from where to get the data\n",
    "2. reducer: can be 'first', 'mean', 'media' and 'sum'\n",
    "3. scale: scale to use in the reduction. If not provided, it uses the nominalScale for the image's first band"
   ]
  },
  {
   "cell_type": "code",
   "execution_count": 4,
   "metadata": {},
   "outputs": [],
   "source": [
    "inspect = {'data':i, 'reducer':'mean'}"
   ]
  },
  {
   "cell_type": "markdown",
   "metadata": {},
   "source": [
    "# Plot the image into an interactive Map using `maptool` (Folium)"
   ]
  },
  {
   "cell_type": "code",
   "execution_count": 5,
   "metadata": {},
   "outputs": [
    {
     "data": {
      "text/html": [
       "<div style=\"width:100%;\"><div style=\"position:relative;width:100%;height:0;padding-bottom:60%;\"><iframe src=\"data:text/html;charset=utf-8;base64,PCFET0NUWVBFIGh0bWw+CjxoZWFkPiAgICAKICAgIDxtZXRhIGh0dHAtZXF1aXY9ImNvbnRlbnQtdHlwZSIgY29udGVudD0idGV4dC9odG1sOyBjaGFyc2V0PVVURi04IiAvPgogICAgPHNjcmlwdD5MX1BSRUZFUl9DQU5WQVM9ZmFsc2U7IExfTk9fVE9VQ0g9ZmFsc2U7IExfRElTQUJMRV8zRD1mYWxzZTs8L3NjcmlwdD4KICAgIDxzY3JpcHQgc3JjPSJodHRwczovL2Nkbi5qc2RlbGl2ci5uZXQvbnBtL2xlYWZsZXRAMS4yLjAvZGlzdC9sZWFmbGV0LmpzIj48L3NjcmlwdD4KICAgIDxzY3JpcHQgc3JjPSJodHRwczovL2FqYXguZ29vZ2xlYXBpcy5jb20vYWpheC9saWJzL2pxdWVyeS8xLjExLjEvanF1ZXJ5Lm1pbi5qcyI+PC9zY3JpcHQ+CiAgICA8c2NyaXB0IHNyYz0iaHR0cHM6Ly9tYXhjZG4uYm9vdHN0cmFwY2RuLmNvbS9ib290c3RyYXAvMy4yLjAvanMvYm9vdHN0cmFwLm1pbi5qcyI+PC9zY3JpcHQ+CiAgICA8c2NyaXB0IHNyYz0iaHR0cHM6Ly9jZG5qcy5jbG91ZGZsYXJlLmNvbS9hamF4L2xpYnMvTGVhZmxldC5hd2Vzb21lLW1hcmtlcnMvMi4wLjIvbGVhZmxldC5hd2Vzb21lLW1hcmtlcnMuanMiPjwvc2NyaXB0PgogICAgPGxpbmsgcmVsPSJzdHlsZXNoZWV0IiBocmVmPSJodHRwczovL2Nkbi5qc2RlbGl2ci5uZXQvbnBtL2xlYWZsZXRAMS4yLjAvZGlzdC9sZWFmbGV0LmNzcyIvPgogICAgPGxpbmsgcmVsPSJzdHlsZXNoZWV0IiBocmVmPSJodHRwczovL21heGNkbi5ib290c3RyYXBjZG4uY29tL2Jvb3RzdHJhcC8zLjIuMC9jc3MvYm9vdHN0cmFwLm1pbi5jc3MiLz4KICAgIDxsaW5rIHJlbD0ic3R5bGVzaGVldCIgaHJlZj0iaHR0cHM6Ly9tYXhjZG4uYm9vdHN0cmFwY2RuLmNvbS9ib290c3RyYXAvMy4yLjAvY3NzL2Jvb3RzdHJhcC10aGVtZS5taW4uY3NzIi8+CiAgICA8bGluayByZWw9InN0eWxlc2hlZXQiIGhyZWY9Imh0dHBzOi8vbWF4Y2RuLmJvb3RzdHJhcGNkbi5jb20vZm9udC1hd2Vzb21lLzQuNi4zL2Nzcy9mb250LWF3ZXNvbWUubWluLmNzcyIvPgogICAgPGxpbmsgcmVsPSJzdHlsZXNoZWV0IiBocmVmPSJodHRwczovL2NkbmpzLmNsb3VkZmxhcmUuY29tL2FqYXgvbGlicy9MZWFmbGV0LmF3ZXNvbWUtbWFya2Vycy8yLjAuMi9sZWFmbGV0LmF3ZXNvbWUtbWFya2Vycy5jc3MiLz4KICAgIDxsaW5rIHJlbD0ic3R5bGVzaGVldCIgaHJlZj0iaHR0cHM6Ly9yYXdnaXQuY29tL3B5dGhvbi12aXN1YWxpemF0aW9uL2ZvbGl1bS9tYXN0ZXIvZm9saXVtL3RlbXBsYXRlcy9sZWFmbGV0LmF3ZXNvbWUucm90YXRlLmNzcyIvPgogICAgPHN0eWxlPmh0bWwsIGJvZHkge3dpZHRoOiAxMDAlO2hlaWdodDogMTAwJTttYXJnaW46IDA7cGFkZGluZzogMDt9PC9zdHlsZT4KICAgIDxzdHlsZT4jbWFwIHtwb3NpdGlvbjphYnNvbHV0ZTt0b3A6MDtib3R0b206MDtyaWdodDowO2xlZnQ6MDt9PC9zdHlsZT4KICAgIAogICAgPHN0eWxlPiNtYXBfZDBmYmJhN2E4ODQwNDkwYTgxOTY1MjljMDc4MjM3NGQgewogICAgICAgIHBvc2l0aW9uOiByZWxhdGl2ZTsKICAgICAgICB3aWR0aDogMTAwLjAlOwogICAgICAgIGhlaWdodDogMTAwLjAlOwogICAgICAgIGxlZnQ6IDAuMCU7CiAgICAgICAgdG9wOiAwLjAlOwogICAgICAgIH0KICAgIDwvc3R5bGU+CjwvaGVhZD4KPGJvZHk+ICAgIAogICAgCiAgICA8ZGl2IGNsYXNzPSJmb2xpdW0tbWFwIiBpZD0ibWFwX2QwZmJiYTdhODg0MDQ5MGE4MTk2NTI5YzA3ODIzNzRkIiA+PC9kaXY+CjwvYm9keT4KPHNjcmlwdD4gICAgCiAgICAKICAgIAogICAgICAgIHZhciBib3VuZHMgPSBudWxsOwogICAgCgogICAgdmFyIG1hcF9kMGZiYmE3YTg4NDA0OTBhODE5NjUyOWMwNzgyMzc0ZCA9IEwubWFwKAogICAgICAgICdtYXBfZDBmYmJhN2E4ODQwNDkwYTgxOTY1MjljMDc4MjM3NGQnLCB7CiAgICAgICAgY2VudGVyOiBbMCwgMF0sCiAgICAgICAgem9vbTogMSwKICAgICAgICBtYXhCb3VuZHM6IGJvdW5kcywKICAgICAgICBsYXllcnM6IFtdLAogICAgICAgIHdvcmxkQ29weUp1bXA6IGZhbHNlLAogICAgICAgIGNyczogTC5DUlMuRVBTRzM4NTcsCiAgICAgICAgem9vbUNvbnRyb2w6IHRydWUsCiAgICAgICAgfSk7CgogICAgCiAgICAKICAgIHZhciB0aWxlX2xheWVyXzY3MjYzNTBkNTFiYzRkZGJhNDJkMTJhZTNmNTIwOGZiID0gTC50aWxlTGF5ZXIoCiAgICAgICAgJ2h0dHBzOi8ve3N9LnRpbGUub3BlbnN0cmVldG1hcC5vcmcve3p9L3t4fS97eX0ucG5nJywKICAgICAgICB7CiAgICAgICAgImF0dHJpYnV0aW9uIjogbnVsbCwKICAgICAgICAiZGV0ZWN0UmV0aW5hIjogZmFsc2UsCiAgICAgICAgIm1heE5hdGl2ZVpvb20iOiAxOCwKICAgICAgICAibWF4Wm9vbSI6IDE4LAogICAgICAgICJtaW5ab29tIjogMCwKICAgICAgICAibm9XcmFwIjogZmFsc2UsCiAgICAgICAgInN1YmRvbWFpbnMiOiAiYWJjIgp9KS5hZGRUbyhtYXBfZDBmYmJhN2E4ODQwNDkwYTgxOTY1MjljMDc4MjM3NGQpOwogICAgdmFyIHRpbGVfbGF5ZXJfN2I3YmJmYjM1ZjVmNDllNmE3MThhNGNhMDE4MzM5M2IgPSBMLnRpbGVMYXllcigKICAgICAgICAnaHR0cHM6Ly9lYXJ0aGVuZ2luZS5nb29nbGVhcGlzLmNvbS9tYXAvMmIzNTNiZWMwMTNkNmY4MDc4MWU4YTAzM2YzNmViYjcve3p9L3t4fS97eX0/dG9rZW49NzBlNTMxMDJiYTZjYjIzYzI4MmVhMDVlNWM5MWM0YjgnLAogICAgICAgIHsKICAgICAgICAiYXR0cmlidXRpb24iOiAiTWFwIERhdGEgJmNvcHk7IDxhIGhyZWY9XCJodHRwczovL2VhcnRoZW5naW5lLmdvb2dsZS5jb20vXCI+R29vZ2xlIEVhcnRoIEVuZ2luZTwvYT4gIiwKICAgICAgICAiZGV0ZWN0UmV0aW5hIjogZmFsc2UsCiAgICAgICAgIm1heE5hdGl2ZVpvb20iOiAxOCwKICAgICAgICAibWF4Wm9vbSI6IDE4LAogICAgICAgICJtaW5ab29tIjogMCwKICAgICAgICAibm9XcmFwIjogZmFsc2UsCiAgICAgICAgInN1YmRvbWFpbnMiOiAiYWJjIgp9KS5hZGRUbyhtYXBfZDBmYmJhN2E4ODQwNDkwYTgxOTY1MjljMDc4MjM3NGQpOwogICAgCiAgICAgICAgICAgICAgICAKCiAgICAgICAgICAgICAgICBtYXBfZDBmYmJhN2E4ODQwNDkwYTgxOTY1MjljMDc4MjM3NGQuZml0Qm91bmRzKAogICAgICAgICAgICAgICAgICAgIFtbLTQyLjUxNDI4MTEyOTkxMTUzLCAtNzIuNTkzMjE4NTI1Nzg0XSwgWy00MS44MDEwNzAzNjU0NDY1LCAtNzEuMjMxNzUyOTQ4NDk2MTRdXSwKICAgICAgICAgICAgICAgICAgICB7fQogICAgICAgICAgICAgICAgICAgICk7CiAgICAgICAgICAgIAogICAgCiAgICAgICAgCiAgICAgICAgdmFyIGdlb19qc29uXzlhYWVmYzQ5YzU2NjQ4OWZhYTgzMWI4OWVmZWIzYzQzID0gTC5nZW9Kc29uKAogICAgICAgICAgICB7ImZlYXR1cmVzIjogW3siZ2VvbWV0cnkiOiB7ImNvb3JkaW5hdGVzIjogW1tbLTcyLjU2NjAzMDE5MjQwNDE2LCAtNDIuNTE0MTkzMTc4ODA0NzJdLCBbLTcyLjU2NTkzMjI3MDMwMTk0LCAtNDIuNTE0MjgxMTI5OTExNTJdLCBbLTcxLjIzMTc1Mjk0ODQ5NjE0LCAtNDIuNDc4MTQzNTg0NDg2MTFdLCBbLTcxLjI1NzQyOTcyNDI3NDI1LCAtNDIuMDQ2MDgwNTQzOTUwMl0sIFstNzEuMjYzMTQzNzU4MTUzNDksIC00Mi4wNDQ4MDQ5MjE5NjY4MV0sIFstNzEuMjY5NzUxNTk2MDY0OTIsIC00Mi4wNDMzOTg4NjUwMzczXSwgWy03MS4zMjE4MDQ4MTQ5MDM0MywgLTQyLjAzMzE5NDYwMzU2MTI5XSwgWy03MS42NjE0NjI4MDAxNTUwOCwgLTQxLjk2ODQ4NzQ1MzY0MjhdLCBbLTcxLjczODIyNTI3OTI3ODUsIC00MS45NTM5NDY3NzgxODMzNF0sIFstNzEuODMwMjkyNjE3ODM1NjgsIC00MS45MzY1MzY0NDgzNjk1M10sIFstNzEuOTIzMDM3MTQ1NDM3NCwgLTQxLjkxOTA2OTYzNDk5Nzc3XSwgWy03Mi40NTIwODI1MzU1NzI4OCwgLTQxLjgyMzQyNzA0MzAyOTU5XSwgWy03Mi41MTY4MjYyNDk3MDQwMiwgLTQxLjgxMTg3NjYxMTUwODMyNV0sIFstNzIuNTI2MjczMzIyNTE2MDgsIC00MS44MTA0NTkwMDg0NTg1Ml0sIFstNzIuNTkwOTAyNDcyNTQxNjYsIC00MS44MDEyOTU2NzI0MjAxMl0sIFstNzIuNTkzMDg1MTQ5MTE0NDMsIC00MS44MDEwNzAzNjU0NDY1M10sIFstNzIuNTkzMjE4NTI1Nzg0LCAtNDEuODAxMTM5MDkwMTgyMTNdLCBbLTcyLjU3OTc0Njk1NDA1NTUyLCAtNDIuMTU3NjkwNzQxNzc1NTVdLCBbLTcyLjU2NjAzMDE5MjQwNDE2LCAtNDIuNTE0MTkzMTc4ODA0NzJdXV0sICJnZW9kZXNpYyI6IHRydWUsICJ0eXBlIjogIlBvbHlnb24ifSwgInByb3BlcnRpZXMiOiB7ImhpZ2hsaWdodCI6IHt9LCAic3R5bGUiOiB7fX0sICJ0eXBlIjogIkZlYXR1cmUifV0sICJ0eXBlIjogIkZlYXR1cmVDb2xsZWN0aW9uIn0KICAgICAgICAgICAgCiAgICAgICAgICAgICkuYWRkVG8obWFwX2QwZmJiYTdhODg0MDQ5MGE4MTk2NTI5YzA3ODIzNzRkKTsKICAgICAgICBnZW9fanNvbl85YWFlZmM0OWM1NjY0ODlmYWE4MzFiODllZmViM2M0My5zZXRTdHlsZShmdW5jdGlvbihmZWF0dXJlKSB7cmV0dXJuIGZlYXR1cmUucHJvcGVydGllcy5zdHlsZTt9KTsKICAgICAgICAKICAgIAogICAgICAgICAgICB2YXIgcG9wdXBfYmQxZjQzNzcxNDc2NGY4N2IwZjhjYjNlMjk1ZjdhMjAgPSBMLnBvcHVwKHttYXhXaWR0aDogJzMwMCcKICAgICAgICAgICAgCiAgICAgICAgICAgIH0pOwoKICAgICAgICAgICAgCiAgICAgICAgICAgICAgICB2YXIgaHRtbF84OTRjYzIxMTkxY2M0NDljOTlkYThiZWI5MTY0MGFhNSA9ICQoJzxkaXYgaWQ9Imh0bWxfODk0Y2MyMTE5MWNjNDQ5Yzk5ZGE4YmViOTE2NDBhYTUiIHN0eWxlPSJ3aWR0aDogMTAwLjAlOyBoZWlnaHQ6IDEwMC4wJTsiPjxoMz5tZWFuOjwvaDM+IDxiPlFBMjA6PC9iPiBOb25lPC9icj48Yj5COTo8L2I+IDEzMjAuMDc2MDg0NDQ5NTg0NDwvYnI+PGI+QjI6PC9iPiAyODQ5LjMxNTQ3NjUwNzU3MjQ8L2JyPjxiPkIxMjo8L2I+IDE2OTguMTM5MTYxOTgxNTc2ODwvYnI+PGI+QjEwOjwvYj4gMTcuMzY2ODU5MzM1MTg1MjwvYnI+PGI+QjE6PC9iPiAzMDQxLjkyNDY3ODI3NjE0PC9icj48Yj5RQTEwOjwvYj4gTm9uZTwvYnI+PGI+QjM6PC9iPiAyNjgyLjM4MjU2OTIyMDQ0MTQ8L2JyPjxiPkI4QTo8L2I+IDM2OTEuNzEyMzYxNjQ5MDU4NTwvYnI+PGI+Qjg6PC9iPiAzNDEzLjk2MzkwMzAyMzc1NzwvYnI+PGI+QjQ6PC9iPiAyNjgwLjI4NDA2OTg2ODA3MjwvYnI+PGI+QjY6PC9iPiAzMzMwLjgzNjQ3NzM3NjI1MTQ8L2JyPjxiPkIxMTo8L2I+IDI0MjEuNjY5NzA4ODY5Mzg3PC9icj48Yj5RQTYwOjwvYj4gMTAyNC4wPC9icj48Yj5CNTo8L2I+IDI3OTIuODQ1MjA0MjUzNzY2PC9icj48Yj5CNzo8L2I+IDM1NjYuNTMyMDkyMDAwMjg4NzwvYnI+PC9kaXY+JylbMF07CiAgICAgICAgICAgICAgICBwb3B1cF9iZDFmNDM3NzE0NzY0Zjg3YjBmOGNiM2UyOTVmN2EyMC5zZXRDb250ZW50KGh0bWxfODk0Y2MyMTE5MWNjNDQ5Yzk5ZGE4YmViOTE2NDBhYTUpOwogICAgICAgICAgICAKCiAgICAgICAgICAgIGdlb19qc29uXzlhYWVmYzQ5YzU2NjQ4OWZhYTgzMWI4OWVmZWIzYzQzLmJpbmRQb3B1cChwb3B1cF9iZDFmNDM3NzE0NzY0Zjg3YjBmOGNiM2UyOTVmN2EyMCkKICAgICAgICAgICAgOwoKICAgICAgICAgICAgCiAgICAgICAgCiAgICAKICAgICAgICAgICAgdmFyIGxheWVyX2NvbnRyb2xfZmE1OTYwOGJkMDE2NGQyNzk4NGQ2NGFmNWZjNjgzNjkgPSB7CiAgICAgICAgICAgICAgICBiYXNlX2xheWVycyA6IHsgIm9wZW5zdHJlZXRtYXAiIDogdGlsZV9sYXllcl82NzI2MzUwZDUxYmM0ZGRiYTQyZDEyYWUzZjUyMDhmYiwgfSwKICAgICAgICAgICAgICAgIG92ZXJsYXlzIDogeyAiU2VudGluZWwgMiBQYXRhZ29uaWEiIDogdGlsZV9sYXllcl83YjdiYmZiMzVmNWY0OWU2YTcxOGE0Y2EwMTgzMzkzYiwiSW1hZ2UgYm91bmRyaWVzIiA6IGdlb19qc29uXzlhYWVmYzQ5YzU2NjQ4OWZhYTgzMWI4OWVmZWIzYzQzLCB9CiAgICAgICAgICAgICAgICB9OwogICAgICAgICAgICBMLmNvbnRyb2wubGF5ZXJzKAogICAgICAgICAgICAgICAgbGF5ZXJfY29udHJvbF9mYTU5NjA4YmQwMTY0ZDI3OTg0ZDY0YWY1ZmM2ODM2OS5iYXNlX2xheWVycywKICAgICAgICAgICAgICAgIGxheWVyX2NvbnRyb2xfZmE1OTYwOGJkMDE2NGQyNzk4NGQ2NGFmNWZjNjgzNjkub3ZlcmxheXMsCiAgICAgICAgICAgICAgICB7cG9zaXRpb246ICd0b3ByaWdodCcsCiAgICAgICAgICAgICAgICAgY29sbGFwc2VkOiB0cnVlLAogICAgICAgICAgICAgICAgIGF1dG9aSW5kZXg6IHRydWUKICAgICAgICAgICAgICAgIH0pLmFkZFRvKG1hcF9kMGZiYmE3YTg4NDA0OTBhODE5NjUyOWMwNzgyMzc0ZCk7CiAgICAgICAgICAgIAogICAgICAgIAo8L3NjcmlwdD4=\" style=\"position:absolute;width:100%;height:100%;left:0;top:0;border:none !important;\" allowfullscreen webkitallowfullscreen mozallowfullscreen></iframe></div></div>"
      ],
      "text/plain": [
       "<geetools.ui.maptool.Map at 0x7fbd581b9128>"
      ]
     },
     "execution_count": 5,
     "metadata": {},
     "output_type": "execute_result"
    }
   ],
   "source": [
    "from geetools.ui import maptool\n",
    "Map = maptool.Map()\n",
    "\n",
    "Map.addLayer(i, visParam, 'Sentinel 2 Patagonia')\n",
    "Map.centerObject(i)\n",
    "\n",
    "Map.addLayer(igeom, name='Image boundries', inspect=inspect)\n",
    "\n",
    "Map.show()"
   ]
  },
  {
   "cell_type": "markdown",
   "metadata": {},
   "source": [
    "# Plot the image into an interactive Map using `ipymap` (ipyleaflet)\n",
    "## This Map has extra features:\n",
    "1. Inspector\n",
    "2. Tasks\n",
    "3. Assets\n",
    "\n",
    "### At the moment, the only one working is the inspector"
   ]
  },
  {
   "cell_type": "markdown",
   "metadata": {},
   "source": [
    "## First plot an empty Map (you can add stuff here too)"
   ]
  },
  {
   "cell_type": "code",
   "execution_count": 6,
   "metadata": {},
   "outputs": [],
   "source": [
    "from geetools import ui\n",
    "Map2 = ui.Map()\n",
    "\n",
    "# you can do also:\n",
    "# from geetools.ui import ipymap\n",
    "# Map2 = ipymap.Map()"
   ]
  },
  {
   "cell_type": "code",
   "execution_count": 7,
   "metadata": {
    "scrolled": false
   },
   "outputs": [
    {
     "data": {
      "application/vnd.jupyter.widget-view+json": {
       "model_id": "c76462fb504a49b78c1bb0b006fd8213",
       "version_major": 2,
       "version_minor": 0
      },
      "text/plain": [
       "Map(basemap={'url': 'https://{s}.tile.openstreetmap.org/{z}/{x}/{y}.png', 'max_zoom': 19, 'attribution': 'Map …"
      ]
     },
     "metadata": {},
     "output_type": "display_data"
    },
    {
     "data": {
      "application/vnd.jupyter.widget-view+json": {
       "model_id": "e111e33b6d9c49e59377b25904a6f86e",
       "version_major": 2,
       "version_minor": 0
      },
      "text/plain": [
       "Tab(children=(CustomInspector(children=(SelectMultiple(options=OrderedDict(), value=()), Accordion(selected_in…"
      ]
     },
     "metadata": {},
     "output_type": "display_data"
    }
   ],
   "source": [
    "Map2.show()"
   ]
  },
  {
   "cell_type": "markdown",
   "metadata": {},
   "source": [
    "## addLayer"
   ]
  },
  {
   "cell_type": "code",
   "execution_count": 8,
   "metadata": {},
   "outputs": [],
   "source": [
    "Map2.addLayer(i, visParam, 'Sentinel 2 Patagonia')"
   ]
  },
  {
   "cell_type": "code",
   "execution_count": 9,
   "metadata": {},
   "outputs": [],
   "source": [
    "Map2.addLayer(i, {'bands':['B8'], 'min':0, 'max':5000}, 'just B8')"
   ]
  },
  {
   "cell_type": "markdown",
   "metadata": {},
   "source": [
    "## Center an Image"
   ]
  },
  {
   "cell_type": "code",
   "execution_count": 10,
   "metadata": {},
   "outputs": [],
   "source": [
    "Map2.centerObject(i)"
   ]
  },
  {
   "cell_type": "markdown",
   "metadata": {},
   "source": [
    "## addLayer Geometry"
   ]
  },
  {
   "cell_type": "code",
   "execution_count": 11,
   "metadata": {},
   "outputs": [],
   "source": [
    "Map2.addLayer(igeom, name='Image boundries')"
   ]
  },
  {
   "cell_type": "markdown",
   "metadata": {},
   "source": [
    "## Center a Geometry"
   ]
  },
  {
   "cell_type": "code",
   "execution_count": 12,
   "metadata": {},
   "outputs": [],
   "source": [
    "Map2.centerObject(igeom)"
   ]
  },
  {
   "cell_type": "markdown",
   "metadata": {},
   "source": [
    "## Get Map Center"
   ]
  },
  {
   "cell_type": "code",
   "execution_count": 13,
   "metadata": {},
   "outputs": [
    {
     "data": {
      "text/plain": [
       "{u'coordinates': [-71.96729335471115, -42.205144707391874],\n",
       " u'geodesic': True,\n",
       " u'type': u'Point'}"
      ]
     },
     "execution_count": 13,
     "metadata": {},
     "output_type": "execute_result"
    }
   ],
   "source": [
    "center = Map2.getCenter()\n",
    "center.getInfo()"
   ]
  },
  {
   "cell_type": "markdown",
   "metadata": {},
   "source": [
    "## Get Map Bounds"
   ]
  },
  {
   "cell_type": "code",
   "execution_count": 14,
   "metadata": {},
   "outputs": [
    {
     "data": {
      "text/plain": [
       "{u'coordinates': [[[-74.63012695312501, -43.012680886420334],\n",
       "   [-69.30175781250001, -43.012680886420334],\n",
       "   [-69.30175781250001, -41.385051949706806],\n",
       "   [-74.63012695312501, -41.385051949706806],\n",
       "   [-74.63012695312501, -43.012680886420334]]],\n",
       " u'geodesic': True,\n",
       " u'type': u'Polygon'}"
      ]
     },
     "execution_count": 14,
     "metadata": {},
     "output_type": "execute_result"
    }
   ],
   "source": [
    "bounds = Map2.getBounds()\n",
    "bounds.getInfo()"
   ]
  },
  {
   "cell_type": "markdown",
   "metadata": {},
   "source": [
    "## Remove a layer"
   ]
  },
  {
   "cell_type": "code",
   "execution_count": 15,
   "metadata": {},
   "outputs": [],
   "source": [
    "Map2.removeLayer('Sentinel 2 Patagonia')"
   ]
  },
  {
   "cell_type": "markdown",
   "metadata": {},
   "source": [
    "# TABS\n",
    "## You can add a custom Tab with a custom handler. The handler is a function with 4 main parameters:\n",
    "- **type:** the interaction type. Can be 'click', 'mouseover', etc\n",
    "- **coordinates:** the coordinates where the interaction has taken place. If you have used ipyleaflet before, take in consideraton that coordinates are inverted (to match GEE format): [longitud, latitude]\n",
    "- **widget:** The widget inside the Tab. Defaults to an empty HTML widget\n",
    "- **map:** the Map instance. You can apply any of its methods, or get any of its properties"
   ]
  },
  {
   "cell_type": "code",
   "execution_count": 16,
   "metadata": {},
   "outputs": [
    {
     "name": "stdout",
     "output_type": "stream",
     "text": [
      " Add a Tab to the Panel. The handler is for the Map\n",
      "\n",
      "        :param name: name for the new tab\n",
      "        :type name: str\n",
      "        :param handler: handle function for the new tab. Arguments of the\n",
      "            function are:\n",
      "\n",
      "            :type: the type of the event (click, mouseover, etc..)\n",
      "            :coordinates: coordinates where the event occured [lon, lat]\n",
      "            :widget: the widget inside the Tab\n",
      "            :map: the Map instance\n",
      "\n",
      "        :param widget: widget inside the Tab. Defaults to HTML('')\n",
      "        :type widget: ipywidgets.Widget\n",
      "        \n"
     ]
    }
   ],
   "source": [
    "print(Map2.addTab.__doc__)"
   ]
  },
  {
   "cell_type": "code",
   "execution_count": 17,
   "metadata": {},
   "outputs": [
    {
     "name": "stdout",
     "output_type": "stream",
     "text": [
      "Check out the Map!\n"
     ]
    }
   ],
   "source": [
    "def test_handler(**change):    \n",
    "    # PARAMS\n",
    "    ty = change['type']\n",
    "    coords = change['coordinates']\n",
    "    wid = change['widget']\n",
    "    themap = change['map']\n",
    "        \n",
    "    if ty == 'click':  # If interaction was a click\n",
    "        # Loading message before sending a request to EE\n",
    "        wid.value = 'Loading...'\n",
    "        # Map's bounds\n",
    "        bounds = themap.getBounds().getInfo()['coordinates']\n",
    "        # Change Widget Value\n",
    "        wid.value = \"You have clicked on {} and map's bounds are {}\".format(coords, bounds)\n",
    "\n",
    "Map2.addTab('TestTAB', test_handler)\n",
    "print(\"Check out the Map!\")"
   ]
  },
  {
   "cell_type": "code",
   "execution_count": null,
   "metadata": {},
   "outputs": [],
   "source": []
  }
 ],
 "metadata": {
  "kernelspec": {
   "display_name": "geepy3",
   "language": "python",
   "name": "geepy3"
  },
  "language_info": {
   "codemirror_mode": {
    "name": "ipython",
    "version": 3
   },
   "file_extension": ".py",
   "mimetype": "text/x-python",
   "name": "python",
   "nbconvert_exporter": "python",
   "pygments_lexer": "ipython3",
   "version": "3.5.2"
  }
 },
 "nbformat": 4,
 "nbformat_minor": 2
}
