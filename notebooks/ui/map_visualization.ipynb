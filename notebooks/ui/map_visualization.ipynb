{
 "cells": [
  {
   "cell_type": "markdown",
   "metadata": {},
   "source": [
    "# Interactive Maps for Google Earth Engine Python API\n",
    "\n",
    "### This notebook is a showcase of a new feature of `geetools`, and it is still under active development on https://github.com/gee-community/gee_tools. There are 2 options:\n",
    "\n",
    "## 1. maptool\n",
    "### Based on https://github.com/mccarthyryanc/folium_gee but improved in order to 'emulate' the behavior of Map in the Code Editor. \n",
    "#### Pros:\n",
    "1. This module can be use to generate html for other purposes like webapps, etc\n",
    "2. Can change zoom with mouse scroll\n",
    "\n",
    "#### Cons:\n",
    "1. When using this module you have to complete the Map (addLayer, etc), and at the end use `Map.show()` to show the map. Can't add more layers afterwards.\n",
    "2. Takes a long time to show the map\n",
    "\n",
    "## 2. ipymap\n",
    "### Based on https://github.com/gee-community/ee-jupyter-contrib/blob/master/examples/getting-started/display-interactive-map.ipynb\n",
    "#### Pros and cons are the opposite to `maptool`\n",
    "\n",
    "#### *(I'll try to keep this notebook up to date)*"
   ]
  },
  {
   "cell_type": "markdown",
   "metadata": {},
   "source": [
    "# Make imports"
   ]
  },
  {
   "cell_type": "code",
   "execution_count": 1,
   "metadata": {},
   "outputs": [],
   "source": [
    "import ee\n",
    "ee.Initialize()"
   ]
  },
  {
   "cell_type": "markdown",
   "metadata": {},
   "source": [
    "# Get an image"
   ]
  },
  {
   "cell_type": "code",
   "execution_count": 2,
   "metadata": {},
   "outputs": [],
   "source": [
    "col = ee.ImageCollection('COPERNICUS/S2')\n",
    "site = ee.Geometry.Point([-72, -42])\n",
    "col = col.filterBounds(site).filterMetadata('CLOUD_COVERAGE_ASSESSMENT', 'less_than', 40)\n",
    "i = ee.Image(col.first())\n",
    "igeom = i.geometry()"
   ]
  },
  {
   "cell_type": "markdown",
   "metadata": {},
   "source": [
    "# define visualization parameters (dict)"
   ]
  },
  {
   "cell_type": "code",
   "execution_count": 3,
   "metadata": {},
   "outputs": [],
   "source": [
    "visParam = {'bands':['B8', 'B11', 'B4'], 'min':0, 'max':5000}"
   ]
  },
  {
   "cell_type": "markdown",
   "metadata": {},
   "source": [
    "## define inspection\n",
    "### `addLayer` has a parameter called `inspect` that defines de content for a pop up, which is a dict with the following keys:\n",
    "1. data: eeObject from where to get the data\n",
    "2. reducer: can be 'first', 'mean', 'media' and 'sum'\n",
    "3. scale: scale to use in the reduction. If not provided, it uses the nominalScale for the image's first band"
   ]
  },
  {
   "cell_type": "code",
   "execution_count": 4,
   "metadata": {},
   "outputs": [],
   "source": [
    "inspect = {'data':i, 'reducer':'mean'}"
   ]
  },
  {
   "cell_type": "markdown",
   "metadata": {},
   "source": [
    "# Plot the image into an interactive Map using `maptool` (Folium)"
   ]
  },
  {
   "cell_type": "code",
   "execution_count": 5,
   "metadata": {},
   "outputs": [
    {
     "data": {
      "text/html": [
       "<div style=\"width:100%;\"><div style=\"position:relative;width:100%;height:0;padding-bottom:60%;\"><iframe src=\"data:text/html;charset=utf-8;base64,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\" style=\"position:absolute;width:100%;height:100%;left:0;top:0;border:none !important;\" allowfullscreen webkitallowfullscreen mozallowfullscreen></iframe></div></div>"
      ],
      "text/plain": [
       "<geetools.ui.maptool.Map at 0x7f6042350438>"
      ]
     },
     "execution_count": 5,
     "metadata": {},
     "output_type": "execute_result"
    }
   ],
   "source": [
    "from geetools.ui import maptool\n",
    "Map = maptool.Map()\n",
    "\n",
    "Map.addLayer(i, visParam, 'Sentinel 2 Patagonia')\n",
    "Map.centerObject(i)\n",
    "\n",
    "Map.addLayer(igeom, name='Image boundries', inspect=inspect)\n",
    "\n",
    "Map.show()"
   ]
  },
  {
   "cell_type": "markdown",
   "metadata": {},
   "source": [
    "# Plot the image into an interactive Map using `ipymap` (ipyleaflet)\n",
    "## This Map has extra features:\n",
    "1. Inspector\n",
    "2. Tasks\n",
    "3. Assets\n",
    "\n",
    "### At the moment, the only one working is the inspector"
   ]
  },
  {
   "cell_type": "markdown",
   "metadata": {},
   "source": [
    "## First plot an empty Map (you can add stuff here too)"
   ]
  },
  {
   "cell_type": "code",
   "execution_count": 19,
   "metadata": {},
   "outputs": [],
   "source": [
    "from geetools import ui\n",
    "Map2 = ui.Map()\n",
    "\n",
    "# you can do also:\n",
    "# from geetools.ui import ipymap\n",
    "# Map2 = ipymap.Map()"
   ]
  },
  {
   "cell_type": "code",
   "execution_count": 20,
   "metadata": {
    "scrolled": false
   },
   "outputs": [
    {
     "data": {
      "application/vnd.jupyter.widget-view+json": {
       "model_id": "37964ffcea544b83ae5ec2256d87c492",
       "version_major": 2,
       "version_minor": 0
      },
      "text/plain": [
       "Map(basemap={'url': 'https://{s}.tile.openstreetmap.org/{z}/{x}/{y}.png', 'attribution': 'Map data (c) <a href…"
      ]
     },
     "metadata": {},
     "output_type": "display_data"
    },
    {
     "data": {
      "application/vnd.jupyter.widget-view+json": {
       "model_id": "e9995acadbb94732864bc47909134139",
       "version_major": 2,
       "version_minor": 0
      },
      "text/plain": [
       "Tab(children=(CustomInspector(children=(SelectMultiple(options=OrderedDict(), value=()), Accordion(selected_in…"
      ]
     },
     "metadata": {},
     "output_type": "display_data"
    }
   ],
   "source": [
    "Map2.show()"
   ]
  },
  {
   "cell_type": "markdown",
   "metadata": {},
   "source": [
    "## addLayer"
   ]
  },
  {
   "cell_type": "code",
   "execution_count": 8,
   "metadata": {},
   "outputs": [],
   "source": [
    "Map2.addLayer(i, visParam, 'Sentinel 2 Patagonia')"
   ]
  },
  {
   "cell_type": "code",
   "execution_count": 9,
   "metadata": {},
   "outputs": [],
   "source": [
    "Map2.addLayer(i, {'bands':['B8'], 'min':0, 'max':5000}, 'just B8')"
   ]
  },
  {
   "cell_type": "markdown",
   "metadata": {},
   "source": [
    "## Center an Image"
   ]
  },
  {
   "cell_type": "code",
   "execution_count": 10,
   "metadata": {},
   "outputs": [],
   "source": [
    "Map2.centerObject(i)"
   ]
  },
  {
   "cell_type": "markdown",
   "metadata": {},
   "source": [
    "## addLayer Geometry"
   ]
  },
  {
   "cell_type": "code",
   "execution_count": 11,
   "metadata": {},
   "outputs": [],
   "source": [
    "Map2.addLayer(igeom, name='Image boundries')"
   ]
  },
  {
   "cell_type": "markdown",
   "metadata": {},
   "source": [
    "## Center a Geometry"
   ]
  },
  {
   "cell_type": "code",
   "execution_count": 12,
   "metadata": {},
   "outputs": [],
   "source": [
    "Map2.centerObject(igeom)"
   ]
  },
  {
   "cell_type": "markdown",
   "metadata": {},
   "source": [
    "## Get Map Center"
   ]
  },
  {
   "cell_type": "code",
   "execution_count": 13,
   "metadata": {},
   "outputs": [
    {
     "data": {
      "text/plain": [
       "{'coordinates': [-71.91248573714033, -42.15901782145145], 'type': 'Point'}"
      ]
     },
     "execution_count": 13,
     "metadata": {},
     "output_type": "execute_result"
    }
   ],
   "source": [
    "center = Map2.getCenter()\n",
    "center.getInfo()"
   ]
  },
  {
   "cell_type": "markdown",
   "metadata": {},
   "source": [
    "## Get Map Bounds"
   ]
  },
  {
   "cell_type": "code",
   "execution_count": 14,
   "metadata": {},
   "outputs": [
    {
     "data": {
      "text/plain": [
       "{'coordinates': [[[-73.22662353515626, -42.565218744943365],\n",
       "   [-70.60089111328126, -42.565218744943365],\n",
       "   [-70.60089111328126, -41.75082413553289],\n",
       "   [-73.22662353515626, -41.75082413553289],\n",
       "   [-73.22662353515626, -42.565218744943365]]],\n",
       " 'type': 'Polygon'}"
      ]
     },
     "execution_count": 14,
     "metadata": {},
     "output_type": "execute_result"
    }
   ],
   "source": [
    "bounds = Map2.getBounds()\n",
    "bounds.getInfo()"
   ]
  },
  {
   "cell_type": "markdown",
   "metadata": {},
   "source": [
    "## Remove a layer"
   ]
  },
  {
   "cell_type": "code",
   "execution_count": 15,
   "metadata": {},
   "outputs": [],
   "source": [
    "Map2.removeLayer('Sentinel 2 Patagonia')"
   ]
  },
  {
   "cell_type": "markdown",
   "metadata": {},
   "source": [
    "# TABS\n",
    "## You can add a custom Tab with a custom handler. The handler is a function with 4 main parameters:\n",
    "- **type:** the interaction type. Can be 'click', 'mouseover', etc\n",
    "- **coordinates:** the coordinates where the interaction has taken place. If you have used ipyleaflet before, take in consideraton that coordinates are inverted (to match GEE format): [longitud, latitude]\n",
    "- **widget:** The widget inside the Tab. Defaults to an empty HTML widget\n",
    "- **map:** the Map instance. You can apply any of its methods, or get any of its properties"
   ]
  },
  {
   "cell_type": "code",
   "execution_count": 16,
   "metadata": {},
   "outputs": [
    {
     "name": "stdout",
     "output_type": "stream",
     "text": [
      " Add a Tab to the Panel. The handler is for the Map\n",
      "\n",
      "        :param name: name for the new tab\n",
      "        :type name: str\n",
      "        :param handler: handle function for the new tab. Arguments of the\n",
      "        function are:\n",
      "\n",
      "          - type: the type of the event (click, mouseover, etc..)\n",
      "          - coordinates: coordinates where the event occurred [lon, lat]\n",
      "          - widget: the widget inside the Tab\n",
      "          - map: the Map instance\n",
      "\n",
      "        :param widget: widget inside the Tab. Defaults to HTML('')\n",
      "        :type widget: ipywidgets.Widget\n",
      "        \n"
     ]
    }
   ],
   "source": [
    "print(Map2.addTab.__doc__)"
   ]
  },
  {
   "cell_type": "code",
   "execution_count": 21,
   "metadata": {},
   "outputs": [
    {
     "name": "stdout",
     "output_type": "stream",
     "text": [
      "Check out the Map!\n"
     ]
    }
   ],
   "source": [
    "def test_handler(**change):    \n",
    "    # PARAMS\n",
    "    ty = change['type']\n",
    "    coords = change['coordinates']\n",
    "    wid = change['widget']\n",
    "    themap = change['map']\n",
    "        \n",
    "    if ty == 'click':  # If interaction was a click\n",
    "        # Loading message before sending a request to EE\n",
    "        wid.value = 'Loading...'\n",
    "        # Map's bounds\n",
    "        bounds = themap.getBounds().getInfo()['coordinates']\n",
    "        # Change Widget Value\n",
    "        wid.value = \"You have clicked on {} and map's bounds are {}\".format(coords, bounds)        \n",
    "\n",
    "Map2.addTab('TestTAB', test_handler)\n",
    "print(\"Check out the Map!\")"
   ]
  },
  {
   "cell_type": "code",
   "execution_count": null,
   "metadata": {},
   "outputs": [],
   "source": []
  }
 ],
 "metadata": {
  "kernelspec": {
   "display_name": "Python 3",
   "language": "python",
   "name": "python3"
  },
  "language_info": {
   "codemirror_mode": {
    "name": "ipython",
    "version": 3
   },
   "file_extension": ".py",
   "mimetype": "text/x-python",
   "name": "python",
   "nbconvert_exporter": "python",
   "pygments_lexer": "ipython3",
   "version": "3.5.2"
  }
 },
 "nbformat": 4,
 "nbformat_minor": 2
}
