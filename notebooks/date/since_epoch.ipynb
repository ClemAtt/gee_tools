{
 "cells": [
  {
   "cell_type": "code",
   "execution_count": 1,
   "metadata": {},
   "outputs": [],
   "source": [
    "import ee\n",
    "from geetools import tools, ui"
   ]
  },
  {
   "cell_type": "code",
   "execution_count": 2,
   "metadata": {},
   "outputs": [],
   "source": [
    "test_image = ee.Image('LANDSAT/LT05/C01/T1_SR/LT05_226087_20000102')"
   ]
  },
  {
   "cell_type": "code",
   "execution_count": 3,
   "metadata": {},
   "outputs": [],
   "source": [
    "date_band = tools.date.get_date_band(test_image)"
   ]
  },
  {
   "cell_type": "code",
   "execution_count": 4,
   "metadata": {},
   "outputs": [
    {
     "data": {
      "text/plain": [
       "{'bands': [{'crs': 'EPSG:4326',\n",
       "   'crs_transform': [1.0, 0.0, 0.0, 0.0, 1.0, 0.0],\n",
       "   'data_type': {'max': 10958,\n",
       "    'min': 10958,\n",
       "    'precision': 'int',\n",
       "    'type': 'PixelType'},\n",
       "   'id': 'date'}],\n",
       " 'properties': {'day_since_epoch': 10958,\n",
       "  'system:footprint': {'coordinates': [[-62.93373330564476,\n",
       "     -39.521094583532715],\n",
       "    [-62.93951580813777, -39.53906001872345],\n",
       "    [-62.93809845164771, -39.542709210152736],\n",
       "    [-62.911791068778705, -39.54682010783444],\n",
       "    [-60.84076842882025, -39.84733834328648],\n",
       "    [-60.786611554443226, -39.85462990756121],\n",
       "    [-60.56370380132907, -39.09826798414991],\n",
       "    [-60.320307436586056, -38.254616964906226],\n",
       "    [-60.31728333278994, -38.24336482966512],\n",
       "    [-60.31740780350843, -38.23997958193306],\n",
       "    [-61.1211185470067, -38.12819181899549],\n",
       "    [-61.99198262688295, -38.00051344504852],\n",
       "    [-62.414477826055204, -37.93612301258082],\n",
       "    [-62.42165525534332, -37.93742354136504],\n",
       "    [-62.5348545224759, -38.29255339257008],\n",
       "    [-62.62398800683667, -38.56972747945978],\n",
       "    [-62.674251929651426, -38.72533304631644],\n",
       "    [-62.80912026440925, -39.1406084511271],\n",
       "    [-62.913310954642945, -39.45876465892889],\n",
       "    [-62.93373330564476, -39.521094583532715]],\n",
       "   'type': 'LinearRing'}},\n",
       " 'type': 'Image'}"
      ]
     },
     "execution_count": 4,
     "metadata": {},
     "output_type": "execute_result"
    }
   ],
   "source": [
    "date_band.getInfo()"
   ]
  },
  {
   "cell_type": "code",
   "execution_count": 6,
   "metadata": {},
   "outputs": [
    {
     "data": {
      "text/plain": [
       "'2000-01-02T00:00:00'"
      ]
     },
     "execution_count": 6,
     "metadata": {},
     "output_type": "execute_result"
    }
   ],
   "source": [
    "image_date = date_band.get('day_since_epoch')\n",
    "tools.date.date_since_epoch(image_date).format().getInfo()"
   ]
  },
  {
   "cell_type": "code",
   "execution_count": null,
   "metadata": {},
   "outputs": [],
   "source": []
  }
 ],
 "metadata": {
  "kernelspec": {
   "display_name": "geepy3",
   "language": "python",
   "name": "geepy3"
  },
  "language_info": {
   "codemirror_mode": {
    "name": "ipython",
    "version": 3
   },
   "file_extension": ".py",
   "mimetype": "text/x-python",
   "name": "python",
   "nbconvert_exporter": "python",
   "pygments_lexer": "ipython3",
   "version": "3.5.2"
  }
 },
 "nbformat": 4,
 "nbformat_minor": 2
}
