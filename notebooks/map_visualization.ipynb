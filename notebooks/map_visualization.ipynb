{
 "cells": [
  {
   "cell_type": "markdown",
   "metadata": {},
   "source": [
    "# Interactive Maps for Google Earth Engine Python API\n",
    "\n",
    "### This notebook is a showcase of a new feature of `geetools`, and it is still under active development on https://github.com/gee-community/gee_tools. There are 2 options:\n",
    "\n",
    "## 1. maptool\n",
    "### Based on https://github.com/mccarthyryanc/folium_gee but improved in order to 'emulate' the behavior of Map in the Code Editor. \n",
    "#### Pros:\n",
    "1. This module can be use to generate html for other purposes like webapps, etc\n",
    "2. Can change zoom with mouse scroll\n",
    "\n",
    "#### Cons:\n",
    "1. When using this module you have to complete the Map (addLayer, etc), and at the end use `Map.show()` to show the map. Can't add more layers afterwards.\n",
    "2. Takes a long time to show the map\n",
    "\n",
    "## 2. ipymap\n",
    "### Based on https://github.com/gee-community/ee-jupyter-contrib/blob/master/examples/getting-started/display-interactive-map.ipynb\n",
    "#### Pros and cons are the opposite to `maptool`\n",
    "\n",
    "#### *(I'll try to keep this notebook up to date)*"
   ]
  },
  {
   "cell_type": "markdown",
   "metadata": {},
   "source": [
    "# Make imports"
   ]
  },
  {
   "cell_type": "code",
   "execution_count": null,
   "metadata": {},
   "outputs": [],
   "source": [
    "import ee\n",
    "ee.Initialize()"
   ]
  },
  {
   "cell_type": "markdown",
   "metadata": {},
   "source": [
    "# Get an image"
   ]
  },
  {
   "cell_type": "code",
   "execution_count": null,
   "metadata": {},
   "outputs": [],
   "source": [
    "col = ee.ImageCollection('COPERNICUS/S2')\n",
    "site = ee.Geometry.Point([-72, -42])\n",
    "col = col.filterBounds(site).filterMetadata('CLOUD_COVERAGE_ASSESSMENT', 'less_than', 40)\n",
    "i = ee.Image(col.first())\n",
    "igeom = i.geometry()"
   ]
  },
  {
   "cell_type": "markdown",
   "metadata": {},
   "source": [
    "# define visualization parameters (dict)"
   ]
  },
  {
   "cell_type": "code",
   "execution_count": null,
   "metadata": {},
   "outputs": [],
   "source": [
    "visParam = {'bands':['B8', 'B11', 'B4'], 'min':0, 'max':5000}"
   ]
  },
  {
   "cell_type": "markdown",
   "metadata": {},
   "source": [
    "## define inspection\n",
    "### `addLayer` has a parameter called `inspect` that defines de content for a pop up, which is a dict with the following keys:\n",
    "1. data: eeObject from where to get the data\n",
    "2. reducer: can be 'first', 'mean', 'media' and 'sum'\n",
    "3. scale: scale to use in the reduction. If not provided, it uses the nominalScale for the image's first band"
   ]
  },
  {
   "cell_type": "code",
   "execution_count": null,
   "metadata": {},
   "outputs": [],
   "source": [
    "inspect = {'data':i, 'reducer':'mean'}"
   ]
  },
  {
   "cell_type": "markdown",
   "metadata": {},
   "source": [
    "# Plot the image into an interactive Map using `maptool` (Folium)"
   ]
  },
  {
   "cell_type": "code",
   "execution_count": null,
   "metadata": {},
   "outputs": [],
   "source": [
    "from geetools import maptool\n",
    "Map = maptool.Map()\n",
    "\n",
    "Map.addLayer(i, visParam, 'Sentinel 2 Patagonia')\n",
    "Map.centerObject(i)\n",
    "\n",
    "Map.addLayer(igeom, name='Image boundries', inspect=inspect)\n",
    "\n",
    "Map.show()"
   ]
  },
  {
   "cell_type": "markdown",
   "metadata": {},
   "source": [
    "# Plot the image into an interactive Map using `ipymap` (ipyleaflet)"
   ]
  },
  {
   "cell_type": "markdown",
   "metadata": {},
   "source": [
    "## First plot an empty Map (you can add stuff here too)"
   ]
  },
  {
   "cell_type": "code",
   "execution_count": null,
   "metadata": {
    "scrolled": false
   },
   "outputs": [],
   "source": [
    "from geetools import ipymap\n",
    "Map2 = ipymap.Map()\n",
    "Map2.show()"
   ]
  },
  {
   "cell_type": "markdown",
   "metadata": {},
   "source": [
    "## addLayer"
   ]
  },
  {
   "cell_type": "code",
   "execution_count": null,
   "metadata": {},
   "outputs": [],
   "source": [
    "Map2.addLayer(i, visParam, 'Sentinel 2 Patagonia')"
   ]
  },
  {
   "cell_type": "code",
   "execution_count": null,
   "metadata": {},
   "outputs": [],
   "source": [
    "Map2.addLayer(i, {'bands':['B8'], 'min':0, 'max':5000}, 'just B8')"
   ]
  },
  {
   "cell_type": "markdown",
   "metadata": {},
   "source": [
    "## Center an Image"
   ]
  },
  {
   "cell_type": "code",
   "execution_count": null,
   "metadata": {},
   "outputs": [],
   "source": [
    "Map2.centerObject(i)"
   ]
  },
  {
   "cell_type": "markdown",
   "metadata": {},
   "source": [
    "## addLayer Geometry"
   ]
  },
  {
   "cell_type": "code",
   "execution_count": null,
   "metadata": {},
   "outputs": [],
   "source": [
    "Map2.addLayer(igeom, name='Image boundries', inspect=inspect)"
   ]
  },
  {
   "cell_type": "markdown",
   "metadata": {},
   "source": [
    "## Center a Geometry"
   ]
  },
  {
   "cell_type": "code",
   "execution_count": null,
   "metadata": {},
   "outputs": [],
   "source": [
    "Map2.centerObject(igeom)"
   ]
  }
 ],
 "metadata": {
  "kernelspec": {
   "display_name": "Python 2",
   "language": "python",
   "name": "python2"
  },
  "language_info": {
   "codemirror_mode": {
    "name": "ipython",
    "version": 2
   },
   "file_extension": ".py",
   "mimetype": "text/x-python",
   "name": "python",
   "nbconvert_exporter": "python",
   "pygments_lexer": "ipython2",
   "version": "2.7.12"
  }
 },
 "nbformat": 4,
 "nbformat_minor": 2
}
