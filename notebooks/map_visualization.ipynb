{
 "cells": [
  {
   "cell_type": "markdown",
   "metadata": {},
   "source": [
    "# Interactive Maps for Google Earth Engine Python API\n",
    "\n",
    "### This notebook is a showcase of a new feature of `geetools`, and it is still under active development on https://github.com/gee-community/gee_tools. There are 2 options:\n",
    "\n",
    "## 1. maptool\n",
    "### Based on https://github.com/mccarthyryanc/folium_gee but improved in order to 'emulate' the behavior of Map in the Code Editor. \n",
    "#### Pros:\n",
    "1. This module can be use to generate html for other purposes like webapps, etc\n",
    "2. Can change zoom with mouse scroll\n",
    "\n",
    "#### Cons:\n",
    "1. When using this module you have to complete the Map (addLayer, etc), and at the end use `Map.show()` to show the map. Can't add more layers afterwards.\n",
    "2. Takes a long time to show the map\n",
    "\n",
    "## 2. ipymap\n",
    "### Based on https://github.com/gee-community/ee-jupyter-contrib/blob/master/examples/getting-started/display-interactive-map.ipynb\n",
    "#### Pros and cons are the opposite to `maptool`\n",
    "\n",
    "#### *(I'll try to keep this notebook up to date)*"
   ]
  },
  {
   "cell_type": "markdown",
   "metadata": {},
   "source": [
    "# Make imports"
   ]
  },
  {
   "cell_type": "code",
   "execution_count": 1,
   "metadata": {},
   "outputs": [],
   "source": [
    "import ee\n",
    "ee.Initialize()"
   ]
  },
  {
   "cell_type": "markdown",
   "metadata": {},
   "source": [
    "# Get an image"
   ]
  },
  {
   "cell_type": "code",
   "execution_count": 2,
   "metadata": {},
   "outputs": [],
   "source": [
    "col = ee.ImageCollection('COPERNICUS/S2')\n",
    "site = ee.Geometry.Point([-72, -42])\n",
    "col = col.filterBounds(site).filterMetadata('CLOUD_COVERAGE_ASSESSMENT', 'less_than', 40)\n",
    "i = ee.Image(col.first())\n",
    "igeom = i.geometry()"
   ]
  },
  {
   "cell_type": "markdown",
   "metadata": {},
   "source": [
    "# define visualization parameters (dict)"
   ]
  },
  {
   "cell_type": "code",
   "execution_count": 3,
   "metadata": {},
   "outputs": [],
   "source": [
    "visParam = {'bands':['B8', 'B11', 'B4'], 'min':0, 'max':5000}"
   ]
  },
  {
   "cell_type": "markdown",
   "metadata": {},
   "source": [
    "## define inspection\n",
    "### `addLayer` has a parameter called `inspect` that defines de content for a pop up, which is a dict with the following keys:\n",
    "1. data: eeObject from where to get the data\n",
    "2. reducer: can be 'first', 'mean', 'media' and 'sum'\n",
    "3. scale: scale to use in the reduction. If not provided, it uses the nominalScale for the image's first band"
   ]
  },
  {
   "cell_type": "code",
   "execution_count": 4,
   "metadata": {},
   "outputs": [],
   "source": [
    "inspect = {'data':i, 'reducer':'mean'}"
   ]
  },
  {
   "cell_type": "markdown",
   "metadata": {},
   "source": [
    "# Plot the image into an interactive Map using `maptool` (Folium)"
   ]
  },
  {
   "cell_type": "code",
   "execution_count": 16,
   "metadata": {},
   "outputs": [
    {
     "data": {
      "text/html": [
       "<div style=\"width:100%;\"><div style=\"position:relative;width:100%;height:0;padding-bottom:60%;\"><iframe src=\"data:text/html;charset=utf-8;base64,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\" style=\"position:absolute;width:100%;height:100%;left:0;top:0;border:none !important;\" allowfullscreen webkitallowfullscreen mozallowfullscreen></iframe></div></div>"
      ],
      "text/plain": [
       "<geetools.maptool.Map at 0x7f0b948f8790>"
      ]
     },
     "execution_count": 16,
     "metadata": {},
     "output_type": "execute_result"
    }
   ],
   "source": [
    "from geetools import maptool\n",
    "Map = maptool.Map()\n",
    "\n",
    "Map.addLayer(i, visParam, 'Sentinel 2 Patagonia')\n",
    "Map.centerObject(i)\n",
    "\n",
    "Map.addLayer(igeom, name='Image boundries', inspect=inspect)\n",
    "\n",
    "Map.show()"
   ]
  },
  {
   "cell_type": "markdown",
   "metadata": {},
   "source": [
    "# Plot the image into an interactive Map using `ipymap` (ipyleaflet)"
   ]
  },
  {
   "cell_type": "markdown",
   "metadata": {},
   "source": [
    "## First plot an empty Map (you can add stuff here too)"
   ]
  },
  {
   "cell_type": "code",
   "execution_count": 5,
   "metadata": {
    "scrolled": false
   },
   "outputs": [
    {
     "data": {
      "application/vnd.jupyter.widget-view+json": {
       "model_id": "112beb71a18146ec90661d39623c81c1",
       "version_major": 2,
       "version_minor": 0
      },
      "text/plain": [
       "Map(basemap={'url': 'https://{s}.tile.openstreetmap.org/{z}/{x}/{y}.png', 'max_zoom': 19, 'attribution': 'Map …"
      ]
     },
     "metadata": {},
     "output_type": "display_data"
    }
   ],
   "source": [
    "from geetools import ipymap\n",
    "Map2 = ipymap.Map()\n",
    "Map2.show()"
   ]
  },
  {
   "cell_type": "markdown",
   "metadata": {},
   "source": [
    "## addLayer"
   ]
  },
  {
   "cell_type": "code",
   "execution_count": 6,
   "metadata": {},
   "outputs": [],
   "source": [
    "Map2.addLayer(i, visParam, 'Sentinel 2 Patagonia')"
   ]
  },
  {
   "cell_type": "code",
   "execution_count": 19,
   "metadata": {},
   "outputs": [],
   "source": [
    "Map2.addLayer(i, {'bands':['B8'], 'min':0, 'max':5000}, 'just B8')"
   ]
  },
  {
   "cell_type": "markdown",
   "metadata": {},
   "source": [
    "## Center an Image"
   ]
  },
  {
   "cell_type": "code",
   "execution_count": 7,
   "metadata": {},
   "outputs": [],
   "source": [
    "Map2.centerObject(i)"
   ]
  },
  {
   "cell_type": "markdown",
   "metadata": {},
   "source": [
    "## addLayer Geometry"
   ]
  },
  {
   "cell_type": "code",
   "execution_count": 8,
   "metadata": {},
   "outputs": [],
   "source": [
    "Map2.addLayer(igeom, name='Image boundries', inspect=inspect)"
   ]
  },
  {
   "cell_type": "markdown",
   "metadata": {},
   "source": [
    "## Center a Geometry"
   ]
  },
  {
   "cell_type": "code",
   "execution_count": 9,
   "metadata": {},
   "outputs": [],
   "source": [
    "Map2.centerObject(igeom)"
   ]
  },
  {
   "cell_type": "markdown",
   "metadata": {},
   "source": [
    "## Get Map Center"
   ]
  },
  {
   "cell_type": "code",
   "execution_count": 10,
   "metadata": {},
   "outputs": [
    {
     "data": {
      "text/plain": [
       "{u'coordinates': [-71.96729335471115, -42.205144707391874],\n",
       " u'geodesic': True,\n",
       " u'type': u'Point'}"
      ]
     },
     "execution_count": 10,
     "metadata": {},
     "output_type": "execute_result"
    }
   ],
   "source": [
    "center = Map2.getCenter()\n",
    "center.getInfo()"
   ]
  },
  {
   "cell_type": "code",
   "execution_count": null,
   "metadata": {},
   "outputs": [],
   "source": []
  }
 ],
 "metadata": {
  "kernelspec": {
   "display_name": "Python 2",
   "language": "python",
   "name": "python2"
  },
  "language_info": {
   "codemirror_mode": {
    "name": "ipython",
    "version": 2
   },
   "file_extension": ".py",
   "mimetype": "text/x-python",
   "name": "python",
   "nbconvert_exporter": "python",
   "pygments_lexer": "ipython2",
   "version": "2.7.12"
  }
 },
 "nbformat": 4,
 "nbformat_minor": 2
}
