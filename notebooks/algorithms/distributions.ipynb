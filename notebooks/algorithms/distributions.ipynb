{
 "cells": [
  {
   "cell_type": "markdown",
   "metadata": {},
   "source": [
    "# Applying different distributions to collections and images"
   ]
  },
  {
   "cell_type": "code",
   "execution_count": 1,
   "metadata": {},
   "outputs": [],
   "source": [
    "import ee\n",
    "from geetools import algorithms, ui, tools"
   ]
  },
  {
   "cell_type": "markdown",
   "metadata": {},
   "source": [
    "## Build a Test Collection"
   ]
  },
  {
   "cell_type": "code",
   "execution_count": 2,
   "metadata": {},
   "outputs": [],
   "source": [
    "# values = ee.List([0, 2, 5, 8, 10, 12, 15, 18, 22, 25, 28, 31, 35, 39, 42, 48, 51, 55])\n",
    "values = ee.List([-10, -8, -6, -4, -2, 0, 2, 4, 6, 8, 10, 12, 14, 16, 18, 20, 22, 24])  # With negative values"
   ]
  },
  {
   "cell_type": "code",
   "execution_count": 3,
   "metadata": {},
   "outputs": [],
   "source": [
    "def build_collection(n):\n",
    "    n = ee.Number(n)\n",
    "    return ee.Image.constant(n).rename('test').set('test', n).toFloat()\n",
    "images = values.map(build_collection)"
   ]
  },
  {
   "cell_type": "code",
   "execution_count": 4,
   "metadata": {},
   "outputs": [],
   "source": [
    "collection = ee.ImageCollection.fromImages(images)"
   ]
  },
  {
   "cell_type": "markdown",
   "metadata": {},
   "source": [
    "## Linear"
   ]
  },
  {
   "cell_type": "markdown",
   "metadata": {},
   "source": [
    "### Band"
   ]
  },
  {
   "cell_type": "code",
   "execution_count": 5,
   "metadata": {},
   "outputs": [],
   "source": [
    "linear_band = algorithms.distribution_linear_band(collection, 'test', 0)"
   ]
  },
  {
   "cell_type": "code",
   "execution_count": 6,
   "metadata": {},
   "outputs": [
    {
     "data": {
      "text/plain": [
       "{'0': {'linear_dist': 0.5833333333333333, 'test': -10.0},\n",
       " '1': {'linear_dist': 0.6666666666666667, 'test': -8.0},\n",
       " '10': {'linear_dist': 0.5833333333333333, 'test': 10.0},\n",
       " '11': {'linear_dist': 0.5, 'test': 12.0},\n",
       " '12': {'linear_dist': 0.41666666666666663, 'test': 14.0},\n",
       " '13': {'linear_dist': 0.33333333333333337, 'test': 16.0},\n",
       " '14': {'linear_dist': 0.25, 'test': 18.0},\n",
       " '15': {'linear_dist': 0.16666666666666663, 'test': 20.0},\n",
       " '16': {'linear_dist': 0.08333333333333337, 'test': 22.0},\n",
       " '17': {'linear_dist': 0.0, 'test': 24.0},\n",
       " '2': {'linear_dist': 0.75, 'test': -6.0},\n",
       " '3': {'linear_dist': 0.8333333333333334, 'test': -4.0},\n",
       " '4': {'linear_dist': 0.9166666666666666, 'test': -2.0},\n",
       " '5': {'linear_dist': 1.0, 'test': 0.0},\n",
       " '6': {'linear_dist': 0.9166666666666666, 'test': 2.0},\n",
       " '7': {'linear_dist': 0.8333333333333334, 'test': 4.0},\n",
       " '8': {'linear_dist': 0.75, 'test': 6.0},\n",
       " '9': {'linear_dist': 0.6666666666666667, 'test': 8.0}}"
      ]
     },
     "execution_count": 6,
     "metadata": {},
     "output_type": "execute_result"
    }
   ],
   "source": [
    "tools.imagecollection.get_values(linear_band, ee.Geometry.Point([0, 0]), 1000, side='client')"
   ]
  },
  {
   "cell_type": "markdown",
   "metadata": {},
   "source": [
    "### Property"
   ]
  },
  {
   "cell_type": "code",
   "execution_count": 10,
   "metadata": {},
   "outputs": [],
   "source": [
    "linear_prop = algorithms.distribution_linear_property(collection, 'test', 12)"
   ]
  },
  {
   "cell_type": "code",
   "execution_count": 11,
   "metadata": {},
   "outputs": [
    {
     "data": {
      "application/vnd.jupyter.widget-view+json": {
       "model_id": "291d9b754d59433c860a1b7a2b6f322b",
       "version_major": 2,
       "version_minor": 0
      },
      "text/plain": [
       "VBox(children=(Accordion(children=(HTML(value='ImageCollection'), Accordion(children=(Accordion(children=(Acco…"
      ]
     },
     "metadata": {},
     "output_type": "display_data"
    }
   ],
   "source": [
    "ui.eprint(linear_prop, notebook=True)"
   ]
  },
  {
   "cell_type": "markdown",
   "metadata": {},
   "source": [
    "## Normal"
   ]
  },
  {
   "cell_type": "markdown",
   "metadata": {},
   "source": [
    "### Band"
   ]
  },
  {
   "cell_type": "code",
   "execution_count": 5,
   "metadata": {},
   "outputs": [],
   "source": [
    "normal_band = algorithms.distribution_normal_band(collection, 'test', 0)"
   ]
  },
  {
   "cell_type": "code",
   "execution_count": 6,
   "metadata": {},
   "outputs": [
    {
     "data": {
      "text/plain": [
       "{'0': {'normal_dist': 0.9911122661505585, 'test': -10.0},\n",
       " '1': {'normal_dist': 0.9943027136217998, 'test': -8.0},\n",
       " '10': {'normal_dist': 0.9911122661505585, 'test': 10.0},\n",
       " '11': {'normal_dist': 0.987226729524635, 'test': 12.0},\n",
       " '12': {'normal_dist': 0.9826543659797875, 'test': 14.0},\n",
       " '13': {'normal_dist': 0.9774048702587249, 'test': 16.0},\n",
       " '14': {'normal_dist': 0.9714893353611266, 'test': 18.0},\n",
       " '15': {'normal_dist': 0.9649202134869712, 'test': 20.0},\n",
       " '16': {'normal_dist': 0.9577112723656354, 'test': 22.0},\n",
       " '17': {'normal_dist': 0.9498775471851024, 'test': 24.0},\n",
       " '2': {'normal_dist': 0.9967912714834902, 'test': -6.0},\n",
       " '3': {'normal_dist': 0.9985726252143758, 'test': -4.0},\n",
       " '4': {'normal_dist': 0.9996429651382638, 'test': -2.0},\n",
       " '5': {'normal_dist': 1.0, 'test': 0.0},\n",
       " '6': {'normal_dist': 0.9996429651382638, 'test': 2.0},\n",
       " '7': {'normal_dist': 0.9985726252143758, 'test': 4.0},\n",
       " '8': {'normal_dist': 0.9967912714834902, 'test': 6.0},\n",
       " '9': {'normal_dist': 0.9943027136217998, 'test': 8.0}}"
      ]
     },
     "execution_count": 6,
     "metadata": {},
     "output_type": "execute_result"
    }
   ],
   "source": [
    "tools.imagecollection.get_values(normal_band, ee.Geometry.Point([0, 0]), 1000, side='client')"
   ]
  },
  {
   "cell_type": "code",
   "execution_count": 13,
   "metadata": {},
   "outputs": [],
   "source": [
    "normal_band_std = algorithms.distribution_normal_band(collection, 'test', 12, std=3)"
   ]
  },
  {
   "cell_type": "code",
   "execution_count": 16,
   "metadata": {},
   "outputs": [
    {
     "data": {
      "text/plain": [
       "{'0': {'normal_dist': 0.5874741461206778, 'test': 0.0},\n",
       " '1': {'normal_dist': 0.6911551157039385, 'test': 2.0},\n",
       " '10': {'normal_dist': 0.3884305222978835, 'test': 28.0},\n",
       " '11': {'normal_dist': 0.2635528106015551, 'test': 31.0},\n",
       " '12': {'normal_dist': 0.14169500379131714, 'test': 35.0},\n",
       " '13': {'normal_dist': 0.06768705065878469, 'test': 39.0},\n",
       " '14': {'normal_dist': 0.03598982557654052, 'test': 42.0},\n",
       " '15': {'normal_dist': 0.008334869958029291, 'test': 48.0},\n",
       " '16': {'normal_dist': 0.0036303104329114305, 'test': 51.0},\n",
       " '17': {'normal_dist': 0.0010808153198493882, 'test': 55.0},\n",
       " '2': {'normal_dist': 0.8344340317926473, 'test': 5.0},\n",
       " '3': {'normal_dist': 0.9426100900525829, 'test': 8.0},\n",
       " '4': {'normal_dist': 0.9853329840990281, 'test': 10.0},\n",
       " '5': {'normal_dist': 1.0, 'test': 12.0},\n",
       " '6': {'normal_dist': 0.9673013578581781, 'test': 15.0},\n",
       " '7': {'normal_dist': 0.8754819361020341, 'test': 18.0},\n",
       " '8': {'normal_dist': 0.6911551157039385, 'test': 22.0},\n",
       " '9': {'normal_dist': 0.5356518885152888, 'test': 25.0}}"
      ]
     },
     "execution_count": 16,
     "metadata": {},
     "output_type": "execute_result"
    }
   ],
   "source": [
    "tools.imagecollection.get_values(normal_band_std, ee.Geometry.Point([0, 0]), 1000, side='client')"
   ]
  },
  {
   "cell_type": "code",
   "execution_count": null,
   "metadata": {},
   "outputs": [],
   "source": []
  }
 ],
 "metadata": {
  "kernelspec": {
   "display_name": "geepy3",
   "language": "python",
   "name": "geepy3"
  },
  "language_info": {
   "codemirror_mode": {
    "name": "ipython",
    "version": 3
   },
   "file_extension": ".py",
   "mimetype": "text/x-python",
   "name": "python",
   "nbconvert_exporter": "python",
   "pygments_lexer": "ipython3",
   "version": "3.5.2"
  }
 },
 "nbformat": 4,
 "nbformat_minor": 2
}
