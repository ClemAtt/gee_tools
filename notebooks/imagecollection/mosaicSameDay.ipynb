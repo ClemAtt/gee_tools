{
 "cells": [
  {
   "cell_type": "markdown",
   "metadata": {},
   "source": [
    "# Mosaic Same Day\n",
    "Images inside an ImageCollection that where taken in the same day are fusioned into one image using a reducer (default: mean). The resulting images will have 2 properties only:\n",
    "\n",
    "- system:time_start\n",
    "- system:footprint (this will contain the fusioned geometries)"
   ]
  },
  {
   "cell_type": "code",
   "execution_count": 1,
   "metadata": {},
   "outputs": [],
   "source": [
    "import ee\n",
    "ee.Initialize()"
   ]
  },
  {
   "cell_type": "code",
   "execution_count": 2,
   "metadata": {},
   "outputs": [],
   "source": [
    "from geetools import ui, tools, collection"
   ]
  },
  {
   "cell_type": "code",
   "execution_count": 3,
   "metadata": {},
   "outputs": [
    {
     "data": {
      "application/vnd.jupyter.widget-view+json": {
       "model_id": "648e0a2282404f53bc84394b70eff426",
       "version_major": 2,
       "version_minor": 0
      },
      "text/plain": [
       "Map(basemap={'attribution': 'Map data (c) <a href=\"https://openstreetmap.org\">OpenStreetMap</a> contributors',…"
      ]
     },
     "metadata": {},
     "output_type": "display_data"
    },
    {
     "data": {
      "application/vnd.jupyter.widget-view+json": {
       "model_id": "09102fdc6880459d843f0d85dfdeca4c",
       "version_major": 2,
       "version_minor": 0
      },
      "text/plain": [
       "Tab(children=(CustomInspector(children=(SelectMultiple(options=OrderedDict(), value=()), Accordion(selected_in…"
      ]
     },
     "metadata": {},
     "output_type": "display_data"
    }
   ],
   "source": [
    "Map = ui.Map()\n",
    "Map.show()"
   ]
  },
  {
   "cell_type": "code",
   "execution_count": 4,
   "metadata": {},
   "outputs": [],
   "source": [
    "sat = collection.Sentinel2SR()"
   ]
  },
  {
   "cell_type": "code",
   "execution_count": 5,
   "metadata": {},
   "outputs": [],
   "source": [
    "vis = sat.visualization('NSR')"
   ]
  },
  {
   "cell_type": "code",
   "execution_count": 6,
   "metadata": {},
   "outputs": [],
   "source": [
    "p = ee.Geometry.Point([-72, -42])"
   ]
  },
  {
   "cell_type": "code",
   "execution_count": 7,
   "metadata": {},
   "outputs": [],
   "source": [
    "col = sat.collection.filterBounds(p).filterDate('2019-01-01', '2019-05-01')"
   ]
  },
  {
   "cell_type": "code",
   "execution_count": 8,
   "metadata": {},
   "outputs": [
    {
     "name": "stdout",
     "output_type": "stream",
     "text": [
      "46\n",
      "\n"
     ]
    }
   ],
   "source": [
    "ui.eprint(col.size())"
   ]
  },
  {
   "cell_type": "code",
   "execution_count": 9,
   "metadata": {},
   "outputs": [
    {
     "name": "stdout",
     "output_type": "stream",
     "text": [
      "[ '2019-01-01T14:44:34',\n",
      "  '2019-01-01T14:44:35',\n",
      "  '2019-01-06T14:44:32',\n",
      "  '2019-01-06T14:44:32',\n",
      "  '2019-01-11T14:44:36',\n",
      "  '2019-01-11T14:44:36',\n",
      "  '2019-01-16T14:44:33',\n",
      "  '2019-01-16T14:44:33',\n",
      "  '2019-01-21T14:44:37',\n",
      "  '2019-01-21T14:44:37',\n",
      "  '2019-01-26T14:44:34',\n",
      "  '2019-01-26T14:44:34',\n",
      "  '2019-01-31T14:44:37',\n",
      "  '2019-01-31T14:44:37',\n",
      "  '2019-02-05T14:44:34',\n",
      "  '2019-02-05T14:44:34',\n",
      "  '2019-02-10T14:44:37',\n",
      "  '2019-02-10T14:44:37',\n",
      "  '2019-02-15T14:44:33',\n",
      "  '2019-02-15T14:44:33',\n",
      "  '2019-02-20T14:44:36',\n",
      "  '2019-02-20T14:44:36',\n",
      "  '2019-02-25T14:44:32',\n",
      "  '2019-02-25T14:44:32',\n",
      "  '2019-03-02T14:44:35',\n",
      "  '2019-03-02T14:44:35',\n",
      "  '2019-03-07T14:44:31',\n",
      "  '2019-03-07T14:44:31',\n",
      "  '2019-03-12T14:44:34',\n",
      "  '2019-03-12T14:44:34',\n",
      "  '2019-03-22T14:44:37',\n",
      "  '2019-03-22T14:44:37',\n",
      "  '2019-03-27T14:44:36',\n",
      "  '2019-03-27T14:44:36',\n",
      "  '2019-04-01T14:44:39',\n",
      "  '2019-04-01T14:44:39',\n",
      "  '2019-04-06T14:44:38',\n",
      "  '2019-04-06T14:44:38',\n",
      "  '2019-04-11T14:44:41',\n",
      "  '2019-04-11T14:44:42',\n",
      "  '2019-04-16T14:44:39',\n",
      "  '2019-04-16T14:44:39',\n",
      "  '2019-04-21T14:44:43',\n",
      "  '2019-04-21T14:44:43',\n",
      "  '2019-04-26T14:44:40',\n",
      "  '2019-04-26T14:44:40']\n",
      "\n"
     ]
    }
   ],
   "source": [
    "# Get dates\n",
    "def get_dates(col):\n",
    "    dates = ee.List(col.toList(col.size()).map(lambda img: ee.Image(img).date().format()))\n",
    "    return dates\n",
    "\n",
    "ui.eprint(get_dates(col))"
   ]
  },
  {
   "cell_type": "code",
   "execution_count": 10,
   "metadata": {},
   "outputs": [],
   "source": [
    "mosaics = tools.imagecollection.mosaicSameDay(col)"
   ]
  },
  {
   "cell_type": "code",
   "execution_count": 11,
   "metadata": {},
   "outputs": [
    {
     "name": "stdout",
     "output_type": "stream",
     "text": [
      "23\n",
      "\n"
     ]
    }
   ],
   "source": [
    "ui.eprint(mosaics.size())"
   ]
  },
  {
   "cell_type": "code",
   "execution_count": 12,
   "metadata": {},
   "outputs": [
    {
     "name": "stdout",
     "output_type": "stream",
     "text": [
      "[ '2019-01-01T00:00:00',\n",
      "  '2019-01-06T00:00:00',\n",
      "  '2019-01-11T00:00:00',\n",
      "  '2019-01-16T00:00:00',\n",
      "  '2019-01-21T00:00:00',\n",
      "  '2019-01-26T00:00:00',\n",
      "  '2019-01-31T00:00:00',\n",
      "  '2019-02-05T00:00:00',\n",
      "  '2019-02-10T00:00:00',\n",
      "  '2019-02-15T00:00:00',\n",
      "  '2019-02-20T00:00:00',\n",
      "  '2019-02-25T00:00:00',\n",
      "  '2019-03-02T00:00:00',\n",
      "  '2019-03-07T00:00:00',\n",
      "  '2019-03-12T00:00:00',\n",
      "  '2019-03-22T00:00:00',\n",
      "  '2019-03-27T00:00:00',\n",
      "  '2019-04-01T00:00:00',\n",
      "  '2019-04-06T00:00:00',\n",
      "  '2019-04-11T00:00:00',\n",
      "  '2019-04-16T00:00:00',\n",
      "  '2019-04-21T00:00:00',\n",
      "  '2019-04-26T00:00:00']\n",
      "\n"
     ]
    }
   ],
   "source": [
    "ui.eprint(get_dates(mosaics))"
   ]
  },
  {
   "cell_type": "code",
   "execution_count": 13,
   "metadata": {},
   "outputs": [],
   "source": [
    "Map.addImageCollection(col.limit(2), vis)"
   ]
  },
  {
   "cell_type": "code",
   "execution_count": 14,
   "metadata": {},
   "outputs": [],
   "source": [
    "Map.addLayer(mosaics.first(), sat.visualization('NSR'), 'Day 1 mosaicked')"
   ]
  },
  {
   "cell_type": "code",
   "execution_count": 15,
   "metadata": {},
   "outputs": [],
   "source": [
    "Map.addLayer(mosaics.first().geometry(), name='Footprint day 1 mosaicked')"
   ]
  },
  {
   "cell_type": "code",
   "execution_count": null,
   "metadata": {},
   "outputs": [],
   "source": []
  }
 ],
 "metadata": {
  "kernelspec": {
   "display_name": "Python 3",
   "language": "python",
   "name": "python3"
  },
  "language_info": {
   "codemirror_mode": {
    "name": "ipython",
    "version": 3
   },
   "file_extension": ".py",
   "mimetype": "text/x-python",
   "name": "python",
   "nbconvert_exporter": "python",
   "pygments_lexer": "ipython3",
   "version": "3.5.2"
  }
 },
 "nbformat": 4,
 "nbformat_minor": 2
}
