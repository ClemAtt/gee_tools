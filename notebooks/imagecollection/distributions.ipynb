{
 "cells": [
  {
   "cell_type": "markdown",
   "metadata": {},
   "source": [
    "# Applying different distributions to collections and images"
   ]
  },
  {
   "cell_type": "code",
   "execution_count": 1,
   "metadata": {},
   "outputs": [],
   "source": [
    "import ee\n",
    "from geetools import ui, tools"
   ]
  },
  {
   "cell_type": "code",
   "execution_count": 2,
   "metadata": {},
   "outputs": [],
   "source": [
    "p = ee.Geometry.Point([0, 0])"
   ]
  },
  {
   "cell_type": "markdown",
   "metadata": {},
   "source": [
    "## Build a Test Collection"
   ]
  },
  {
   "cell_type": "code",
   "execution_count": 3,
   "metadata": {},
   "outputs": [],
   "source": [
    "# values = ee.List([0, 2, 5, 8, 10, 12, 15, 18, 22, 25, 28, 31, 35, 39, 42, 48, 51, 55])\n",
    "values = ee.List([-10, -8, -7, -1, -2, 0, 1, 5, 7, 8, 10, 12, 14, 16, 18, 20, 22, 24])  # With negative values"
   ]
  },
  {
   "cell_type": "code",
   "execution_count": 4,
   "metadata": {},
   "outputs": [],
   "source": [
    "def build_collection(n):\n",
    "    n = ee.Number(n)\n",
    "    return ee.Image.constant(n).rename('test').set('test', n).toFloat()\n",
    "images = values.map(build_collection)"
   ]
  },
  {
   "cell_type": "code",
   "execution_count": 5,
   "metadata": {},
   "outputs": [],
   "source": [
    "collection = ee.ImageCollection.fromImages(images)"
   ]
  },
  {
   "cell_type": "markdown",
   "metadata": {},
   "source": [
    "## Linear"
   ]
  },
  {
   "cell_type": "markdown",
   "metadata": {},
   "source": [
    "### Band"
   ]
  },
  {
   "cell_type": "code",
   "execution_count": 6,
   "metadata": {},
   "outputs": [],
   "source": [
    "linear_band1 = tools.imagecollection.distribution_linear_band(collection, 'test')"
   ]
  },
  {
   "cell_type": "code",
   "execution_count": 10,
   "metadata": {},
   "outputs": [],
   "source": [
    "linear_band1_chart = ui.chart.Image.series(linear_band1, p, scale=1000, xProperty='test', bands=['linear_dist'], labels=['default values'])"
   ]
  },
  {
   "cell_type": "code",
   "execution_count": 8,
   "metadata": {},
   "outputs": [],
   "source": [
    "linear_band2 = tools.imagecollection.distribution_linear_band(collection, 'test', mean=10)"
   ]
  },
  {
   "cell_type": "code",
   "execution_count": 12,
   "metadata": {},
   "outputs": [],
   "source": [
    "linear_band2_chart = ui.chart.Image.series(linear_band2, p, scale=1000, xProperty='test', bands=['linear_dist'], labels=['mean=10'])"
   ]
  },
  {
   "cell_type": "code",
   "execution_count": 13,
   "metadata": {},
   "outputs": [],
   "source": [
    "linear_band3 = tools.imagecollection.distribution_linear_band(collection, 'test', mean=10, min=0)"
   ]
  },
  {
   "cell_type": "code",
   "execution_count": 14,
   "metadata": {},
   "outputs": [],
   "source": [
    "linear_band3_chart = ui.chart.Image.series(linear_band3, p, scale=1000, xProperty='test', bands=['linear_dist'], labels=['mean=10 min=0'])"
   ]
  },
  {
   "cell_type": "code",
   "execution_count": 15,
   "metadata": {},
   "outputs": [],
   "source": [
    "linear_band4 = tools.imagecollection.distribution_linear_band(collection, 'test', mean=10, min=0, max=1)"
   ]
  },
  {
   "cell_type": "code",
   "execution_count": 16,
   "metadata": {},
   "outputs": [],
   "source": [
    "linear_band4_chart = ui.chart.Image.series(linear_band4, p, scale=1000, xProperty='test', bands=['linear_dist'], labels=['mean=10 min=0 max=1'])"
   ]
  },
  {
   "cell_type": "code",
   "execution_count": 17,
   "metadata": {},
   "outputs": [
    {
     "data": {
      "application/vnd.jupyter.widget-view+json": {
       "model_id": "b1b4defb85174138a6b9672fe6a68a19",
       "version_major": 2,
       "version_minor": 0
      },
      "text/plain": [
       "HTML(value='<embed src=data:image/svg+xml;charset=utf-8;base64,PD94bWwgdmVyc2lvbj0nMS4wJyBlbmNvZGluZz0ndXRmLTg…"
      ]
     },
     "metadata": {},
     "output_type": "display_data"
    }
   ],
   "source": [
    "linear_chart = linear_band1_chart.cat(linear_band2_chart, linear_band3_chart, linear_band4_chart)\n",
    "linear_chart.render_widget(width=800)"
   ]
  },
  {
   "cell_type": "markdown",
   "metadata": {},
   "source": [
    "### Property"
   ]
  },
  {
   "cell_type": "code",
   "execution_count": 18,
   "metadata": {},
   "outputs": [],
   "source": [
    "linear_prop1 = tools.imagecollection.distribution_linear_property(collection, 'test')"
   ]
  },
  {
   "cell_type": "code",
   "execution_count": 20,
   "metadata": {},
   "outputs": [],
   "source": [
    "linear_prop1_chart = ui.chart.Image.series(linear_prop1, p, scale=1000, xProperty='test', properties=['LINEAR_DIST'], labels=['default values'])"
   ]
  },
  {
   "cell_type": "code",
   "execution_count": 21,
   "metadata": {},
   "outputs": [],
   "source": [
    "linear_prop2 = tools.imagecollection.distribution_linear_property(collection, 'test', mean=10)"
   ]
  },
  {
   "cell_type": "code",
   "execution_count": 22,
   "metadata": {},
   "outputs": [],
   "source": [
    "linear_prop2_chart = ui.chart.Image.series(linear_prop2, p, scale=1000, xProperty='test', properties=['LINEAR_DIST'], labels=['mean=10'])"
   ]
  },
  {
   "cell_type": "code",
   "execution_count": 23,
   "metadata": {},
   "outputs": [],
   "source": [
    "linear_prop3 = tools.imagecollection.distribution_linear_property(collection, 'test', mean=10, min=0)"
   ]
  },
  {
   "cell_type": "code",
   "execution_count": 24,
   "metadata": {},
   "outputs": [],
   "source": [
    "linear_prop3_chart = ui.chart.Image.series(linear_prop3, p, scale=1000, xProperty='test', properties=['LINEAR_DIST'], labels=['mean=10 min=0'])"
   ]
  },
  {
   "cell_type": "code",
   "execution_count": 25,
   "metadata": {},
   "outputs": [],
   "source": [
    "linear_prop4 = tools.imagecollection.distribution_linear_property(collection, 'test', mean=10, min=0, max=1)"
   ]
  },
  {
   "cell_type": "code",
   "execution_count": 26,
   "metadata": {},
   "outputs": [],
   "source": [
    "linear_prop4_chart = ui.chart.Image.series(linear_prop4, p, scale=1000, xProperty='test', properties=['LINEAR_DIST'], labels=['mean=10 min=0 max=1'])"
   ]
  },
  {
   "cell_type": "code",
   "execution_count": 27,
   "metadata": {},
   "outputs": [
    {
     "data": {
      "application/vnd.jupyter.widget-view+json": {
       "model_id": "27c77af02d404228baed0fcb1507f8c7",
       "version_major": 2,
       "version_minor": 0
      },
      "text/plain": [
       "HTML(value='<embed src=data:image/svg+xml;charset=utf-8;base64,PD94bWwgdmVyc2lvbj0nMS4wJyBlbmNvZGluZz0ndXRmLTg…"
      ]
     },
     "metadata": {},
     "output_type": "display_data"
    }
   ],
   "source": [
    "linear_chart_prop = linear_prop1_chart.cat(linear_prop2_chart, linear_prop3_chart, linear_prop4_chart)\n",
    "linear_chart_prop.render_widget(width=800)"
   ]
  },
  {
   "cell_type": "code",
   "execution_count": 28,
   "metadata": {},
   "outputs": [
    {
     "data": {
      "text/html": [
       "<div>\n",
       "<style scoped>\n",
       "    .dataframe tbody tr th:only-of-type {\n",
       "        vertical-align: middle;\n",
       "    }\n",
       "\n",
       "    .dataframe tbody tr th {\n",
       "        vertical-align: top;\n",
       "    }\n",
       "\n",
       "    .dataframe thead th {\n",
       "        text-align: right;\n",
       "    }\n",
       "</style>\n",
       "<table border=\"1\" class=\"dataframe\">\n",
       "  <thead>\n",
       "    <tr style=\"text-align: right;\">\n",
       "      <th></th>\n",
       "      <th>-10</th>\n",
       "      <th>-8</th>\n",
       "      <th>-7</th>\n",
       "      <th>-2</th>\n",
       "      <th>-1</th>\n",
       "      <th>0</th>\n",
       "      <th>1</th>\n",
       "      <th>5</th>\n",
       "      <th>7</th>\n",
       "      <th>8</th>\n",
       "      <th>10</th>\n",
       "      <th>12</th>\n",
       "      <th>14</th>\n",
       "      <th>16</th>\n",
       "      <th>18</th>\n",
       "      <th>20</th>\n",
       "      <th>22</th>\n",
       "      <th>24</th>\n",
       "    </tr>\n",
       "  </thead>\n",
       "  <tbody>\n",
       "    <tr>\n",
       "      <th>mean=10 min=0</th>\n",
       "      <td>0.0</td>\n",
       "      <td>1.0</td>\n",
       "      <td>1.50</td>\n",
       "      <td>4.0</td>\n",
       "      <td>4.50</td>\n",
       "      <td>5.000000e+00</td>\n",
       "      <td>5.50</td>\n",
       "      <td>7.50</td>\n",
       "      <td>8.50</td>\n",
       "      <td>9.0</td>\n",
       "      <td>10.0</td>\n",
       "      <td>9.0</td>\n",
       "      <td>8.0</td>\n",
       "      <td>7.0</td>\n",
       "      <td>6.0</td>\n",
       "      <td>5.000000e+00</td>\n",
       "      <td>4.0</td>\n",
       "      <td>3.0</td>\n",
       "    </tr>\n",
       "    <tr>\n",
       "      <th>default values</th>\n",
       "      <td>-10.0</td>\n",
       "      <td>-8.0</td>\n",
       "      <td>-7.00</td>\n",
       "      <td>-2.0</td>\n",
       "      <td>-1.00</td>\n",
       "      <td>-3.552714e-14</td>\n",
       "      <td>1.00</td>\n",
       "      <td>5.00</td>\n",
       "      <td>7.00</td>\n",
       "      <td>8.0</td>\n",
       "      <td>10.0</td>\n",
       "      <td>12.0</td>\n",
       "      <td>14.0</td>\n",
       "      <td>16.0</td>\n",
       "      <td>18.0</td>\n",
       "      <td>2.000000e+01</td>\n",
       "      <td>22.0</td>\n",
       "      <td>24.0</td>\n",
       "    </tr>\n",
       "    <tr>\n",
       "      <th>mean=10 min=0 max=1</th>\n",
       "      <td>0.0</td>\n",
       "      <td>0.1</td>\n",
       "      <td>0.15</td>\n",
       "      <td>0.4</td>\n",
       "      <td>0.45</td>\n",
       "      <td>5.000000e-01</td>\n",
       "      <td>0.55</td>\n",
       "      <td>0.75</td>\n",
       "      <td>0.85</td>\n",
       "      <td>0.9</td>\n",
       "      <td>1.0</td>\n",
       "      <td>0.9</td>\n",
       "      <td>0.8</td>\n",
       "      <td>0.7</td>\n",
       "      <td>0.6</td>\n",
       "      <td>5.000000e-01</td>\n",
       "      <td>0.4</td>\n",
       "      <td>0.3</td>\n",
       "    </tr>\n",
       "    <tr>\n",
       "      <th>mean=10</th>\n",
       "      <td>-10.0</td>\n",
       "      <td>-8.0</td>\n",
       "      <td>-7.00</td>\n",
       "      <td>-2.0</td>\n",
       "      <td>-1.00</td>\n",
       "      <td>-3.019807e-14</td>\n",
       "      <td>1.00</td>\n",
       "      <td>5.00</td>\n",
       "      <td>7.00</td>\n",
       "      <td>8.0</td>\n",
       "      <td>10.0</td>\n",
       "      <td>8.0</td>\n",
       "      <td>6.0</td>\n",
       "      <td>4.0</td>\n",
       "      <td>2.0</td>\n",
       "      <td>-3.019807e-14</td>\n",
       "      <td>-2.0</td>\n",
       "      <td>-4.0</td>\n",
       "    </tr>\n",
       "  </tbody>\n",
       "</table>\n",
       "</div>"
      ],
      "text/plain": [
       "                      -10  -8    -7   -2    -1             0     1     5   \\\n",
       "mean=10 min=0         0.0  1.0  1.50  4.0  4.50  5.000000e+00  5.50  7.50   \n",
       "default values      -10.0 -8.0 -7.00 -2.0 -1.00 -3.552714e-14  1.00  5.00   \n",
       "mean=10 min=0 max=1   0.0  0.1  0.15  0.4  0.45  5.000000e-01  0.55  0.75   \n",
       "mean=10             -10.0 -8.0 -7.00 -2.0 -1.00 -3.019807e-14  1.00  5.00   \n",
       "\n",
       "                       7    8     10    12    14    16    18            20  \\\n",
       "mean=10 min=0        8.50  9.0  10.0   9.0   8.0   7.0   6.0  5.000000e+00   \n",
       "default values       7.00  8.0  10.0  12.0  14.0  16.0  18.0  2.000000e+01   \n",
       "mean=10 min=0 max=1  0.85  0.9   1.0   0.9   0.8   0.7   0.6  5.000000e-01   \n",
       "mean=10              7.00  8.0  10.0   8.0   6.0   4.0   2.0 -3.019807e-14   \n",
       "\n",
       "                       22    24  \n",
       "mean=10 min=0         4.0   3.0  \n",
       "default values       22.0  24.0  \n",
       "mean=10 min=0 max=1   0.4   0.3  \n",
       "mean=10              -2.0  -4.0  "
      ]
     },
     "execution_count": 28,
     "metadata": {},
     "output_type": "execute_result"
    }
   ],
   "source": [
    "linear_chart_prop.data"
   ]
  },
  {
   "cell_type": "markdown",
   "metadata": {},
   "source": [
    "## Normal"
   ]
  },
  {
   "cell_type": "markdown",
   "metadata": {},
   "source": [
    "### Band"
   ]
  },
  {
   "cell_type": "code",
   "execution_count": 29,
   "metadata": {},
   "outputs": [],
   "source": [
    "normal_band1 = tools.imagecollection.distribution_normal_band(collection, 'test')"
   ]
  },
  {
   "cell_type": "code",
   "execution_count": 30,
   "metadata": {},
   "outputs": [],
   "source": [
    "normal_band1_chart = ui.chart.Image.series(normal_band1, ee.Geometry.Point([0, 0]), scale=1000, xProperty='test', bands=['normal_dist'], labels=['defualt'])"
   ]
  },
  {
   "cell_type": "code",
   "execution_count": 38,
   "metadata": {},
   "outputs": [],
   "source": [
    "normal_band2 = tools.imagecollection.distribution_normal_band(collection, 'test', mean=0)"
   ]
  },
  {
   "cell_type": "code",
   "execution_count": 39,
   "metadata": {},
   "outputs": [],
   "source": [
    "normal_band2_chart = ui.chart.Image.series(normal_band2, ee.Geometry.Point([0, 0]), scale=1000, xProperty='test', bands=['normal_dist'], labels=['mean=0'])"
   ]
  },
  {
   "cell_type": "code",
   "execution_count": 40,
   "metadata": {},
   "outputs": [],
   "source": [
    "normal_band3 = tools.imagecollection.distribution_normal_band(collection, 'test', mean=0, min=0)"
   ]
  },
  {
   "cell_type": "code",
   "execution_count": 41,
   "metadata": {},
   "outputs": [],
   "source": [
    "normal_band3_chart = ui.chart.Image.series(normal_band3, ee.Geometry.Point([0, 0]), scale=1000, xProperty='test', bands=['normal_dist'], labels=['mean=0 min=0'])"
   ]
  },
  {
   "cell_type": "code",
   "execution_count": 42,
   "metadata": {},
   "outputs": [],
   "source": [
    "normal_band4 = tools.imagecollection.distribution_normal_band(collection, 'test', mean=0, min=0, max=1)"
   ]
  },
  {
   "cell_type": "code",
   "execution_count": 43,
   "metadata": {},
   "outputs": [],
   "source": [
    "normal_band4_chart = ui.chart.Image.series(normal_band4, ee.Geometry.Point([0, 0]), scale=1000, xProperty='test', bands=['normal_dist'], labels=['mean=0 min=0 max=1'])"
   ]
  },
  {
   "cell_type": "code",
   "execution_count": 47,
   "metadata": {},
   "outputs": [
    {
     "data": {
      "application/vnd.jupyter.widget-view+json": {
       "model_id": "57da5c92494149df8c53d5f60cd0fdc7",
       "version_major": 2,
       "version_minor": 0
      },
      "text/plain": [
       "HTML(value='<embed src=data:image/svg+xml;charset=utf-8;base64,PD94bWwgdmVyc2lvbj0nMS4wJyBlbmNvZGluZz0ndXRmLTg…"
      ]
     },
     "metadata": {},
     "output_type": "display_data"
    }
   ],
   "source": [
    "normal_band4_chart.render_widget(width=800)"
   ]
  },
  {
   "cell_type": "code",
   "execution_count": 46,
   "metadata": {},
   "outputs": [
    {
     "data": {
      "application/vnd.jupyter.widget-view+json": {
       "model_id": "cadd9eafe59f4851a924ca662ba6082f",
       "version_major": 2,
       "version_minor": 0
      },
      "text/plain": [
       "HTML(value='<embed src=data:image/svg+xml;charset=utf-8;base64,PD94bWwgdmVyc2lvbj0nMS4wJyBlbmNvZGluZz0ndXRmLTg…"
      ]
     },
     "metadata": {},
     "output_type": "display_data"
    }
   ],
   "source": [
    "normal_band_chart = normal_band1_chart.cat(normal_band2_chart, normal_band3_chart)\n",
    "normal_band_chart.render_widget(width=800)"
   ]
  },
  {
   "cell_type": "markdown",
   "metadata": {},
   "source": [
    "## Property"
   ]
  },
  {
   "cell_type": "code",
   "execution_count": 48,
   "metadata": {},
   "outputs": [],
   "source": [
    "normal_prop1 = tools.imagecollection.distribution_normal_property(collection, 'test')"
   ]
  },
  {
   "cell_type": "code",
   "execution_count": 49,
   "metadata": {},
   "outputs": [],
   "source": [
    "normal_prop1_chart = ui.chart.Image.series(normal_prop1, ee.Geometry.Point([0, 0]), scale=1000, xProperty='test', properties=['NORMAL_DIST'], labels=['defualt'])"
   ]
  },
  {
   "cell_type": "code",
   "execution_count": 50,
   "metadata": {},
   "outputs": [],
   "source": [
    "normal_prop2 = tools.imagecollection.distribution_normal_property(collection, 'test', mean=0)"
   ]
  },
  {
   "cell_type": "code",
   "execution_count": 51,
   "metadata": {},
   "outputs": [],
   "source": [
    "normal_prop2_chart = ui.chart.Image.series(normal_prop2, ee.Geometry.Point([0, 0]), scale=1000, xProperty='test', properties=['NORMAL_DIST'], labels=['mean=0'])"
   ]
  },
  {
   "cell_type": "code",
   "execution_count": 52,
   "metadata": {},
   "outputs": [],
   "source": [
    "normal_prop3 = tools.imagecollection.distribution_normal_property(collection, 'test', mean=0, min=0)"
   ]
  },
  {
   "cell_type": "code",
   "execution_count": 53,
   "metadata": {},
   "outputs": [],
   "source": [
    "normal_prop3_chart = ui.chart.Image.series(normal_prop3, ee.Geometry.Point([0, 0]), scale=1000, xProperty='test', properties=['NORMAL_DIST'], labels=['mean=0 min=0'])"
   ]
  },
  {
   "cell_type": "code",
   "execution_count": 54,
   "metadata": {},
   "outputs": [],
   "source": [
    "normal_prop4 = tools.imagecollection.distribution_normal_property(collection, 'test', mean=0, min=0, max=1)"
   ]
  },
  {
   "cell_type": "code",
   "execution_count": 55,
   "metadata": {},
   "outputs": [],
   "source": [
    "normal_prop4_chart = ui.chart.Image.series(normal_prop4, ee.Geometry.Point([0, 0]), scale=1000, xProperty='test', properties=['NORMAL_DIST'], labels=['mean=0 min=0 max=1'])"
   ]
  },
  {
   "cell_type": "code",
   "execution_count": 56,
   "metadata": {},
   "outputs": [
    {
     "data": {
      "application/vnd.jupyter.widget-view+json": {
       "model_id": "993da6d006f74706bd46d2310ac1fb9f",
       "version_major": 2,
       "version_minor": 0
      },
      "text/plain": [
       "HTML(value='<embed src=data:image/svg+xml;charset=utf-8;base64,PD94bWwgdmVyc2lvbj0nMS4wJyBlbmNvZGluZz0ndXRmLTg…"
      ]
     },
     "metadata": {},
     "output_type": "display_data"
    }
   ],
   "source": [
    "normal_prop4_chart.render_widget(width=800)"
   ]
  },
  {
   "cell_type": "code",
   "execution_count": 57,
   "metadata": {},
   "outputs": [
    {
     "data": {
      "application/vnd.jupyter.widget-view+json": {
       "model_id": "0f67a6bc32664e76a68244bcead3f6ac",
       "version_major": 2,
       "version_minor": 0
      },
      "text/plain": [
       "HTML(value='<embed src=data:image/svg+xml;charset=utf-8;base64,PD94bWwgdmVyc2lvbj0nMS4wJyBlbmNvZGluZz0ndXRmLTg…"
      ]
     },
     "metadata": {},
     "output_type": "display_data"
    }
   ],
   "source": [
    "normal_prop_chart = normal_prop1_chart.cat(normal_prop2_chart, normal_prop3_chart)\n",
    "normal_prop_chart.render_widget(width=800)"
   ]
  },
  {
   "cell_type": "code",
   "execution_count": 58,
   "metadata": {},
   "outputs": [
    {
     "data": {
      "text/html": [
       "<div>\n",
       "<style scoped>\n",
       "    .dataframe tbody tr th:only-of-type {\n",
       "        vertical-align: middle;\n",
       "    }\n",
       "\n",
       "    .dataframe tbody tr th {\n",
       "        vertical-align: top;\n",
       "    }\n",
       "\n",
       "    .dataframe thead th {\n",
       "        text-align: right;\n",
       "    }\n",
       "</style>\n",
       "<table border=\"1\" class=\"dataframe\">\n",
       "  <thead>\n",
       "    <tr style=\"text-align: right;\">\n",
       "      <th></th>\n",
       "      <th>-10</th>\n",
       "      <th>-8</th>\n",
       "      <th>-7</th>\n",
       "      <th>-2</th>\n",
       "      <th>-1</th>\n",
       "      <th>0</th>\n",
       "      <th>1</th>\n",
       "      <th>5</th>\n",
       "      <th>7</th>\n",
       "      <th>8</th>\n",
       "      <th>10</th>\n",
       "      <th>12</th>\n",
       "      <th>14</th>\n",
       "      <th>16</th>\n",
       "      <th>18</th>\n",
       "      <th>20</th>\n",
       "      <th>22</th>\n",
       "      <th>24</th>\n",
       "    </tr>\n",
       "  </thead>\n",
       "  <tbody>\n",
       "    <tr>\n",
       "      <th>mean=0 min=0</th>\n",
       "      <td>0.023140</td>\n",
       "      <td>0.027921</td>\n",
       "      <td>0.030165</td>\n",
       "      <td>0.037930</td>\n",
       "      <td>0.038508</td>\n",
       "      <td>0.038703</td>\n",
       "      <td>0.038508</td>\n",
       "      <td>0.034101</td>\n",
       "      <td>0.030165</td>\n",
       "      <td>0.027921</td>\n",
       "      <td>0.023140</td>\n",
       "      <td>0.018297</td>\n",
       "      <td>0.013727</td>\n",
       "      <td>0.009672</td>\n",
       "      <td>0.006268</td>\n",
       "      <td>0.003555</td>\n",
       "      <td>0.001494</td>\n",
       "      <td>0.000000</td>\n",
       "    </tr>\n",
       "    <tr>\n",
       "      <th>mean=0</th>\n",
       "      <td>0.024175</td>\n",
       "      <td>0.028638</td>\n",
       "      <td>0.030733</td>\n",
       "      <td>0.037981</td>\n",
       "      <td>0.038521</td>\n",
       "      <td>0.038703</td>\n",
       "      <td>0.038521</td>\n",
       "      <td>0.034407</td>\n",
       "      <td>0.030733</td>\n",
       "      <td>0.028638</td>\n",
       "      <td>0.024175</td>\n",
       "      <td>0.019654</td>\n",
       "      <td>0.015388</td>\n",
       "      <td>0.011602</td>\n",
       "      <td>0.008425</td>\n",
       "      <td>0.005892</td>\n",
       "      <td>0.003968</td>\n",
       "      <td>0.002574</td>\n",
       "    </tr>\n",
       "    <tr>\n",
       "      <th>defualt</th>\n",
       "      <td>0.009671</td>\n",
       "      <td>0.013111</td>\n",
       "      <td>0.015051</td>\n",
       "      <td>0.026062</td>\n",
       "      <td>0.028277</td>\n",
       "      <td>0.030393</td>\n",
       "      <td>0.032361</td>\n",
       "      <td>0.037857</td>\n",
       "      <td>0.038698</td>\n",
       "      <td>0.038577</td>\n",
       "      <td>0.037268</td>\n",
       "      <td>0.034674</td>\n",
       "      <td>0.031068</td>\n",
       "      <td>0.026809</td>\n",
       "      <td>0.022279</td>\n",
       "      <td>0.017830</td>\n",
       "      <td>0.013743</td>\n",
       "      <td>0.010201</td>\n",
       "    </tr>\n",
       "    <tr>\n",
       "      <th>mean=0 min=0 max=1</th>\n",
       "      <td>0.597896</td>\n",
       "      <td>0.721422</td>\n",
       "      <td>0.779397</td>\n",
       "      <td>0.980024</td>\n",
       "      <td>0.994971</td>\n",
       "      <td>1.000000</td>\n",
       "      <td>0.994971</td>\n",
       "      <td>0.881103</td>\n",
       "      <td>0.779397</td>\n",
       "      <td>0.721422</td>\n",
       "      <td>0.597896</td>\n",
       "      <td>0.472750</td>\n",
       "      <td>0.354669</td>\n",
       "      <td>0.249900</td>\n",
       "      <td>0.161957</td>\n",
       "      <td>0.091841</td>\n",
       "      <td>0.038594</td>\n",
       "      <td>0.000000</td>\n",
       "    </tr>\n",
       "  </tbody>\n",
       "</table>\n",
       "</div>"
      ],
      "text/plain": [
       "                         -10       -8        -7        -2        -1   \\\n",
       "mean=0 min=0        0.023140  0.027921  0.030165  0.037930  0.038508   \n",
       "mean=0              0.024175  0.028638  0.030733  0.037981  0.038521   \n",
       "defualt             0.009671  0.013111  0.015051  0.026062  0.028277   \n",
       "mean=0 min=0 max=1  0.597896  0.721422  0.779397  0.980024  0.994971   \n",
       "\n",
       "                          0         1         5         7         8   \\\n",
       "mean=0 min=0        0.038703  0.038508  0.034101  0.030165  0.027921   \n",
       "mean=0              0.038703  0.038521  0.034407  0.030733  0.028638   \n",
       "defualt             0.030393  0.032361  0.037857  0.038698  0.038577   \n",
       "mean=0 min=0 max=1  1.000000  0.994971  0.881103  0.779397  0.721422   \n",
       "\n",
       "                          10        12        14        16        18  \\\n",
       "mean=0 min=0        0.023140  0.018297  0.013727  0.009672  0.006268   \n",
       "mean=0              0.024175  0.019654  0.015388  0.011602  0.008425   \n",
       "defualt             0.037268  0.034674  0.031068  0.026809  0.022279   \n",
       "mean=0 min=0 max=1  0.597896  0.472750  0.354669  0.249900  0.161957   \n",
       "\n",
       "                          20        22        24  \n",
       "mean=0 min=0        0.003555  0.001494  0.000000  \n",
       "mean=0              0.005892  0.003968  0.002574  \n",
       "defualt             0.017830  0.013743  0.010201  \n",
       "mean=0 min=0 max=1  0.091841  0.038594  0.000000  "
      ]
     },
     "execution_count": 58,
     "metadata": {},
     "output_type": "execute_result"
    }
   ],
   "source": [
    "normal_prop4_chart.cat(normal_prop_chart).data"
   ]
  },
  {
   "cell_type": "code",
   "execution_count": null,
   "metadata": {},
   "outputs": [],
   "source": []
  }
 ],
 "metadata": {
  "kernelspec": {
   "display_name": "geepy3",
   "language": "python",
   "name": "geepy3"
  },
  "language_info": {
   "codemirror_mode": {
    "name": "ipython",
    "version": 3
   },
   "file_extension": ".py",
   "mimetype": "text/x-python",
   "name": "python",
   "nbconvert_exporter": "python",
   "pygments_lexer": "ipython3",
   "version": "3.5.2"
  }
 },
 "nbformat": 4,
 "nbformat_minor": 2
}
