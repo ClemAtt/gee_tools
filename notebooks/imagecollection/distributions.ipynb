{
 "cells": [
  {
   "cell_type": "markdown",
   "metadata": {},
   "source": [
    "# Applying different distributions to collections and images"
   ]
  },
  {
   "cell_type": "code",
   "execution_count": 1,
   "metadata": {},
   "outputs": [],
   "source": [
    "import ee\n",
    "from geetools import ui, tools"
   ]
  },
  {
   "cell_type": "code",
   "execution_count": 2,
   "metadata": {},
   "outputs": [],
   "source": [
    "p = ee.Geometry.Point([0, 0])"
   ]
  },
  {
   "cell_type": "markdown",
   "metadata": {},
   "source": [
    "## Build a Test Collection"
   ]
  },
  {
   "cell_type": "code",
   "execution_count": 3,
   "metadata": {},
   "outputs": [],
   "source": [
    "# values = ee.List([0, 2, 5, 8, 10, 12, 15, 18, 22, 25, 28, 31, 35, 39, 42, 48, 51, 55])\n",
    "# values = ee.List([-10, -8, -7, -1, -2, 0, 1, 5, 7, 8, 10, 12, 14, 16, 18, 20, 22, 24])  # With negative values\n",
    "values = ee.List([-20, -32, -15, -8, -5, 0, 2, 4, 6, 8, 9, 10, 12, 14, 16, 18, 20, 23])"
   ]
  },
  {
   "cell_type": "code",
   "execution_count": 4,
   "metadata": {},
   "outputs": [],
   "source": [
    "def build_collection(n):\n",
    "    n = ee.Number(n)\n",
    "    return ee.Image.constant(n).rename('test').set('test', n).toFloat()\n",
    "images = values.map(build_collection)"
   ]
  },
  {
   "cell_type": "code",
   "execution_count": 5,
   "metadata": {},
   "outputs": [],
   "source": [
    "collection = ee.ImageCollection.fromImages(images)"
   ]
  },
  {
   "cell_type": "markdown",
   "metadata": {},
   "source": [
    "## Linear"
   ]
  },
  {
   "cell_type": "markdown",
   "metadata": {},
   "source": [
    "### Band"
   ]
  },
  {
   "cell_type": "code",
   "execution_count": 6,
   "metadata": {},
   "outputs": [],
   "source": [
    "linear_band1 = tools.imagecollection.distribution_linear_band(collection, 'test')"
   ]
  },
  {
   "cell_type": "code",
   "execution_count": 7,
   "metadata": {},
   "outputs": [],
   "source": [
    "linear_band1_chart = ui.chart.Image.series(linear_band1, p, scale=1000, xProperty='test', bands=['linear_dist'], label_bands=['default values'])"
   ]
  },
  {
   "cell_type": "code",
   "execution_count": 8,
   "metadata": {},
   "outputs": [],
   "source": [
    "linear_band2 = tools.imagecollection.distribution_linear_band(collection, 'test', mean=10)"
   ]
  },
  {
   "cell_type": "code",
   "execution_count": 9,
   "metadata": {},
   "outputs": [],
   "source": [
    "linear_band2_chart = ui.chart.Image.series(linear_band2, p, scale=1000, xProperty='test', bands=['linear_dist'], label_bands=['mean=10'])"
   ]
  },
  {
   "cell_type": "code",
   "execution_count": 10,
   "metadata": {},
   "outputs": [],
   "source": [
    "linear_band3 = tools.imagecollection.distribution_linear_band(collection, 'test', mean=10, min=0)"
   ]
  },
  {
   "cell_type": "code",
   "execution_count": 11,
   "metadata": {},
   "outputs": [],
   "source": [
    "linear_band3_chart = ui.chart.Image.series(linear_band3, p, scale=1000, xProperty='test', bands=['linear_dist'], label_bands=['mean=10 min=0'])"
   ]
  },
  {
   "cell_type": "code",
   "execution_count": 15,
   "metadata": {},
   "outputs": [],
   "source": [
    "linear_band4 = tools.imagecollection.distribution_linear_band(collection, 'test', mean=10, min=10, max=20)"
   ]
  },
  {
   "cell_type": "code",
   "execution_count": 16,
   "metadata": {},
   "outputs": [],
   "source": [
    "linear_band4_chart = ui.chart.Image.series(linear_band4, p, scale=1000, xProperty='test', bands=['linear_dist'], label_bands=['mean=10 min=0 max=12'])"
   ]
  },
  {
   "cell_type": "code",
   "execution_count": 17,
   "metadata": {},
   "outputs": [
    {
     "data": {
      "application/vnd.jupyter.widget-view+json": {
       "model_id": "59e24eae68c242cea019461c6a87bd38",
       "version_major": 2,
       "version_minor": 0
      },
      "text/plain": [
       "HTML(value='<embed src=data:image/svg+xml;charset=utf-8;base64,PD94bWwgdmVyc2lvbj0nMS4wJyBlbmNvZGluZz0ndXRmLTg…"
      ]
     },
     "metadata": {},
     "output_type": "display_data"
    }
   ],
   "source": [
    "linear_chart = linear_band1_chart.cat(linear_band2_chart, linear_band3_chart, linear_band4_chart)\n",
    "linear_chart.render_widget(width=800)"
   ]
  },
  {
   "cell_type": "markdown",
   "metadata": {},
   "source": [
    "### Property"
   ]
  },
  {
   "cell_type": "code",
   "execution_count": 18,
   "metadata": {},
   "outputs": [],
   "source": [
    "linear_prop1 = tools.imagecollection.distribution_linear_property(collection, 'test')"
   ]
  },
  {
   "cell_type": "code",
   "execution_count": 19,
   "metadata": {},
   "outputs": [],
   "source": [
    "linear_prop1_chart = ui.chart.Image.series(linear_prop1, p, scale=1000, xProperty='test', properties=['LINEAR_DIST'], label_properties=['default values'])"
   ]
  },
  {
   "cell_type": "code",
   "execution_count": 20,
   "metadata": {},
   "outputs": [],
   "source": [
    "linear_prop2 = tools.imagecollection.distribution_linear_property(collection, 'test', mean=10)"
   ]
  },
  {
   "cell_type": "code",
   "execution_count": 21,
   "metadata": {},
   "outputs": [],
   "source": [
    "linear_prop2_chart = ui.chart.Image.series(linear_prop2, p, scale=1000, xProperty='test', properties=['LINEAR_DIST'], label_properties=['mean=10'])"
   ]
  },
  {
   "cell_type": "code",
   "execution_count": 22,
   "metadata": {},
   "outputs": [],
   "source": [
    "linear_prop3 = tools.imagecollection.distribution_linear_property(collection, 'test', mean=10, min=0)"
   ]
  },
  {
   "cell_type": "code",
   "execution_count": 23,
   "metadata": {},
   "outputs": [],
   "source": [
    "linear_prop3_chart = ui.chart.Image.series(linear_prop3, p, scale=1000, xProperty='test', properties=['LINEAR_DIST'], label_properties=['mean=10 min=0'])"
   ]
  },
  {
   "cell_type": "code",
   "execution_count": 24,
   "metadata": {},
   "outputs": [],
   "source": [
    "linear_prop4 = tools.imagecollection.distribution_linear_property(collection, 'test', mean=10, min=0, max=10)"
   ]
  },
  {
   "cell_type": "code",
   "execution_count": 25,
   "metadata": {},
   "outputs": [],
   "source": [
    "linear_prop4_chart = ui.chart.Image.series(linear_prop4, p, scale=1000, xProperty='test', properties=['LINEAR_DIST'], label_properties=['mean=10 min=0 max=10'])"
   ]
  },
  {
   "cell_type": "code",
   "execution_count": 26,
   "metadata": {},
   "outputs": [],
   "source": [
    "linear_prop5 = tools.imagecollection.distribution_linear_property(collection, 'test', mean=10, min=5, max=20)"
   ]
  },
  {
   "cell_type": "code",
   "execution_count": 27,
   "metadata": {},
   "outputs": [],
   "source": [
    "linear_prop5_chart = ui.chart.Image.series(linear_prop5, p, scale=1000, xProperty='test', properties=['LINEAR_DIST'], label_properties=['mean=10 min=5 max=20'])"
   ]
  },
  {
   "cell_type": "code",
   "execution_count": 28,
   "metadata": {},
   "outputs": [
    {
     "data": {
      "application/vnd.jupyter.widget-view+json": {
       "model_id": "185382982a4641ddb6f1a7bb8cee086e",
       "version_major": 2,
       "version_minor": 0
      },
      "text/plain": [
       "HTML(value='<embed src=data:image/svg+xml;charset=utf-8;base64,PD94bWwgdmVyc2lvbj0nMS4wJyBlbmNvZGluZz0ndXRmLTg…"
      ]
     },
     "metadata": {},
     "output_type": "display_data"
    }
   ],
   "source": [
    "linear_chart_prop = linear_prop1_chart.cat(linear_prop2_chart, linear_prop3_chart, linear_prop4_chart, linear_prop5_chart)\n",
    "linear_chart_prop.render_widget(width=800)"
   ]
  },
  {
   "cell_type": "code",
   "execution_count": 29,
   "metadata": {},
   "outputs": [
    {
     "data": {
      "text/html": [
       "<div>\n",
       "<style scoped>\n",
       "    .dataframe tbody tr th:only-of-type {\n",
       "        vertical-align: middle;\n",
       "    }\n",
       "\n",
       "    .dataframe tbody tr th {\n",
       "        vertical-align: top;\n",
       "    }\n",
       "\n",
       "    .dataframe thead th {\n",
       "        text-align: right;\n",
       "    }\n",
       "</style>\n",
       "<table border=\"1\" class=\"dataframe\">\n",
       "  <thead>\n",
       "    <tr style=\"text-align: right;\">\n",
       "      <th></th>\n",
       "      <th>default values</th>\n",
       "      <th>mean=10 min=0</th>\n",
       "      <th>mean=10 min=0 max=10</th>\n",
       "      <th>mean=10 min=5 max=20</th>\n",
       "      <th>mean=10</th>\n",
       "    </tr>\n",
       "  </thead>\n",
       "  <tbody>\n",
       "    <tr>\n",
       "      <th>-32</th>\n",
       "      <td>-32.0</td>\n",
       "      <td>-3.552714e-15</td>\n",
       "      <td>0.000000</td>\n",
       "      <td>5.000000</td>\n",
       "      <td>-32.000000</td>\n",
       "    </tr>\n",
       "    <tr>\n",
       "      <th>-20</th>\n",
       "      <td>-20.0</td>\n",
       "      <td>6.571429e+00</td>\n",
       "      <td>2.857143</td>\n",
       "      <td>9.285714</td>\n",
       "      <td>-16.285714</td>\n",
       "    </tr>\n",
       "    <tr>\n",
       "      <th>-15</th>\n",
       "      <td>-15.0</td>\n",
       "      <td>9.309524e+00</td>\n",
       "      <td>4.047619</td>\n",
       "      <td>11.071429</td>\n",
       "      <td>-9.738095</td>\n",
       "    </tr>\n",
       "    <tr>\n",
       "      <th>-8</th>\n",
       "      <td>-8.0</td>\n",
       "      <td>1.314286e+01</td>\n",
       "      <td>5.714286</td>\n",
       "      <td>13.571429</td>\n",
       "      <td>-0.571429</td>\n",
       "    </tr>\n",
       "    <tr>\n",
       "      <th>-5</th>\n",
       "      <td>-5.0</td>\n",
       "      <td>1.478571e+01</td>\n",
       "      <td>6.428571</td>\n",
       "      <td>14.642857</td>\n",
       "      <td>3.357143</td>\n",
       "    </tr>\n",
       "    <tr>\n",
       "      <th>0</th>\n",
       "      <td>0.0</td>\n",
       "      <td>1.752381e+01</td>\n",
       "      <td>7.619048</td>\n",
       "      <td>16.428571</td>\n",
       "      <td>9.904762</td>\n",
       "    </tr>\n",
       "    <tr>\n",
       "      <th>2</th>\n",
       "      <td>2.0</td>\n",
       "      <td>1.861905e+01</td>\n",
       "      <td>8.095238</td>\n",
       "      <td>17.142857</td>\n",
       "      <td>12.523810</td>\n",
       "    </tr>\n",
       "    <tr>\n",
       "      <th>4</th>\n",
       "      <td>4.0</td>\n",
       "      <td>1.971429e+01</td>\n",
       "      <td>8.571429</td>\n",
       "      <td>17.857143</td>\n",
       "      <td>15.142857</td>\n",
       "    </tr>\n",
       "    <tr>\n",
       "      <th>6</th>\n",
       "      <td>6.0</td>\n",
       "      <td>2.080952e+01</td>\n",
       "      <td>9.047619</td>\n",
       "      <td>18.571429</td>\n",
       "      <td>17.761905</td>\n",
       "    </tr>\n",
       "    <tr>\n",
       "      <th>8</th>\n",
       "      <td>8.0</td>\n",
       "      <td>2.190476e+01</td>\n",
       "      <td>9.523810</td>\n",
       "      <td>19.285714</td>\n",
       "      <td>20.380952</td>\n",
       "    </tr>\n",
       "    <tr>\n",
       "      <th>9</th>\n",
       "      <td>9.0</td>\n",
       "      <td>2.245238e+01</td>\n",
       "      <td>9.761905</td>\n",
       "      <td>19.642857</td>\n",
       "      <td>21.690476</td>\n",
       "    </tr>\n",
       "    <tr>\n",
       "      <th>10</th>\n",
       "      <td>10.0</td>\n",
       "      <td>2.300000e+01</td>\n",
       "      <td>10.000000</td>\n",
       "      <td>20.000000</td>\n",
       "      <td>23.000000</td>\n",
       "    </tr>\n",
       "    <tr>\n",
       "      <th>12</th>\n",
       "      <td>12.0</td>\n",
       "      <td>2.190476e+01</td>\n",
       "      <td>9.523810</td>\n",
       "      <td>19.285714</td>\n",
       "      <td>20.380952</td>\n",
       "    </tr>\n",
       "    <tr>\n",
       "      <th>14</th>\n",
       "      <td>14.0</td>\n",
       "      <td>2.080952e+01</td>\n",
       "      <td>9.047619</td>\n",
       "      <td>18.571429</td>\n",
       "      <td>17.761905</td>\n",
       "    </tr>\n",
       "    <tr>\n",
       "      <th>16</th>\n",
       "      <td>16.0</td>\n",
       "      <td>1.971429e+01</td>\n",
       "      <td>8.571429</td>\n",
       "      <td>17.857143</td>\n",
       "      <td>15.142857</td>\n",
       "    </tr>\n",
       "    <tr>\n",
       "      <th>18</th>\n",
       "      <td>18.0</td>\n",
       "      <td>1.861905e+01</td>\n",
       "      <td>8.095238</td>\n",
       "      <td>17.142857</td>\n",
       "      <td>12.523810</td>\n",
       "    </tr>\n",
       "    <tr>\n",
       "      <th>20</th>\n",
       "      <td>20.0</td>\n",
       "      <td>1.752381e+01</td>\n",
       "      <td>7.619048</td>\n",
       "      <td>16.428571</td>\n",
       "      <td>9.904762</td>\n",
       "    </tr>\n",
       "    <tr>\n",
       "      <th>23</th>\n",
       "      <td>23.0</td>\n",
       "      <td>1.588095e+01</td>\n",
       "      <td>6.904762</td>\n",
       "      <td>15.357143</td>\n",
       "      <td>5.976190</td>\n",
       "    </tr>\n",
       "  </tbody>\n",
       "</table>\n",
       "</div>"
      ],
      "text/plain": [
       "     default values  mean=10 min=0  mean=10 min=0 max=10  \\\n",
       "-32           -32.0  -3.552714e-15              0.000000   \n",
       "-20           -20.0   6.571429e+00              2.857143   \n",
       "-15           -15.0   9.309524e+00              4.047619   \n",
       "-8             -8.0   1.314286e+01              5.714286   \n",
       "-5             -5.0   1.478571e+01              6.428571   \n",
       " 0              0.0   1.752381e+01              7.619048   \n",
       " 2              2.0   1.861905e+01              8.095238   \n",
       " 4              4.0   1.971429e+01              8.571429   \n",
       " 6              6.0   2.080952e+01              9.047619   \n",
       " 8              8.0   2.190476e+01              9.523810   \n",
       " 9              9.0   2.245238e+01              9.761905   \n",
       " 10            10.0   2.300000e+01             10.000000   \n",
       " 12            12.0   2.190476e+01              9.523810   \n",
       " 14            14.0   2.080952e+01              9.047619   \n",
       " 16            16.0   1.971429e+01              8.571429   \n",
       " 18            18.0   1.861905e+01              8.095238   \n",
       " 20            20.0   1.752381e+01              7.619048   \n",
       " 23            23.0   1.588095e+01              6.904762   \n",
       "\n",
       "     mean=10 min=5 max=20    mean=10  \n",
       "-32              5.000000 -32.000000  \n",
       "-20              9.285714 -16.285714  \n",
       "-15             11.071429  -9.738095  \n",
       "-8              13.571429  -0.571429  \n",
       "-5              14.642857   3.357143  \n",
       " 0              16.428571   9.904762  \n",
       " 2              17.142857  12.523810  \n",
       " 4              17.857143  15.142857  \n",
       " 6              18.571429  17.761905  \n",
       " 8              19.285714  20.380952  \n",
       " 9              19.642857  21.690476  \n",
       " 10             20.000000  23.000000  \n",
       " 12             19.285714  20.380952  \n",
       " 14             18.571429  17.761905  \n",
       " 16             17.857143  15.142857  \n",
       " 18             17.142857  12.523810  \n",
       " 20             16.428571   9.904762  \n",
       " 23             15.357143   5.976190  "
      ]
     },
     "execution_count": 29,
     "metadata": {},
     "output_type": "execute_result"
    }
   ],
   "source": [
    "linear_chart_prop.dataframe"
   ]
  },
  {
   "cell_type": "markdown",
   "metadata": {},
   "source": [
    "## Normal"
   ]
  },
  {
   "cell_type": "markdown",
   "metadata": {},
   "source": [
    "### Band"
   ]
  },
  {
   "cell_type": "code",
   "execution_count": 27,
   "metadata": {},
   "outputs": [],
   "source": [
    "normal_band1 = tools.imagecollection.distribution_normal_band(collection, 'test')"
   ]
  },
  {
   "cell_type": "code",
   "execution_count": 28,
   "metadata": {},
   "outputs": [],
   "source": [
    "normal_band1_chart = ui.chart.Image.series(normal_band1, ee.Geometry.Point([0, 0]), scale=1000, xProperty='test', bands=['normal_dist'], label_bands=['defualt'])"
   ]
  },
  {
   "cell_type": "code",
   "execution_count": 29,
   "metadata": {},
   "outputs": [],
   "source": [
    "normal_band2 = tools.imagecollection.distribution_normal_band(collection, 'test', mean=0)"
   ]
  },
  {
   "cell_type": "code",
   "execution_count": 30,
   "metadata": {},
   "outputs": [],
   "source": [
    "normal_band2_chart = ui.chart.Image.series(normal_band2, ee.Geometry.Point([0, 0]), scale=1000, xProperty='test', bands=['normal_dist'], label_bands=['mean=0'])"
   ]
  },
  {
   "cell_type": "code",
   "execution_count": 31,
   "metadata": {},
   "outputs": [],
   "source": [
    "normal_band3 = tools.imagecollection.distribution_normal_band(collection, 'test', mean=0, min=0)"
   ]
  },
  {
   "cell_type": "code",
   "execution_count": 32,
   "metadata": {},
   "outputs": [],
   "source": [
    "normal_band3_chart = ui.chart.Image.series(normal_band3, ee.Geometry.Point([0, 0]), scale=1000, xProperty='test', bands=['normal_dist'], label_bands=['mean=0 min=0'])"
   ]
  },
  {
   "cell_type": "code",
   "execution_count": 33,
   "metadata": {},
   "outputs": [],
   "source": [
    "normal_band4 = tools.imagecollection.distribution_normal_band(collection, 'test', mean=0, min=0, max=1)"
   ]
  },
  {
   "cell_type": "code",
   "execution_count": 34,
   "metadata": {},
   "outputs": [],
   "source": [
    "normal_band4_chart = ui.chart.Image.series(normal_band4, ee.Geometry.Point([0, 0]), scale=1000, xProperty='test', bands=['normal_dist'], label_bands=['mean=0 min=0 max=1'])"
   ]
  },
  {
   "cell_type": "code",
   "execution_count": 35,
   "metadata": {},
   "outputs": [
    {
     "data": {
      "application/vnd.jupyter.widget-view+json": {
       "model_id": "f2e42533ff584ac3b96d7af5d540b5c5",
       "version_major": 2,
       "version_minor": 0
      },
      "text/plain": [
       "HTML(value='<embed src=data:image/svg+xml;charset=utf-8;base64,PD94bWwgdmVyc2lvbj0nMS4wJyBlbmNvZGluZz0ndXRmLTg…"
      ]
     },
     "metadata": {},
     "output_type": "display_data"
    }
   ],
   "source": [
    "normal_band_chart = normal_band1_chart.cat(normal_band2_chart, normal_band3_chart)\n",
    "normal_band_chart.render_widget(width=800)"
   ]
  },
  {
   "cell_type": "code",
   "execution_count": 50,
   "metadata": {},
   "outputs": [
    {
     "data": {
      "application/vnd.jupyter.widget-view+json": {
       "model_id": "a940496dda054cb397eeb8c7365d1d6f",
       "version_major": 2,
       "version_minor": 0
      },
      "text/plain": [
       "HTML(value='<embed src=data:image/svg+xml;charset=utf-8;base64,PD94bWwgdmVyc2lvbj0nMS4wJyBlbmNvZGluZz0ndXRmLTg…"
      ]
     },
     "metadata": {},
     "output_type": "display_data"
    }
   ],
   "source": [
    "normal_band4_chart.render_widget(width=800)"
   ]
  },
  {
   "cell_type": "code",
   "execution_count": 36,
   "metadata": {},
   "outputs": [
    {
     "data": {
      "text/html": [
       "<div>\n",
       "<style scoped>\n",
       "    .dataframe tbody tr th:only-of-type {\n",
       "        vertical-align: middle;\n",
       "    }\n",
       "\n",
       "    .dataframe tbody tr th {\n",
       "        vertical-align: top;\n",
       "    }\n",
       "\n",
       "    .dataframe thead th {\n",
       "        text-align: right;\n",
       "    }\n",
       "</style>\n",
       "<table border=\"1\" class=\"dataframe\">\n",
       "  <thead>\n",
       "    <tr style=\"text-align: right;\">\n",
       "      <th></th>\n",
       "      <th>mean=0 min=0</th>\n",
       "      <th>defualt</th>\n",
       "      <th>mean=0</th>\n",
       "    </tr>\n",
       "  </thead>\n",
       "  <tbody>\n",
       "    <tr>\n",
       "      <th>-10</th>\n",
       "      <td>0.023140</td>\n",
       "      <td>0.009671</td>\n",
       "      <td>0.024175</td>\n",
       "    </tr>\n",
       "    <tr>\n",
       "      <th>-8</th>\n",
       "      <td>0.027921</td>\n",
       "      <td>0.013111</td>\n",
       "      <td>0.028638</td>\n",
       "    </tr>\n",
       "    <tr>\n",
       "      <th>-7</th>\n",
       "      <td>0.030165</td>\n",
       "      <td>0.015051</td>\n",
       "      <td>0.030733</td>\n",
       "    </tr>\n",
       "    <tr>\n",
       "      <th>-2</th>\n",
       "      <td>0.037930</td>\n",
       "      <td>0.026062</td>\n",
       "      <td>0.037981</td>\n",
       "    </tr>\n",
       "    <tr>\n",
       "      <th>-1</th>\n",
       "      <td>0.038508</td>\n",
       "      <td>0.028277</td>\n",
       "      <td>0.038521</td>\n",
       "    </tr>\n",
       "    <tr>\n",
       "      <th>0</th>\n",
       "      <td>0.038703</td>\n",
       "      <td>0.030393</td>\n",
       "      <td>0.038703</td>\n",
       "    </tr>\n",
       "    <tr>\n",
       "      <th>1</th>\n",
       "      <td>0.038508</td>\n",
       "      <td>0.032361</td>\n",
       "      <td>0.038521</td>\n",
       "    </tr>\n",
       "    <tr>\n",
       "      <th>5</th>\n",
       "      <td>0.034101</td>\n",
       "      <td>0.037857</td>\n",
       "      <td>0.034407</td>\n",
       "    </tr>\n",
       "    <tr>\n",
       "      <th>7</th>\n",
       "      <td>0.030165</td>\n",
       "      <td>0.038698</td>\n",
       "      <td>0.030733</td>\n",
       "    </tr>\n",
       "    <tr>\n",
       "      <th>8</th>\n",
       "      <td>0.027921</td>\n",
       "      <td>0.038577</td>\n",
       "      <td>0.028638</td>\n",
       "    </tr>\n",
       "    <tr>\n",
       "      <th>10</th>\n",
       "      <td>0.023140</td>\n",
       "      <td>0.037268</td>\n",
       "      <td>0.024175</td>\n",
       "    </tr>\n",
       "    <tr>\n",
       "      <th>12</th>\n",
       "      <td>0.018297</td>\n",
       "      <td>0.034674</td>\n",
       "      <td>0.019654</td>\n",
       "    </tr>\n",
       "    <tr>\n",
       "      <th>14</th>\n",
       "      <td>0.013727</td>\n",
       "      <td>0.031068</td>\n",
       "      <td>0.015388</td>\n",
       "    </tr>\n",
       "    <tr>\n",
       "      <th>16</th>\n",
       "      <td>0.009672</td>\n",
       "      <td>0.026809</td>\n",
       "      <td>0.011602</td>\n",
       "    </tr>\n",
       "    <tr>\n",
       "      <th>18</th>\n",
       "      <td>0.006268</td>\n",
       "      <td>0.022279</td>\n",
       "      <td>0.008425</td>\n",
       "    </tr>\n",
       "    <tr>\n",
       "      <th>20</th>\n",
       "      <td>0.003555</td>\n",
       "      <td>0.017830</td>\n",
       "      <td>0.005892</td>\n",
       "    </tr>\n",
       "    <tr>\n",
       "      <th>22</th>\n",
       "      <td>0.001494</td>\n",
       "      <td>0.013743</td>\n",
       "      <td>0.003968</td>\n",
       "    </tr>\n",
       "    <tr>\n",
       "      <th>24</th>\n",
       "      <td>0.000000</td>\n",
       "      <td>0.010201</td>\n",
       "      <td>0.002574</td>\n",
       "    </tr>\n",
       "  </tbody>\n",
       "</table>\n",
       "</div>"
      ],
      "text/plain": [
       "     mean=0 min=0   defualt    mean=0\n",
       "-10      0.023140  0.009671  0.024175\n",
       "-8       0.027921  0.013111  0.028638\n",
       "-7       0.030165  0.015051  0.030733\n",
       "-2       0.037930  0.026062  0.037981\n",
       "-1       0.038508  0.028277  0.038521\n",
       " 0       0.038703  0.030393  0.038703\n",
       " 1       0.038508  0.032361  0.038521\n",
       " 5       0.034101  0.037857  0.034407\n",
       " 7       0.030165  0.038698  0.030733\n",
       " 8       0.027921  0.038577  0.028638\n",
       " 10      0.023140  0.037268  0.024175\n",
       " 12      0.018297  0.034674  0.019654\n",
       " 14      0.013727  0.031068  0.015388\n",
       " 16      0.009672  0.026809  0.011602\n",
       " 18      0.006268  0.022279  0.008425\n",
       " 20      0.003555  0.017830  0.005892\n",
       " 22      0.001494  0.013743  0.003968\n",
       " 24      0.000000  0.010201  0.002574"
      ]
     },
     "execution_count": 36,
     "metadata": {},
     "output_type": "execute_result"
    }
   ],
   "source": [
    "normal_band_chart.dataframe"
   ]
  },
  {
   "cell_type": "markdown",
   "metadata": {},
   "source": [
    "## Property"
   ]
  },
  {
   "cell_type": "code",
   "execution_count": 37,
   "metadata": {},
   "outputs": [],
   "source": [
    "normal_prop1 = tools.imagecollection.distribution_normal_property(collection, 'test')"
   ]
  },
  {
   "cell_type": "code",
   "execution_count": 38,
   "metadata": {},
   "outputs": [],
   "source": [
    "normal_prop1_chart = ui.chart.Image.series(normal_prop1, ee.Geometry.Point([0, 0]), scale=1000, xProperty='test', properties=['NORMAL_DIST'], label_properties=['defualt'])"
   ]
  },
  {
   "cell_type": "code",
   "execution_count": 39,
   "metadata": {},
   "outputs": [],
   "source": [
    "normal_prop2 = tools.imagecollection.distribution_normal_property(collection, 'test', mean=0)"
   ]
  },
  {
   "cell_type": "code",
   "execution_count": 40,
   "metadata": {},
   "outputs": [],
   "source": [
    "normal_prop2_chart = ui.chart.Image.series(normal_prop2, ee.Geometry.Point([0, 0]), scale=1000, xProperty='test', properties=['NORMAL_DIST'], label_properties=['mean=0'])"
   ]
  },
  {
   "cell_type": "code",
   "execution_count": 41,
   "metadata": {},
   "outputs": [],
   "source": [
    "normal_prop3 = tools.imagecollection.distribution_normal_property(collection, 'test', mean=0, min=0)"
   ]
  },
  {
   "cell_type": "code",
   "execution_count": 42,
   "metadata": {},
   "outputs": [],
   "source": [
    "normal_prop3_chart = ui.chart.Image.series(normal_prop3, ee.Geometry.Point([0, 0]), scale=1000, xProperty='test', properties=['NORMAL_DIST'], label_properties=['mean=0 min=0'])"
   ]
  },
  {
   "cell_type": "code",
   "execution_count": 43,
   "metadata": {},
   "outputs": [],
   "source": [
    "normal_prop4 = tools.imagecollection.distribution_normal_property(collection, 'test', mean=0, min=0, max=1)"
   ]
  },
  {
   "cell_type": "code",
   "execution_count": 44,
   "metadata": {},
   "outputs": [],
   "source": [
    "normal_prop4_chart = ui.chart.Image.series(normal_prop4, ee.Geometry.Point([0, 0]), scale=1000, xProperty='test', properties=['NORMAL_DIST'], label_properties=['mean=0 min=0 max=1'])"
   ]
  },
  {
   "cell_type": "code",
   "execution_count": 45,
   "metadata": {},
   "outputs": [
    {
     "data": {
      "application/vnd.jupyter.widget-view+json": {
       "model_id": "ab32d58d696d4478bc5d2695b821022d",
       "version_major": 2,
       "version_minor": 0
      },
      "text/plain": [
       "HTML(value='<embed src=data:image/svg+xml;charset=utf-8;base64,PD94bWwgdmVyc2lvbj0nMS4wJyBlbmNvZGluZz0ndXRmLTg…"
      ]
     },
     "metadata": {},
     "output_type": "display_data"
    }
   ],
   "source": [
    "normal_prop_chart = normal_prop1_chart.cat(normal_prop2_chart, normal_prop3_chart)\n",
    "normal_prop_chart.render_widget(width=800)"
   ]
  },
  {
   "cell_type": "code",
   "execution_count": 51,
   "metadata": {},
   "outputs": [
    {
     "data": {
      "application/vnd.jupyter.widget-view+json": {
       "model_id": "ef5784bf88a94683a64fae97cd462271",
       "version_major": 2,
       "version_minor": 0
      },
      "text/plain": [
       "HTML(value='<embed src=data:image/svg+xml;charset=utf-8;base64,PD94bWwgdmVyc2lvbj0nMS4wJyBlbmNvZGluZz0ndXRmLTg…"
      ]
     },
     "metadata": {},
     "output_type": "display_data"
    }
   ],
   "source": [
    "normal_prop4_chart.render_widget(width=800)"
   ]
  },
  {
   "cell_type": "code",
   "execution_count": 46,
   "metadata": {},
   "outputs": [
    {
     "data": {
      "text/html": [
       "<div>\n",
       "<style scoped>\n",
       "    .dataframe tbody tr th:only-of-type {\n",
       "        vertical-align: middle;\n",
       "    }\n",
       "\n",
       "    .dataframe tbody tr th {\n",
       "        vertical-align: top;\n",
       "    }\n",
       "\n",
       "    .dataframe thead th {\n",
       "        text-align: right;\n",
       "    }\n",
       "</style>\n",
       "<table border=\"1\" class=\"dataframe\">\n",
       "  <thead>\n",
       "    <tr style=\"text-align: right;\">\n",
       "      <th></th>\n",
       "      <th>mean=0 min=0</th>\n",
       "      <th>defualt</th>\n",
       "      <th>mean=0</th>\n",
       "    </tr>\n",
       "  </thead>\n",
       "  <tbody>\n",
       "    <tr>\n",
       "      <th>-10</th>\n",
       "      <td>0.023140</td>\n",
       "      <td>0.009671</td>\n",
       "      <td>0.024175</td>\n",
       "    </tr>\n",
       "    <tr>\n",
       "      <th>-8</th>\n",
       "      <td>0.027921</td>\n",
       "      <td>0.013111</td>\n",
       "      <td>0.028638</td>\n",
       "    </tr>\n",
       "    <tr>\n",
       "      <th>-7</th>\n",
       "      <td>0.030165</td>\n",
       "      <td>0.015051</td>\n",
       "      <td>0.030733</td>\n",
       "    </tr>\n",
       "    <tr>\n",
       "      <th>-2</th>\n",
       "      <td>0.037930</td>\n",
       "      <td>0.026062</td>\n",
       "      <td>0.037981</td>\n",
       "    </tr>\n",
       "    <tr>\n",
       "      <th>-1</th>\n",
       "      <td>0.038508</td>\n",
       "      <td>0.028277</td>\n",
       "      <td>0.038521</td>\n",
       "    </tr>\n",
       "    <tr>\n",
       "      <th>0</th>\n",
       "      <td>0.038703</td>\n",
       "      <td>0.030393</td>\n",
       "      <td>0.038703</td>\n",
       "    </tr>\n",
       "    <tr>\n",
       "      <th>1</th>\n",
       "      <td>0.038508</td>\n",
       "      <td>0.032361</td>\n",
       "      <td>0.038521</td>\n",
       "    </tr>\n",
       "    <tr>\n",
       "      <th>5</th>\n",
       "      <td>0.034101</td>\n",
       "      <td>0.037857</td>\n",
       "      <td>0.034407</td>\n",
       "    </tr>\n",
       "    <tr>\n",
       "      <th>7</th>\n",
       "      <td>0.030165</td>\n",
       "      <td>0.038698</td>\n",
       "      <td>0.030733</td>\n",
       "    </tr>\n",
       "    <tr>\n",
       "      <th>8</th>\n",
       "      <td>0.027921</td>\n",
       "      <td>0.038577</td>\n",
       "      <td>0.028638</td>\n",
       "    </tr>\n",
       "    <tr>\n",
       "      <th>10</th>\n",
       "      <td>0.023140</td>\n",
       "      <td>0.037268</td>\n",
       "      <td>0.024175</td>\n",
       "    </tr>\n",
       "    <tr>\n",
       "      <th>12</th>\n",
       "      <td>0.018297</td>\n",
       "      <td>0.034674</td>\n",
       "      <td>0.019654</td>\n",
       "    </tr>\n",
       "    <tr>\n",
       "      <th>14</th>\n",
       "      <td>0.013727</td>\n",
       "      <td>0.031068</td>\n",
       "      <td>0.015388</td>\n",
       "    </tr>\n",
       "    <tr>\n",
       "      <th>16</th>\n",
       "      <td>0.009672</td>\n",
       "      <td>0.026809</td>\n",
       "      <td>0.011602</td>\n",
       "    </tr>\n",
       "    <tr>\n",
       "      <th>18</th>\n",
       "      <td>0.006268</td>\n",
       "      <td>0.022279</td>\n",
       "      <td>0.008425</td>\n",
       "    </tr>\n",
       "    <tr>\n",
       "      <th>20</th>\n",
       "      <td>0.003555</td>\n",
       "      <td>0.017830</td>\n",
       "      <td>0.005892</td>\n",
       "    </tr>\n",
       "    <tr>\n",
       "      <th>22</th>\n",
       "      <td>0.001494</td>\n",
       "      <td>0.013743</td>\n",
       "      <td>0.003968</td>\n",
       "    </tr>\n",
       "    <tr>\n",
       "      <th>24</th>\n",
       "      <td>0.000000</td>\n",
       "      <td>0.010201</td>\n",
       "      <td>0.002574</td>\n",
       "    </tr>\n",
       "  </tbody>\n",
       "</table>\n",
       "</div>"
      ],
      "text/plain": [
       "     mean=0 min=0   defualt    mean=0\n",
       "-10      0.023140  0.009671  0.024175\n",
       "-8       0.027921  0.013111  0.028638\n",
       "-7       0.030165  0.015051  0.030733\n",
       "-2       0.037930  0.026062  0.037981\n",
       "-1       0.038508  0.028277  0.038521\n",
       " 0       0.038703  0.030393  0.038703\n",
       " 1       0.038508  0.032361  0.038521\n",
       " 5       0.034101  0.037857  0.034407\n",
       " 7       0.030165  0.038698  0.030733\n",
       " 8       0.027921  0.038577  0.028638\n",
       " 10      0.023140  0.037268  0.024175\n",
       " 12      0.018297  0.034674  0.019654\n",
       " 14      0.013727  0.031068  0.015388\n",
       " 16      0.009672  0.026809  0.011602\n",
       " 18      0.006268  0.022279  0.008425\n",
       " 20      0.003555  0.017830  0.005892\n",
       " 22      0.001494  0.013743  0.003968\n",
       " 24      0.000000  0.010201  0.002574"
      ]
     },
     "execution_count": 46,
     "metadata": {},
     "output_type": "execute_result"
    }
   ],
   "source": [
    "normal_prop_chart.dataframe"
   ]
  },
  {
   "cell_type": "code",
   "execution_count": null,
   "metadata": {},
   "outputs": [],
   "source": []
  }
 ],
 "metadata": {
  "kernelspec": {
   "display_name": "geepy3",
   "language": "python",
   "name": "geepy3"
  },
  "language_info": {
   "codemirror_mode": {
    "name": "ipython",
    "version": 3
   },
   "file_extension": ".py",
   "mimetype": "text/x-python",
   "name": "python",
   "nbconvert_exporter": "python",
   "pygments_lexer": "ipython3",
   "version": "3.5.2"
  }
 },
 "nbformat": 4,
 "nbformat_minor": 2
}
