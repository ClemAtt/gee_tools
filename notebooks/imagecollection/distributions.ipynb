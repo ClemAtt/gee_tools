{
 "cells": [
  {
   "cell_type": "markdown",
   "metadata": {},
   "source": [
    "# Applying different distributions to collections and images"
   ]
  },
  {
   "cell_type": "code",
   "execution_count": 1,
   "metadata": {},
   "outputs": [],
   "source": [
    "import ee\n",
    "from geetools import ui, tools"
   ]
  },
  {
   "cell_type": "code",
   "execution_count": 2,
   "metadata": {},
   "outputs": [],
   "source": [
    "p = ee.Geometry.Point([0, 0])"
   ]
  },
  {
   "cell_type": "markdown",
   "metadata": {},
   "source": [
    "## Build a Test Collection"
   ]
  },
  {
   "cell_type": "code",
   "execution_count": 3,
   "metadata": {},
   "outputs": [],
   "source": [
    "# values = ee.List([0, 2, 5, 8, 10, 12, 15, 18, 22, 25, 28, 31, 35, 39, 42, 48, 51, 55])\n",
    "values = ee.List([-10, -8, -7, -1, -2, 0, 1, 5, 7, 8, 10, 12, 14, 16, 18, 20, 22, 24])  # With negative values"
   ]
  },
  {
   "cell_type": "code",
   "execution_count": 4,
   "metadata": {},
   "outputs": [],
   "source": [
    "def build_collection(n):\n",
    "    n = ee.Number(n)\n",
    "    return ee.Image.constant(n).rename('test').set('test', n).toFloat()\n",
    "images = values.map(build_collection)"
   ]
  },
  {
   "cell_type": "code",
   "execution_count": 5,
   "metadata": {},
   "outputs": [],
   "source": [
    "collection = ee.ImageCollection.fromImages(images)"
   ]
  },
  {
   "cell_type": "markdown",
   "metadata": {},
   "source": [
    "## Linear"
   ]
  },
  {
   "cell_type": "markdown",
   "metadata": {},
   "source": [
    "### Band"
   ]
  },
  {
   "cell_type": "code",
   "execution_count": 6,
   "metadata": {},
   "outputs": [],
   "source": [
    "linear_band1 = tools.imagecollection.distribution_linear_band(collection, 'test')"
   ]
  },
  {
   "cell_type": "code",
   "execution_count": 7,
   "metadata": {},
   "outputs": [],
   "source": [
    "linear_band1_chart = ui.chart.Image.series(linear_band1, p, scale=1000, xProperty='test', bands=['linear_dist'], label_bands=['default values'])"
   ]
  },
  {
   "cell_type": "code",
   "execution_count": 8,
   "metadata": {},
   "outputs": [],
   "source": [
    "linear_band2 = tools.imagecollection.distribution_linear_band(collection, 'test', mean=10)"
   ]
  },
  {
   "cell_type": "code",
   "execution_count": 9,
   "metadata": {},
   "outputs": [],
   "source": [
    "linear_band2_chart = ui.chart.Image.series(linear_band2, p, scale=1000, xProperty='test', bands=['linear_dist'], label_bands=['mean=10'])"
   ]
  },
  {
   "cell_type": "code",
   "execution_count": 10,
   "metadata": {},
   "outputs": [],
   "source": [
    "linear_band3 = tools.imagecollection.distribution_linear_band(collection, 'test', mean=10, min=0)"
   ]
  },
  {
   "cell_type": "code",
   "execution_count": 11,
   "metadata": {},
   "outputs": [],
   "source": [
    "linear_band3_chart = ui.chart.Image.series(linear_band3, p, scale=1000, xProperty='test', bands=['linear_dist'], label_bands=['mean=10 min=0'])"
   ]
  },
  {
   "cell_type": "code",
   "execution_count": 47,
   "metadata": {},
   "outputs": [],
   "source": [
    "linear_band4 = tools.imagecollection.distribution_linear_band(collection, 'test', mean=10, min=0, max=12)"
   ]
  },
  {
   "cell_type": "code",
   "execution_count": 48,
   "metadata": {},
   "outputs": [],
   "source": [
    "linear_band4_chart = ui.chart.Image.series(linear_band4, p, scale=1000, xProperty='test', bands=['linear_dist'], label_bands=['mean=10 min=0 max=12'])"
   ]
  },
  {
   "cell_type": "code",
   "execution_count": 49,
   "metadata": {},
   "outputs": [
    {
     "data": {
      "application/vnd.jupyter.widget-view+json": {
       "model_id": "548516c895704d33a55f6255a100f1ef",
       "version_major": 2,
       "version_minor": 0
      },
      "text/plain": [
       "HTML(value='<embed src=data:image/svg+xml;charset=utf-8;base64,PD94bWwgdmVyc2lvbj0nMS4wJyBlbmNvZGluZz0ndXRmLTg…"
      ]
     },
     "metadata": {},
     "output_type": "display_data"
    }
   ],
   "source": [
    "linear_chart = linear_band1_chart.cat(linear_band2_chart, linear_band3_chart, linear_band4_chart)\n",
    "linear_chart.render_widget(width=800)"
   ]
  },
  {
   "cell_type": "markdown",
   "metadata": {},
   "source": [
    "### Property"
   ]
  },
  {
   "cell_type": "code",
   "execution_count": 15,
   "metadata": {},
   "outputs": [],
   "source": [
    "linear_prop1 = tools.imagecollection.distribution_linear_property(collection, 'test')"
   ]
  },
  {
   "cell_type": "code",
   "execution_count": 16,
   "metadata": {},
   "outputs": [],
   "source": [
    "linear_prop1_chart = ui.chart.Image.series(linear_prop1, p, scale=1000, xProperty='test', properties=['LINEAR_DIST'], label_properties=['default values'])"
   ]
  },
  {
   "cell_type": "code",
   "execution_count": 17,
   "metadata": {},
   "outputs": [],
   "source": [
    "linear_prop2 = tools.imagecollection.distribution_linear_property(collection, 'test', mean=10)"
   ]
  },
  {
   "cell_type": "code",
   "execution_count": 18,
   "metadata": {},
   "outputs": [],
   "source": [
    "linear_prop2_chart = ui.chart.Image.series(linear_prop2, p, scale=1000, xProperty='test', properties=['LINEAR_DIST'], label_properties=['mean=10'])"
   ]
  },
  {
   "cell_type": "code",
   "execution_count": 19,
   "metadata": {},
   "outputs": [],
   "source": [
    "linear_prop3 = tools.imagecollection.distribution_linear_property(collection, 'test', mean=10, min=0)"
   ]
  },
  {
   "cell_type": "code",
   "execution_count": 20,
   "metadata": {},
   "outputs": [],
   "source": [
    "linear_prop3_chart = ui.chart.Image.series(linear_prop3, p, scale=1000, xProperty='test', properties=['LINEAR_DIST'], label_properties=['mean=10 min=0'])"
   ]
  },
  {
   "cell_type": "code",
   "execution_count": 21,
   "metadata": {},
   "outputs": [],
   "source": [
    "linear_prop4 = tools.imagecollection.distribution_linear_property(collection, 'test', mean=10, min=0, max=10)"
   ]
  },
  {
   "cell_type": "code",
   "execution_count": 22,
   "metadata": {},
   "outputs": [],
   "source": [
    "linear_prop4_chart = ui.chart.Image.series(linear_prop4, p, scale=1000, xProperty='test', properties=['LINEAR_DIST'], label_properties=['mean=10 min=0 max=10'])"
   ]
  },
  {
   "cell_type": "code",
   "execution_count": 23,
   "metadata": {},
   "outputs": [],
   "source": [
    "linear_prop5 = tools.imagecollection.distribution_linear_property(collection, 'test', mean=10, min=5, max=20)"
   ]
  },
  {
   "cell_type": "code",
   "execution_count": 24,
   "metadata": {},
   "outputs": [],
   "source": [
    "linear_prop5_chart = ui.chart.Image.series(linear_prop5, p, scale=1000, xProperty='test', properties=['LINEAR_DIST'], label_properties=['mean=10 min=5 max=20'])"
   ]
  },
  {
   "cell_type": "code",
   "execution_count": 25,
   "metadata": {},
   "outputs": [
    {
     "data": {
      "application/vnd.jupyter.widget-view+json": {
       "model_id": "80b027f9d851456cbd71f69920154907",
       "version_major": 2,
       "version_minor": 0
      },
      "text/plain": [
       "HTML(value='<embed src=data:image/svg+xml;charset=utf-8;base64,PD94bWwgdmVyc2lvbj0nMS4wJyBlbmNvZGluZz0ndXRmLTg…"
      ]
     },
     "metadata": {},
     "output_type": "display_data"
    }
   ],
   "source": [
    "linear_chart_prop = linear_prop1_chart.cat(linear_prop2_chart, linear_prop3_chart, linear_prop4_chart, linear_prop5_chart)\n",
    "linear_chart_prop.render_widget(width=800)"
   ]
  },
  {
   "cell_type": "code",
   "execution_count": 26,
   "metadata": {},
   "outputs": [
    {
     "data": {
      "text/html": [
       "<div>\n",
       "<style scoped>\n",
       "    .dataframe tbody tr th:only-of-type {\n",
       "        vertical-align: middle;\n",
       "    }\n",
       "\n",
       "    .dataframe tbody tr th {\n",
       "        vertical-align: top;\n",
       "    }\n",
       "\n",
       "    .dataframe thead th {\n",
       "        text-align: right;\n",
       "    }\n",
       "</style>\n",
       "<table border=\"1\" class=\"dataframe\">\n",
       "  <thead>\n",
       "    <tr style=\"text-align: right;\">\n",
       "      <th></th>\n",
       "      <th>mean=10 min=0</th>\n",
       "      <th>mean=10</th>\n",
       "      <th>default values</th>\n",
       "      <th>mean=10 min=5 max=20</th>\n",
       "      <th>mean=10 min=0 max=10</th>\n",
       "    </tr>\n",
       "  </thead>\n",
       "  <tbody>\n",
       "    <tr>\n",
       "      <th>-10</th>\n",
       "      <td>-10.285714</td>\n",
       "      <td>-24.571429</td>\n",
       "      <td>-10.0</td>\n",
       "      <td>-1.428571</td>\n",
       "      <td>-4.285714</td>\n",
       "    </tr>\n",
       "    <tr>\n",
       "      <th>-8</th>\n",
       "      <td>-6.857143</td>\n",
       "      <td>-19.714286</td>\n",
       "      <td>-8.0</td>\n",
       "      <td>0.714286</td>\n",
       "      <td>-2.857143</td>\n",
       "    </tr>\n",
       "    <tr>\n",
       "      <th>-7</th>\n",
       "      <td>-5.142857</td>\n",
       "      <td>-17.285714</td>\n",
       "      <td>-7.0</td>\n",
       "      <td>1.785714</td>\n",
       "      <td>-2.142857</td>\n",
       "    </tr>\n",
       "    <tr>\n",
       "      <th>-2</th>\n",
       "      <td>3.428571</td>\n",
       "      <td>-5.142857</td>\n",
       "      <td>-2.0</td>\n",
       "      <td>7.142857</td>\n",
       "      <td>1.428571</td>\n",
       "    </tr>\n",
       "    <tr>\n",
       "      <th>-1</th>\n",
       "      <td>5.142857</td>\n",
       "      <td>-2.714286</td>\n",
       "      <td>-1.0</td>\n",
       "      <td>8.214286</td>\n",
       "      <td>2.142857</td>\n",
       "    </tr>\n",
       "    <tr>\n",
       "      <th>0</th>\n",
       "      <td>6.857143</td>\n",
       "      <td>-0.285714</td>\n",
       "      <td>0.0</td>\n",
       "      <td>9.285714</td>\n",
       "      <td>2.857143</td>\n",
       "    </tr>\n",
       "    <tr>\n",
       "      <th>1</th>\n",
       "      <td>8.571429</td>\n",
       "      <td>2.142857</td>\n",
       "      <td>1.0</td>\n",
       "      <td>10.357143</td>\n",
       "      <td>3.571429</td>\n",
       "    </tr>\n",
       "    <tr>\n",
       "      <th>5</th>\n",
       "      <td>15.428571</td>\n",
       "      <td>11.857143</td>\n",
       "      <td>5.0</td>\n",
       "      <td>14.642857</td>\n",
       "      <td>6.428571</td>\n",
       "    </tr>\n",
       "    <tr>\n",
       "      <th>7</th>\n",
       "      <td>18.857143</td>\n",
       "      <td>16.714286</td>\n",
       "      <td>7.0</td>\n",
       "      <td>16.785714</td>\n",
       "      <td>7.857143</td>\n",
       "    </tr>\n",
       "    <tr>\n",
       "      <th>8</th>\n",
       "      <td>20.571429</td>\n",
       "      <td>19.142857</td>\n",
       "      <td>8.0</td>\n",
       "      <td>17.857143</td>\n",
       "      <td>8.571429</td>\n",
       "    </tr>\n",
       "    <tr>\n",
       "      <th>10</th>\n",
       "      <td>24.000000</td>\n",
       "      <td>24.000000</td>\n",
       "      <td>10.0</td>\n",
       "      <td>20.000000</td>\n",
       "      <td>10.000000</td>\n",
       "    </tr>\n",
       "    <tr>\n",
       "      <th>12</th>\n",
       "      <td>20.571429</td>\n",
       "      <td>19.142857</td>\n",
       "      <td>12.0</td>\n",
       "      <td>17.857143</td>\n",
       "      <td>8.571429</td>\n",
       "    </tr>\n",
       "    <tr>\n",
       "      <th>14</th>\n",
       "      <td>17.142857</td>\n",
       "      <td>14.285714</td>\n",
       "      <td>14.0</td>\n",
       "      <td>15.714286</td>\n",
       "      <td>7.142857</td>\n",
       "    </tr>\n",
       "    <tr>\n",
       "      <th>16</th>\n",
       "      <td>13.714286</td>\n",
       "      <td>9.428571</td>\n",
       "      <td>16.0</td>\n",
       "      <td>13.571429</td>\n",
       "      <td>5.714286</td>\n",
       "    </tr>\n",
       "    <tr>\n",
       "      <th>18</th>\n",
       "      <td>10.285714</td>\n",
       "      <td>4.571429</td>\n",
       "      <td>18.0</td>\n",
       "      <td>11.428571</td>\n",
       "      <td>4.285714</td>\n",
       "    </tr>\n",
       "    <tr>\n",
       "      <th>20</th>\n",
       "      <td>6.857143</td>\n",
       "      <td>-0.285714</td>\n",
       "      <td>20.0</td>\n",
       "      <td>9.285714</td>\n",
       "      <td>2.857143</td>\n",
       "    </tr>\n",
       "    <tr>\n",
       "      <th>22</th>\n",
       "      <td>3.428571</td>\n",
       "      <td>-5.142857</td>\n",
       "      <td>22.0</td>\n",
       "      <td>7.142857</td>\n",
       "      <td>1.428571</td>\n",
       "    </tr>\n",
       "    <tr>\n",
       "      <th>24</th>\n",
       "      <td>0.000000</td>\n",
       "      <td>-10.000000</td>\n",
       "      <td>24.0</td>\n",
       "      <td>5.000000</td>\n",
       "      <td>0.000000</td>\n",
       "    </tr>\n",
       "  </tbody>\n",
       "</table>\n",
       "</div>"
      ],
      "text/plain": [
       "     mean=10 min=0    mean=10  default values  mean=10 min=5 max=20  \\\n",
       "-10     -10.285714 -24.571429           -10.0             -1.428571   \n",
       "-8       -6.857143 -19.714286            -8.0              0.714286   \n",
       "-7       -5.142857 -17.285714            -7.0              1.785714   \n",
       "-2        3.428571  -5.142857            -2.0              7.142857   \n",
       "-1        5.142857  -2.714286            -1.0              8.214286   \n",
       " 0        6.857143  -0.285714             0.0              9.285714   \n",
       " 1        8.571429   2.142857             1.0             10.357143   \n",
       " 5       15.428571  11.857143             5.0             14.642857   \n",
       " 7       18.857143  16.714286             7.0             16.785714   \n",
       " 8       20.571429  19.142857             8.0             17.857143   \n",
       " 10      24.000000  24.000000            10.0             20.000000   \n",
       " 12      20.571429  19.142857            12.0             17.857143   \n",
       " 14      17.142857  14.285714            14.0             15.714286   \n",
       " 16      13.714286   9.428571            16.0             13.571429   \n",
       " 18      10.285714   4.571429            18.0             11.428571   \n",
       " 20       6.857143  -0.285714            20.0              9.285714   \n",
       " 22       3.428571  -5.142857            22.0              7.142857   \n",
       " 24       0.000000 -10.000000            24.0              5.000000   \n",
       "\n",
       "     mean=10 min=0 max=10  \n",
       "-10             -4.285714  \n",
       "-8              -2.857143  \n",
       "-7              -2.142857  \n",
       "-2               1.428571  \n",
       "-1               2.142857  \n",
       " 0               2.857143  \n",
       " 1               3.571429  \n",
       " 5               6.428571  \n",
       " 7               7.857143  \n",
       " 8               8.571429  \n",
       " 10             10.000000  \n",
       " 12              8.571429  \n",
       " 14              7.142857  \n",
       " 16              5.714286  \n",
       " 18              4.285714  \n",
       " 20              2.857143  \n",
       " 22              1.428571  \n",
       " 24              0.000000  "
      ]
     },
     "execution_count": 26,
     "metadata": {},
     "output_type": "execute_result"
    }
   ],
   "source": [
    "linear_chart_prop.dataframe"
   ]
  },
  {
   "cell_type": "markdown",
   "metadata": {},
   "source": [
    "## Normal"
   ]
  },
  {
   "cell_type": "markdown",
   "metadata": {},
   "source": [
    "### Band"
   ]
  },
  {
   "cell_type": "code",
   "execution_count": 27,
   "metadata": {},
   "outputs": [],
   "source": [
    "normal_band1 = tools.imagecollection.distribution_normal_band(collection, 'test')"
   ]
  },
  {
   "cell_type": "code",
   "execution_count": 28,
   "metadata": {},
   "outputs": [],
   "source": [
    "normal_band1_chart = ui.chart.Image.series(normal_band1, ee.Geometry.Point([0, 0]), scale=1000, xProperty='test', bands=['normal_dist'], label_bands=['defualt'])"
   ]
  },
  {
   "cell_type": "code",
   "execution_count": 29,
   "metadata": {},
   "outputs": [],
   "source": [
    "normal_band2 = tools.imagecollection.distribution_normal_band(collection, 'test', mean=0)"
   ]
  },
  {
   "cell_type": "code",
   "execution_count": 30,
   "metadata": {},
   "outputs": [],
   "source": [
    "normal_band2_chart = ui.chart.Image.series(normal_band2, ee.Geometry.Point([0, 0]), scale=1000, xProperty='test', bands=['normal_dist'], label_bands=['mean=0'])"
   ]
  },
  {
   "cell_type": "code",
   "execution_count": 31,
   "metadata": {},
   "outputs": [],
   "source": [
    "normal_band3 = tools.imagecollection.distribution_normal_band(collection, 'test', mean=0, min=0)"
   ]
  },
  {
   "cell_type": "code",
   "execution_count": 32,
   "metadata": {},
   "outputs": [],
   "source": [
    "normal_band3_chart = ui.chart.Image.series(normal_band3, ee.Geometry.Point([0, 0]), scale=1000, xProperty='test', bands=['normal_dist'], label_bands=['mean=0 min=0'])"
   ]
  },
  {
   "cell_type": "code",
   "execution_count": 33,
   "metadata": {},
   "outputs": [],
   "source": [
    "normal_band4 = tools.imagecollection.distribution_normal_band(collection, 'test', mean=0, min=0, max=1)"
   ]
  },
  {
   "cell_type": "code",
   "execution_count": 34,
   "metadata": {},
   "outputs": [],
   "source": [
    "normal_band4_chart = ui.chart.Image.series(normal_band4, ee.Geometry.Point([0, 0]), scale=1000, xProperty='test', bands=['normal_dist'], label_bands=['mean=0 min=0 max=1'])"
   ]
  },
  {
   "cell_type": "code",
   "execution_count": 35,
   "metadata": {},
   "outputs": [
    {
     "data": {
      "application/vnd.jupyter.widget-view+json": {
       "model_id": "f2e42533ff584ac3b96d7af5d540b5c5",
       "version_major": 2,
       "version_minor": 0
      },
      "text/plain": [
       "HTML(value='<embed src=data:image/svg+xml;charset=utf-8;base64,PD94bWwgdmVyc2lvbj0nMS4wJyBlbmNvZGluZz0ndXRmLTg…"
      ]
     },
     "metadata": {},
     "output_type": "display_data"
    }
   ],
   "source": [
    "normal_band_chart = normal_band1_chart.cat(normal_band2_chart, normal_band3_chart)\n",
    "normal_band_chart.render_widget(width=800)"
   ]
  },
  {
   "cell_type": "code",
   "execution_count": 50,
   "metadata": {},
   "outputs": [
    {
     "data": {
      "application/vnd.jupyter.widget-view+json": {
       "model_id": "a940496dda054cb397eeb8c7365d1d6f",
       "version_major": 2,
       "version_minor": 0
      },
      "text/plain": [
       "HTML(value='<embed src=data:image/svg+xml;charset=utf-8;base64,PD94bWwgdmVyc2lvbj0nMS4wJyBlbmNvZGluZz0ndXRmLTg…"
      ]
     },
     "metadata": {},
     "output_type": "display_data"
    }
   ],
   "source": [
    "normal_band4_chart.render_widget(width=800)"
   ]
  },
  {
   "cell_type": "code",
   "execution_count": 36,
   "metadata": {},
   "outputs": [
    {
     "data": {
      "text/html": [
       "<div>\n",
       "<style scoped>\n",
       "    .dataframe tbody tr th:only-of-type {\n",
       "        vertical-align: middle;\n",
       "    }\n",
       "\n",
       "    .dataframe tbody tr th {\n",
       "        vertical-align: top;\n",
       "    }\n",
       "\n",
       "    .dataframe thead th {\n",
       "        text-align: right;\n",
       "    }\n",
       "</style>\n",
       "<table border=\"1\" class=\"dataframe\">\n",
       "  <thead>\n",
       "    <tr style=\"text-align: right;\">\n",
       "      <th></th>\n",
       "      <th>mean=0 min=0</th>\n",
       "      <th>defualt</th>\n",
       "      <th>mean=0</th>\n",
       "    </tr>\n",
       "  </thead>\n",
       "  <tbody>\n",
       "    <tr>\n",
       "      <th>-10</th>\n",
       "      <td>0.023140</td>\n",
       "      <td>0.009671</td>\n",
       "      <td>0.024175</td>\n",
       "    </tr>\n",
       "    <tr>\n",
       "      <th>-8</th>\n",
       "      <td>0.027921</td>\n",
       "      <td>0.013111</td>\n",
       "      <td>0.028638</td>\n",
       "    </tr>\n",
       "    <tr>\n",
       "      <th>-7</th>\n",
       "      <td>0.030165</td>\n",
       "      <td>0.015051</td>\n",
       "      <td>0.030733</td>\n",
       "    </tr>\n",
       "    <tr>\n",
       "      <th>-2</th>\n",
       "      <td>0.037930</td>\n",
       "      <td>0.026062</td>\n",
       "      <td>0.037981</td>\n",
       "    </tr>\n",
       "    <tr>\n",
       "      <th>-1</th>\n",
       "      <td>0.038508</td>\n",
       "      <td>0.028277</td>\n",
       "      <td>0.038521</td>\n",
       "    </tr>\n",
       "    <tr>\n",
       "      <th>0</th>\n",
       "      <td>0.038703</td>\n",
       "      <td>0.030393</td>\n",
       "      <td>0.038703</td>\n",
       "    </tr>\n",
       "    <tr>\n",
       "      <th>1</th>\n",
       "      <td>0.038508</td>\n",
       "      <td>0.032361</td>\n",
       "      <td>0.038521</td>\n",
       "    </tr>\n",
       "    <tr>\n",
       "      <th>5</th>\n",
       "      <td>0.034101</td>\n",
       "      <td>0.037857</td>\n",
       "      <td>0.034407</td>\n",
       "    </tr>\n",
       "    <tr>\n",
       "      <th>7</th>\n",
       "      <td>0.030165</td>\n",
       "      <td>0.038698</td>\n",
       "      <td>0.030733</td>\n",
       "    </tr>\n",
       "    <tr>\n",
       "      <th>8</th>\n",
       "      <td>0.027921</td>\n",
       "      <td>0.038577</td>\n",
       "      <td>0.028638</td>\n",
       "    </tr>\n",
       "    <tr>\n",
       "      <th>10</th>\n",
       "      <td>0.023140</td>\n",
       "      <td>0.037268</td>\n",
       "      <td>0.024175</td>\n",
       "    </tr>\n",
       "    <tr>\n",
       "      <th>12</th>\n",
       "      <td>0.018297</td>\n",
       "      <td>0.034674</td>\n",
       "      <td>0.019654</td>\n",
       "    </tr>\n",
       "    <tr>\n",
       "      <th>14</th>\n",
       "      <td>0.013727</td>\n",
       "      <td>0.031068</td>\n",
       "      <td>0.015388</td>\n",
       "    </tr>\n",
       "    <tr>\n",
       "      <th>16</th>\n",
       "      <td>0.009672</td>\n",
       "      <td>0.026809</td>\n",
       "      <td>0.011602</td>\n",
       "    </tr>\n",
       "    <tr>\n",
       "      <th>18</th>\n",
       "      <td>0.006268</td>\n",
       "      <td>0.022279</td>\n",
       "      <td>0.008425</td>\n",
       "    </tr>\n",
       "    <tr>\n",
       "      <th>20</th>\n",
       "      <td>0.003555</td>\n",
       "      <td>0.017830</td>\n",
       "      <td>0.005892</td>\n",
       "    </tr>\n",
       "    <tr>\n",
       "      <th>22</th>\n",
       "      <td>0.001494</td>\n",
       "      <td>0.013743</td>\n",
       "      <td>0.003968</td>\n",
       "    </tr>\n",
       "    <tr>\n",
       "      <th>24</th>\n",
       "      <td>0.000000</td>\n",
       "      <td>0.010201</td>\n",
       "      <td>0.002574</td>\n",
       "    </tr>\n",
       "  </tbody>\n",
       "</table>\n",
       "</div>"
      ],
      "text/plain": [
       "     mean=0 min=0   defualt    mean=0\n",
       "-10      0.023140  0.009671  0.024175\n",
       "-8       0.027921  0.013111  0.028638\n",
       "-7       0.030165  0.015051  0.030733\n",
       "-2       0.037930  0.026062  0.037981\n",
       "-1       0.038508  0.028277  0.038521\n",
       " 0       0.038703  0.030393  0.038703\n",
       " 1       0.038508  0.032361  0.038521\n",
       " 5       0.034101  0.037857  0.034407\n",
       " 7       0.030165  0.038698  0.030733\n",
       " 8       0.027921  0.038577  0.028638\n",
       " 10      0.023140  0.037268  0.024175\n",
       " 12      0.018297  0.034674  0.019654\n",
       " 14      0.013727  0.031068  0.015388\n",
       " 16      0.009672  0.026809  0.011602\n",
       " 18      0.006268  0.022279  0.008425\n",
       " 20      0.003555  0.017830  0.005892\n",
       " 22      0.001494  0.013743  0.003968\n",
       " 24      0.000000  0.010201  0.002574"
      ]
     },
     "execution_count": 36,
     "metadata": {},
     "output_type": "execute_result"
    }
   ],
   "source": [
    "normal_band_chart.dataframe"
   ]
  },
  {
   "cell_type": "markdown",
   "metadata": {},
   "source": [
    "## Property"
   ]
  },
  {
   "cell_type": "code",
   "execution_count": 37,
   "metadata": {},
   "outputs": [],
   "source": [
    "normal_prop1 = tools.imagecollection.distribution_normal_property(collection, 'test')"
   ]
  },
  {
   "cell_type": "code",
   "execution_count": 38,
   "metadata": {},
   "outputs": [],
   "source": [
    "normal_prop1_chart = ui.chart.Image.series(normal_prop1, ee.Geometry.Point([0, 0]), scale=1000, xProperty='test', properties=['NORMAL_DIST'], label_properties=['defualt'])"
   ]
  },
  {
   "cell_type": "code",
   "execution_count": 39,
   "metadata": {},
   "outputs": [],
   "source": [
    "normal_prop2 = tools.imagecollection.distribution_normal_property(collection, 'test', mean=0)"
   ]
  },
  {
   "cell_type": "code",
   "execution_count": 40,
   "metadata": {},
   "outputs": [],
   "source": [
    "normal_prop2_chart = ui.chart.Image.series(normal_prop2, ee.Geometry.Point([0, 0]), scale=1000, xProperty='test', properties=['NORMAL_DIST'], label_properties=['mean=0'])"
   ]
  },
  {
   "cell_type": "code",
   "execution_count": 41,
   "metadata": {},
   "outputs": [],
   "source": [
    "normal_prop3 = tools.imagecollection.distribution_normal_property(collection, 'test', mean=0, min=0)"
   ]
  },
  {
   "cell_type": "code",
   "execution_count": 42,
   "metadata": {},
   "outputs": [],
   "source": [
    "normal_prop3_chart = ui.chart.Image.series(normal_prop3, ee.Geometry.Point([0, 0]), scale=1000, xProperty='test', properties=['NORMAL_DIST'], label_properties=['mean=0 min=0'])"
   ]
  },
  {
   "cell_type": "code",
   "execution_count": 43,
   "metadata": {},
   "outputs": [],
   "source": [
    "normal_prop4 = tools.imagecollection.distribution_normal_property(collection, 'test', mean=0, min=0, max=1)"
   ]
  },
  {
   "cell_type": "code",
   "execution_count": 44,
   "metadata": {},
   "outputs": [],
   "source": [
    "normal_prop4_chart = ui.chart.Image.series(normal_prop4, ee.Geometry.Point([0, 0]), scale=1000, xProperty='test', properties=['NORMAL_DIST'], label_properties=['mean=0 min=0 max=1'])"
   ]
  },
  {
   "cell_type": "code",
   "execution_count": 45,
   "metadata": {},
   "outputs": [
    {
     "data": {
      "application/vnd.jupyter.widget-view+json": {
       "model_id": "ab32d58d696d4478bc5d2695b821022d",
       "version_major": 2,
       "version_minor": 0
      },
      "text/plain": [
       "HTML(value='<embed src=data:image/svg+xml;charset=utf-8;base64,PD94bWwgdmVyc2lvbj0nMS4wJyBlbmNvZGluZz0ndXRmLTg…"
      ]
     },
     "metadata": {},
     "output_type": "display_data"
    }
   ],
   "source": [
    "normal_prop_chart = normal_prop1_chart.cat(normal_prop2_chart, normal_prop3_chart)\n",
    "normal_prop_chart.render_widget(width=800)"
   ]
  },
  {
   "cell_type": "code",
   "execution_count": 51,
   "metadata": {},
   "outputs": [
    {
     "data": {
      "application/vnd.jupyter.widget-view+json": {
       "model_id": "ef5784bf88a94683a64fae97cd462271",
       "version_major": 2,
       "version_minor": 0
      },
      "text/plain": [
       "HTML(value='<embed src=data:image/svg+xml;charset=utf-8;base64,PD94bWwgdmVyc2lvbj0nMS4wJyBlbmNvZGluZz0ndXRmLTg…"
      ]
     },
     "metadata": {},
     "output_type": "display_data"
    }
   ],
   "source": [
    "normal_prop4_chart.render_widget(width=800)"
   ]
  },
  {
   "cell_type": "code",
   "execution_count": 46,
   "metadata": {},
   "outputs": [
    {
     "data": {
      "text/html": [
       "<div>\n",
       "<style scoped>\n",
       "    .dataframe tbody tr th:only-of-type {\n",
       "        vertical-align: middle;\n",
       "    }\n",
       "\n",
       "    .dataframe tbody tr th {\n",
       "        vertical-align: top;\n",
       "    }\n",
       "\n",
       "    .dataframe thead th {\n",
       "        text-align: right;\n",
       "    }\n",
       "</style>\n",
       "<table border=\"1\" class=\"dataframe\">\n",
       "  <thead>\n",
       "    <tr style=\"text-align: right;\">\n",
       "      <th></th>\n",
       "      <th>mean=0 min=0</th>\n",
       "      <th>defualt</th>\n",
       "      <th>mean=0</th>\n",
       "    </tr>\n",
       "  </thead>\n",
       "  <tbody>\n",
       "    <tr>\n",
       "      <th>-10</th>\n",
       "      <td>0.023140</td>\n",
       "      <td>0.009671</td>\n",
       "      <td>0.024175</td>\n",
       "    </tr>\n",
       "    <tr>\n",
       "      <th>-8</th>\n",
       "      <td>0.027921</td>\n",
       "      <td>0.013111</td>\n",
       "      <td>0.028638</td>\n",
       "    </tr>\n",
       "    <tr>\n",
       "      <th>-7</th>\n",
       "      <td>0.030165</td>\n",
       "      <td>0.015051</td>\n",
       "      <td>0.030733</td>\n",
       "    </tr>\n",
       "    <tr>\n",
       "      <th>-2</th>\n",
       "      <td>0.037930</td>\n",
       "      <td>0.026062</td>\n",
       "      <td>0.037981</td>\n",
       "    </tr>\n",
       "    <tr>\n",
       "      <th>-1</th>\n",
       "      <td>0.038508</td>\n",
       "      <td>0.028277</td>\n",
       "      <td>0.038521</td>\n",
       "    </tr>\n",
       "    <tr>\n",
       "      <th>0</th>\n",
       "      <td>0.038703</td>\n",
       "      <td>0.030393</td>\n",
       "      <td>0.038703</td>\n",
       "    </tr>\n",
       "    <tr>\n",
       "      <th>1</th>\n",
       "      <td>0.038508</td>\n",
       "      <td>0.032361</td>\n",
       "      <td>0.038521</td>\n",
       "    </tr>\n",
       "    <tr>\n",
       "      <th>5</th>\n",
       "      <td>0.034101</td>\n",
       "      <td>0.037857</td>\n",
       "      <td>0.034407</td>\n",
       "    </tr>\n",
       "    <tr>\n",
       "      <th>7</th>\n",
       "      <td>0.030165</td>\n",
       "      <td>0.038698</td>\n",
       "      <td>0.030733</td>\n",
       "    </tr>\n",
       "    <tr>\n",
       "      <th>8</th>\n",
       "      <td>0.027921</td>\n",
       "      <td>0.038577</td>\n",
       "      <td>0.028638</td>\n",
       "    </tr>\n",
       "    <tr>\n",
       "      <th>10</th>\n",
       "      <td>0.023140</td>\n",
       "      <td>0.037268</td>\n",
       "      <td>0.024175</td>\n",
       "    </tr>\n",
       "    <tr>\n",
       "      <th>12</th>\n",
       "      <td>0.018297</td>\n",
       "      <td>0.034674</td>\n",
       "      <td>0.019654</td>\n",
       "    </tr>\n",
       "    <tr>\n",
       "      <th>14</th>\n",
       "      <td>0.013727</td>\n",
       "      <td>0.031068</td>\n",
       "      <td>0.015388</td>\n",
       "    </tr>\n",
       "    <tr>\n",
       "      <th>16</th>\n",
       "      <td>0.009672</td>\n",
       "      <td>0.026809</td>\n",
       "      <td>0.011602</td>\n",
       "    </tr>\n",
       "    <tr>\n",
       "      <th>18</th>\n",
       "      <td>0.006268</td>\n",
       "      <td>0.022279</td>\n",
       "      <td>0.008425</td>\n",
       "    </tr>\n",
       "    <tr>\n",
       "      <th>20</th>\n",
       "      <td>0.003555</td>\n",
       "      <td>0.017830</td>\n",
       "      <td>0.005892</td>\n",
       "    </tr>\n",
       "    <tr>\n",
       "      <th>22</th>\n",
       "      <td>0.001494</td>\n",
       "      <td>0.013743</td>\n",
       "      <td>0.003968</td>\n",
       "    </tr>\n",
       "    <tr>\n",
       "      <th>24</th>\n",
       "      <td>0.000000</td>\n",
       "      <td>0.010201</td>\n",
       "      <td>0.002574</td>\n",
       "    </tr>\n",
       "  </tbody>\n",
       "</table>\n",
       "</div>"
      ],
      "text/plain": [
       "     mean=0 min=0   defualt    mean=0\n",
       "-10      0.023140  0.009671  0.024175\n",
       "-8       0.027921  0.013111  0.028638\n",
       "-7       0.030165  0.015051  0.030733\n",
       "-2       0.037930  0.026062  0.037981\n",
       "-1       0.038508  0.028277  0.038521\n",
       " 0       0.038703  0.030393  0.038703\n",
       " 1       0.038508  0.032361  0.038521\n",
       " 5       0.034101  0.037857  0.034407\n",
       " 7       0.030165  0.038698  0.030733\n",
       " 8       0.027921  0.038577  0.028638\n",
       " 10      0.023140  0.037268  0.024175\n",
       " 12      0.018297  0.034674  0.019654\n",
       " 14      0.013727  0.031068  0.015388\n",
       " 16      0.009672  0.026809  0.011602\n",
       " 18      0.006268  0.022279  0.008425\n",
       " 20      0.003555  0.017830  0.005892\n",
       " 22      0.001494  0.013743  0.003968\n",
       " 24      0.000000  0.010201  0.002574"
      ]
     },
     "execution_count": 46,
     "metadata": {},
     "output_type": "execute_result"
    }
   ],
   "source": [
    "normal_prop_chart.dataframe"
   ]
  },
  {
   "cell_type": "code",
   "execution_count": null,
   "metadata": {},
   "outputs": [],
   "source": []
  }
 ],
 "metadata": {
  "kernelspec": {
   "display_name": "geepy3",
   "language": "python",
   "name": "geepy3"
  },
  "language_info": {
   "codemirror_mode": {
    "name": "ipython",
    "version": 3
   },
   "file_extension": ".py",
   "mimetype": "text/x-python",
   "name": "python",
   "nbconvert_exporter": "python",
   "pygments_lexer": "ipython3",
   "version": "3.5.2"
  }
 },
 "nbformat": 4,
 "nbformat_minor": 2
}
