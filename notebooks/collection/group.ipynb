{
 "cells": [
  {
   "cell_type": "markdown",
   "metadata": {},
   "source": [
    "# Group of collections"
   ]
  },
  {
   "cell_type": "code",
   "execution_count": 1,
   "metadata": {},
   "outputs": [],
   "source": [
    "from geetools import collection, ui, tools"
   ]
  },
  {
   "cell_type": "code",
   "execution_count": 2,
   "metadata": {},
   "outputs": [],
   "source": [
    "import ee"
   ]
  },
  {
   "cell_type": "code",
   "execution_count": 3,
   "metadata": {},
   "outputs": [],
   "source": [
    "def print_i(image):\n",
    "    print(tools.image.get_value(image, image.geometry().centroid(), 10, side='client'))"
   ]
  },
  {
   "cell_type": "code",
   "execution_count": 4,
   "metadata": {},
   "outputs": [],
   "source": [
    "l8sr = collection.Landsat8SR"
   ]
  },
  {
   "cell_type": "code",
   "execution_count": 5,
   "metadata": {},
   "outputs": [],
   "source": [
    "s2 = collection.Sentinel2TOA"
   ]
  },
  {
   "cell_type": "code",
   "execution_count": 6,
   "metadata": {},
   "outputs": [],
   "source": [
    "l7sr = collection.Landsat7SR"
   ]
  },
  {
   "cell_type": "code",
   "execution_count": 7,
   "metadata": {},
   "outputs": [],
   "source": [
    "cg = collection.CollectionGroup(l8sr, s2, l7sr)"
   ]
  },
  {
   "cell_type": "code",
   "execution_count": 8,
   "metadata": {},
   "outputs": [
    {
     "data": {
      "text/plain": [
       "['LANDSAT/LC08/C01/T1_SR', 'COPERNICUS/S2', 'LANDSAT/LE07/C01/T1_SR']"
      ]
     },
     "execution_count": 8,
     "metadata": {},
     "output_type": "execute_result"
    }
   ],
   "source": [
    "cg.ids"
   ]
  },
  {
   "cell_type": "code",
   "execution_count": 9,
   "metadata": {},
   "outputs": [
    {
     "data": {
      "text/plain": [
       "['swir2', 'swir', 'blue', 'nir', 'red', 'green']"
      ]
     },
     "execution_count": 9,
     "metadata": {},
     "output_type": "execute_result"
    }
   ],
   "source": [
    "cg.common_bands()"
   ]
  },
  {
   "cell_type": "code",
   "execution_count": 10,
   "metadata": {},
   "outputs": [
    {
     "data": {
      "text/plain": [
       "{'blue': {'max': 30, 'min': 10},\n",
       " 'green': {'max': 30, 'min': 10},\n",
       " 'nir': {'max': 30, 'min': 10},\n",
       " 'red': {'max': 30, 'min': 10},\n",
       " 'swir': {'max': 30, 'min': 20},\n",
       " 'swir2': {'max': 30, 'min': 20}}"
      ]
     },
     "execution_count": 10,
     "metadata": {},
     "output_type": "execute_result"
    }
   ],
   "source": [
    "cg.scales()"
   ]
  },
  {
   "cell_type": "code",
   "execution_count": 11,
   "metadata": {},
   "outputs": [],
   "source": [
    "col = cg.ee_collection()"
   ]
  },
  {
   "cell_type": "code",
   "execution_count": 12,
   "metadata": {},
   "outputs": [],
   "source": [
    "p = ee.Geometry.Point([-71.7, -42.8])"
   ]
  },
  {
   "cell_type": "code",
   "execution_count": 13,
   "metadata": {},
   "outputs": [],
   "source": [
    "col = col.filterBounds(p).filterDate('2018-12-01', '2019-02-01')"
   ]
  },
  {
   "cell_type": "code",
   "execution_count": 14,
   "metadata": {},
   "outputs": [
    {
     "name": "stdout",
     "output_type": "stream",
     "text": [
      "{'swir': 1980, 'blue': 1939, 'nir': 2674, 'swir2': 1793, 'red': 2131, 'green': 2049}\n"
     ]
    }
   ],
   "source": [
    "print_i(ee.Image(col.first()))"
   ]
  },
  {
   "cell_type": "code",
   "execution_count": null,
   "metadata": {},
   "outputs": [],
   "source": [
    "Map = ui.Map()"
   ]
  },
  {
   "cell_type": "code",
   "execution_count": null,
   "metadata": {},
   "outputs": [],
   "source": [
    "Map.show()"
   ]
  },
  {
   "cell_type": "code",
   "execution_count": 15,
   "metadata": {},
   "outputs": [],
   "source": [
    "i = ee.Image(0)"
   ]
  },
  {
   "cell_type": "code",
   "execution_count": 16,
   "metadata": {},
   "outputs": [
    {
     "name": "stdout",
     "output_type": "stream",
     "text": [
      "{ 'bands': [ { 'crs': 'EPSG:4326',\n",
      "               'crs_transform': [1.0, 0.0, 0.0, 0.0, 1.0, 0.0],\n",
      "               'data_type': { 'max': 0,\n",
      "                              'min': 0,\n",
      "                              'precision': 'int',\n",
      "                              'type': 'PixelType'},\n",
      "               'id': 'constant'}],\n",
      "  'type': 'Image'}\n",
      "\n"
     ]
    }
   ],
   "source": [
    "ui.eprint(i)"
   ]
  },
  {
   "cell_type": "code",
   "execution_count": 17,
   "metadata": {},
   "outputs": [],
   "source": [
    "ii = ee.Image.toFloat(i)"
   ]
  },
  {
   "cell_type": "code",
   "execution_count": 18,
   "metadata": {},
   "outputs": [
    {
     "name": "stdout",
     "output_type": "stream",
     "text": [
      "{ 'bands': [ { 'crs': 'EPSG:4326',\n",
      "               'crs_transform': [1.0, 0.0, 0.0, 0.0, 1.0, 0.0],\n",
      "               'data_type': {'precision': 'float', 'type': 'PixelType'},\n",
      "               'id': 'constant'}],\n",
      "  'type': 'Image'}\n",
      "\n"
     ]
    }
   ],
   "source": [
    "ui.eprint(ii)"
   ]
  },
  {
   "cell_type": "code",
   "execution_count": 19,
   "metadata": {},
   "outputs": [],
   "source": [
    "i = ee.Image.constant(-0.2)"
   ]
  },
  {
   "cell_type": "code",
   "execution_count": 20,
   "metadata": {},
   "outputs": [
    {
     "name": "stdout",
     "output_type": "stream",
     "text": [
      "{ 'bands': [ { 'crs': 'EPSG:4326',\n",
      "               'crs_transform': [1.0, 0.0, 0.0, 0.0, 1.0, 0.0],\n",
      "               'data_type': { 'max': -0.2,\n",
      "                              'min': -0.2,\n",
      "                              'precision': 'double',\n",
      "                              'type': 'PixelType'},\n",
      "               'id': 'constant'}],\n",
      "  'type': 'Image'}\n",
      "\n"
     ]
    }
   ],
   "source": [
    "ui.eprint(i)"
   ]
  },
  {
   "cell_type": "code",
   "execution_count": null,
   "metadata": {},
   "outputs": [],
   "source": []
  }
 ],
 "metadata": {
  "kernelspec": {
   "display_name": "geepy3",
   "language": "python",
   "name": "geepy3"
  },
  "language_info": {
   "codemirror_mode": {
    "name": "ipython",
    "version": 3
   },
   "file_extension": ".py",
   "mimetype": "text/x-python",
   "name": "python",
   "nbconvert_exporter": "python",
   "pygments_lexer": "ipython3",
   "version": "3.5.2"
  }
 },
 "nbformat": 4,
 "nbformat_minor": 2
}
