{
 "cells": [
  {
   "cell_type": "markdown",
   "metadata": {},
   "source": [
    "# Sentinel 2 Collection"
   ]
  },
  {
   "cell_type": "code",
   "execution_count": 1,
   "metadata": {},
   "outputs": [],
   "source": [
    "from geetools import collection, tools, ui"
   ]
  },
  {
   "cell_type": "code",
   "execution_count": 2,
   "metadata": {},
   "outputs": [],
   "source": [
    "import ee"
   ]
  },
  {
   "cell_type": "markdown",
   "metadata": {},
   "source": [
    "This means that the default collection for Landsat 1 is RAW and MSS, for Landsat 5 is SR and TM"
   ]
  },
  {
   "cell_type": "markdown",
   "metadata": {},
   "source": [
    "# HELPERS"
   ]
  },
  {
   "cell_type": "code",
   "execution_count": 3,
   "metadata": {},
   "outputs": [],
   "source": [
    "def print_values(image):\n",
    "    print(tools.image.get_value(image, image.geometry().centroid(), 30, side='client'))"
   ]
  },
  {
   "cell_type": "markdown",
   "metadata": {},
   "source": [
    "## Sentinel 2 SR"
   ]
  },
  {
   "cell_type": "code",
   "execution_count": 4,
   "metadata": {},
   "outputs": [],
   "source": [
    "s2sr = collection.Sentinel2SR()"
   ]
  },
  {
   "cell_type": "code",
   "execution_count": 5,
   "metadata": {},
   "outputs": [
    {
     "data": {
      "text/plain": [
       "{'algorithms': {'hollstein': <function geetools.cloud_mask.apply_hollstein(image, options=('cloud', 'snow', 'shadow', 'water', 'cirrus'), aerosol='B1', blue='B2', green='B3', red_edge1='B5', red_edge2='B6', red_edge3='B7', red_edge4='B8A', water_vapor='B9', cirrus='B10', swir='B11')>,\n",
       "  'scl_masks': <bound method Sentinel2.SCL_masks of <geetools.collection.sentinel.Sentinel2 object at 0x7faafabb0e10>>},\n",
       " 'band_names': ['aerosol',\n",
       "  'blue',\n",
       "  'green',\n",
       "  'red',\n",
       "  'red_edge_1',\n",
       "  'red_edge_2',\n",
       "  'red_edge_3',\n",
       "  'nir',\n",
       "  'red_edge_4',\n",
       "  'water_vapor',\n",
       "  'swir',\n",
       "  'swir2',\n",
       "  'aerosol_thickness',\n",
       "  'water_vapor_pressure',\n",
       "  'scene_classification_map',\n",
       "  'qa10',\n",
       "  'qa20',\n",
       "  'qa60'],\n",
       " 'bands': ['B1',\n",
       "  'B2',\n",
       "  'B3',\n",
       "  'B4',\n",
       "  'B5',\n",
       "  'B6',\n",
       "  'B7',\n",
       "  'B8',\n",
       "  'B8A',\n",
       "  'B9',\n",
       "  'B11',\n",
       "  'B12',\n",
       "  'AOT',\n",
       "  'WVP',\n",
       "  'SCL',\n",
       "  'QA10',\n",
       "  'QA20',\n",
       "  'QA60'],\n",
       " 'bit_bands': ['QA10', 'QA20', 'QA60'],\n",
       " 'classification_bands': ['SCL'],\n",
       " 'cloud_cover': 'CLOUD_COVERAGE_ASSESSMENT',\n",
       " 'ee_collection': <ee.imagecollection.ImageCollection at 0x7faafabb7240>,\n",
       " 'end_date': '2019-04-16',\n",
       " 'id': 'COPERNICUS/S2_SR',\n",
       " 'indices': {'evi': <function geetools.collection.Collection.evi(self, image, name='evi', renamed=False)>,\n",
       "  'nbr': <function geetools.collection.Collection.nbr(self, image, name='nbr', renamed=False)>,\n",
       "  'ndvi': <function geetools.collection.Collection.ndvi(self, image, name='ndvi', renamed=False)>},\n",
       " 'optical_bands': ['B1',\n",
       "  'B2',\n",
       "  'B3',\n",
       "  'B4',\n",
       "  'B5',\n",
       "  'B6',\n",
       "  'B7',\n",
       "  'B8',\n",
       "  'B8A',\n",
       "  'B9',\n",
       "  'B11',\n",
       "  'B12',\n",
       "  'AOT',\n",
       "  'WVP'],\n",
       " 'ranges': {'AOT': {'max': 65535, 'min': 0},\n",
       "  'B1': {'max': 10000, 'min': 0},\n",
       "  'B11': {'max': 10000, 'min': 0},\n",
       "  'B12': {'max': 10000, 'min': 0},\n",
       "  'B2': {'max': 10000, 'min': 0},\n",
       "  'B3': {'max': 10000, 'min': 0},\n",
       "  'B4': {'max': 10000, 'min': 0},\n",
       "  'B5': {'max': 10000, 'min': 0},\n",
       "  'B6': {'max': 10000, 'min': 0},\n",
       "  'B7': {'max': 10000, 'min': 0},\n",
       "  'B8': {'max': 10000, 'min': 0},\n",
       "  'B8A': {'max': 10000, 'min': 0},\n",
       "  'B9': {'max': 10000, 'min': 0},\n",
       "  'QA10': {'max': None, 'min': None},\n",
       "  'QA20': {'max': None, 'min': None},\n",
       "  'QA60': {'max': None, 'min': None},\n",
       "  'SCL': {'max': 11, 'min': 1},\n",
       "  'WVP': {'max': 65535, 'min': 0}},\n",
       " 'scales': {'AOT': 10,\n",
       "  'B1': 60,\n",
       "  'B11': 20,\n",
       "  'B12': 20,\n",
       "  'B2': 10,\n",
       "  'B3': 10,\n",
       "  'B4': 10,\n",
       "  'B5': 20,\n",
       "  'B6': 20,\n",
       "  'B7': 20,\n",
       "  'B8': 10,\n",
       "  'B8A': 20,\n",
       "  'B9': 60,\n",
       "  'QA10': 10,\n",
       "  'QA20': 20,\n",
       "  'QA60': 60,\n",
       "  'SCL': 20,\n",
       "  'WVP': 10},\n",
       " 'spacecraft': 'SENTINEL2',\n",
       " 'start_date': '2015-06-23',\n",
       " 'thermal_bands': []}"
      ]
     },
     "execution_count": 5,
     "metadata": {},
     "output_type": "execute_result"
    }
   ],
   "source": [
    "collection.info(s2sr)"
   ]
  },
  {
   "cell_type": "code",
   "execution_count": 6,
   "metadata": {},
   "outputs": [],
   "source": [
    "s2sr_i = ee.Image(s2sr.collection.first())"
   ]
  },
  {
   "cell_type": "code",
   "execution_count": 7,
   "metadata": {},
   "outputs": [
    {
     "name": "stdout",
     "output_type": "stream",
     "text": [
      "B1 aerosol\n",
      "B2 blue\n",
      "B3 green\n",
      "B4 red\n",
      "B5 red_edge_1\n",
      "B6 red_edge_2\n",
      "B7 red_edge_3\n",
      "B8 nir\n",
      "B8A red_edge_4\n",
      "B9 water_vapor\n",
      "B11 swir\n",
      "B12 swir2\n",
      "AOT aerosol_thickness\n",
      "WVP water_vapor_pressure\n",
      "SCL scene_classification_map\n",
      "QA10 qa10\n",
      "QA20 qa20\n",
      "QA60 qa60\n"
     ]
    }
   ],
   "source": [
    "for band in s2sr.bands:\n",
    "    print(band.id, band.name)"
   ]
  },
  {
   "cell_type": "markdown",
   "metadata": {},
   "source": [
    "## Rename"
   ]
  },
  {
   "cell_type": "code",
   "execution_count": 8,
   "metadata": {},
   "outputs": [],
   "source": [
    "s2sr_i = s2sr_i.addBands(ee.Image.constant(0).rename('test'))"
   ]
  },
  {
   "cell_type": "code",
   "execution_count": 9,
   "metadata": {},
   "outputs": [],
   "source": [
    "s2sr_renamed = s2sr.rename(s2sr_i)"
   ]
  },
  {
   "cell_type": "code",
   "execution_count": 10,
   "metadata": {},
   "outputs": [
    {
     "name": "stdout",
     "output_type": "stream",
     "text": [
      "[ 'aerosol',\n",
      "  'blue',\n",
      "  'green',\n",
      "  'red',\n",
      "  'red_edge_1',\n",
      "  'red_edge_2',\n",
      "  'red_edge_3',\n",
      "  'nir',\n",
      "  'red_edge_4',\n",
      "  'water_vapor',\n",
      "  'swir',\n",
      "  'swir2',\n",
      "  'aerosol_thickness',\n",
      "  'water_vapor_pressure',\n",
      "  'scene_classification_map',\n",
      "  'TCI_R',\n",
      "  'TCI_G',\n",
      "  'TCI_B',\n",
      "  'MSK_CLDPRB',\n",
      "  'MSK_SNWPRB',\n",
      "  'qa10',\n",
      "  'qa20',\n",
      "  'qa60',\n",
      "  'test']\n",
      "\n"
     ]
    }
   ],
   "source": [
    "ui.eprint(s2sr_renamed.bandNames())"
   ]
  },
  {
   "cell_type": "markdown",
   "metadata": {},
   "source": [
    "## Rename collection"
   ]
  },
  {
   "cell_type": "code",
   "execution_count": 11,
   "metadata": {},
   "outputs": [],
   "source": [
    "s2col = s2sr.collection"
   ]
  },
  {
   "cell_type": "code",
   "execution_count": 12,
   "metadata": {},
   "outputs": [],
   "source": [
    "s2col_renamed = s2col.map(lambda img: s2sr.rename(img))"
   ]
  },
  {
   "cell_type": "code",
   "execution_count": 13,
   "metadata": {},
   "outputs": [
    {
     "data": {
      "text/plain": [
       "{'20190209T000239_20190209T000240_T55GDQ': {'MSK_CLDPRB': 0.0,\n",
       "  'MSK_SNWPRB': 72.0,\n",
       "  'TCI_B': 255.0,\n",
       "  'TCI_G': 255.0,\n",
       "  'TCI_R': 255.0,\n",
       "  'aerosol': 9145.0,\n",
       "  'aerosol_thickness': 204.0,\n",
       "  'blue': 9328.0,\n",
       "  'green': 8232.0,\n",
       "  'nir': 8039.0,\n",
       "  'qa10': 0.0,\n",
       "  'qa20': 0.0,\n",
       "  'qa60': 1024.0,\n",
       "  'red': 7610.0,\n",
       "  'red_edge_1': 7892.0,\n",
       "  'red_edge_2': 7546.0,\n",
       "  'red_edge_3': 7286.0,\n",
       "  'red_edge_4': 6960.0,\n",
       "  'scene_classification_map': 8.0,\n",
       "  'swir': 2408.0,\n",
       "  'swir2': 2471.0,\n",
       "  'water_vapor': 14617.0,\n",
       "  'water_vapor_pressure': 890.0},\n",
       " '20190209T000239_20190209T000240_T55GDR': {'MSK_CLDPRB': None,\n",
       "  'MSK_SNWPRB': None,\n",
       "  'TCI_B': None,\n",
       "  'TCI_G': None,\n",
       "  'TCI_R': None,\n",
       "  'aerosol': None,\n",
       "  'aerosol_thickness': None,\n",
       "  'blue': None,\n",
       "  'green': None,\n",
       "  'nir': None,\n",
       "  'qa10': None,\n",
       "  'qa20': None,\n",
       "  'qa60': None,\n",
       "  'red': None,\n",
       "  'red_edge_1': None,\n",
       "  'red_edge_2': None,\n",
       "  'red_edge_3': None,\n",
       "  'red_edge_4': None,\n",
       "  'scene_classification_map': None,\n",
       "  'swir': None,\n",
       "  'swir2': None,\n",
       "  'water_vapor': None,\n",
       "  'water_vapor_pressure': None}}"
      ]
     },
     "execution_count": 13,
     "metadata": {},
     "output_type": "execute_result"
    }
   ],
   "source": [
    "tools.imagecollection.get_values(s2col_renamed.limit(2), ee.Image(s2col.first()).geometry().centroid(), 20, side='client')"
   ]
  },
  {
   "cell_type": "markdown",
   "metadata": {},
   "source": [
    "## SCL Mask"
   ]
  },
  {
   "cell_type": "code",
   "execution_count": 14,
   "metadata": {},
   "outputs": [],
   "source": [
    "mask = s2sr.SCL_masks(s2sr_i)"
   ]
  },
  {
   "cell_type": "markdown",
   "metadata": {},
   "source": [
    "## Visualization"
   ]
  },
  {
   "cell_type": "code",
   "execution_count": 15,
   "metadata": {},
   "outputs": [],
   "source": [
    "Map = ui.Map()"
   ]
  },
  {
   "cell_type": "code",
   "execution_count": 16,
   "metadata": {},
   "outputs": [
    {
     "data": {
      "application/vnd.jupyter.widget-view+json": {
       "model_id": "5f4c4c825976478683b55580a6041e13",
       "version_major": 2,
       "version_minor": 0
      },
      "text/plain": [
       "Map(basemap={'max_zoom': 19, 'attribution': 'Map data (c) <a href=\"https://openstreetmap.org\">OpenStreetMap</a…"
      ]
     },
     "metadata": {},
     "output_type": "display_data"
    },
    {
     "data": {
      "application/vnd.jupyter.widget-view+json": {
       "model_id": "1a73969923284a12ba9df3894f05a811",
       "version_major": 2,
       "version_minor": 0
      },
      "text/plain": [
       "Tab(children=(CustomInspector(children=(SelectMultiple(options=OrderedDict(), value=()), Accordion(selected_in…"
      ]
     },
     "metadata": {},
     "output_type": "display_data"
    }
   ],
   "source": [
    "Map.show()"
   ]
  },
  {
   "cell_type": "markdown",
   "metadata": {},
   "source": [
    "### renamed image"
   ]
  },
  {
   "cell_type": "code",
   "execution_count": 17,
   "metadata": {},
   "outputs": [],
   "source": [
    "p = ee.Geometry.Point([-71, -41])"
   ]
  },
  {
   "cell_type": "code",
   "execution_count": 18,
   "metadata": {},
   "outputs": [],
   "source": [
    "s2col_renamed = s2col_renamed.filterBounds(p)"
   ]
  },
  {
   "cell_type": "code",
   "execution_count": 19,
   "metadata": {},
   "outputs": [],
   "source": [
    "s2sr_renamed = s2col_renamed.first()"
   ]
  },
  {
   "cell_type": "code",
   "execution_count": 20,
   "metadata": {},
   "outputs": [],
   "source": [
    "vis = s2sr.visualization('NSR', True)"
   ]
  },
  {
   "cell_type": "code",
   "execution_count": 21,
   "metadata": {},
   "outputs": [],
   "source": [
    "Map.addLayer(s2sr_renamed, vis, 'S2 SR Renamed NSR')"
   ]
  },
  {
   "cell_type": "code",
   "execution_count": 22,
   "metadata": {},
   "outputs": [],
   "source": [
    "Map.centerObject(s2sr_renamed)"
   ]
  },
  {
   "cell_type": "markdown",
   "metadata": {},
   "source": [
    "## SCL"
   ]
  },
  {
   "cell_type": "code",
   "execution_count": 23,
   "metadata": {},
   "outputs": [],
   "source": [
    "visSCL = s2sr.visualization('SCL', True)"
   ]
  },
  {
   "cell_type": "code",
   "execution_count": 24,
   "metadata": {},
   "outputs": [],
   "source": [
    "Map.addLayer(s2sr_renamed, visSCL, 'SCL')"
   ]
  },
  {
   "cell_type": "markdown",
   "metadata": {},
   "source": [
    "## Masks"
   ]
  },
  {
   "cell_type": "code",
   "execution_count": 25,
   "metadata": {},
   "outputs": [
    {
     "data": {
      "text/plain": [
       "{'qa60': ['cloud', 'cirrus']}"
      ]
     },
     "execution_count": 25,
     "metadata": {},
     "output_type": "execute_result"
    }
   ],
   "source": [
    "s2sr.bit_options(True)"
   ]
  },
  {
   "cell_type": "code",
   "execution_count": 26,
   "metadata": {},
   "outputs": [],
   "source": [
    "masked = s2sr.apply_mask(s2sr_renamed, 'qa60', renamed=True)"
   ]
  },
  {
   "cell_type": "code",
   "execution_count": 27,
   "metadata": {},
   "outputs": [],
   "source": [
    "Map.addLayer(masked, vis, 'Masked')"
   ]
  },
  {
   "cell_type": "markdown",
   "metadata": {},
   "source": [
    "## Hollstein"
   ]
  },
  {
   "cell_type": "code",
   "execution_count": 28,
   "metadata": {},
   "outputs": [],
   "source": [
    "s2toa = collection.Sentinel2TOA()"
   ]
  },
  {
   "cell_type": "code",
   "execution_count": 29,
   "metadata": {},
   "outputs": [],
   "source": [
    "i = ee.Image(s2toa.collection.filterBounds(p).filterMetadata(s2toa.cloud_cover, 'less_than', 50).first())"
   ]
  },
  {
   "cell_type": "code",
   "execution_count": 30,
   "metadata": {},
   "outputs": [],
   "source": [
    "Map.addLayer(i, s2toa.visualization('NSR'), 'TOA')"
   ]
  },
  {
   "cell_type": "code",
   "execution_count": 31,
   "metadata": {},
   "outputs": [],
   "source": [
    "holl = s2toa.algorithms['hollstein']"
   ]
  },
  {
   "cell_type": "code",
   "execution_count": 32,
   "metadata": {},
   "outputs": [
    {
     "name": "stdout",
     "output_type": "stream",
     "text": [
      "Help on function apply_hollstein in module geetools.cloud_mask:\n",
      "\n",
      "apply_hollstein(image, options=('cloud', 'snow', 'shadow', 'water', 'cirrus'), aerosol='B1', blue='B2', green='B3', red_edge1='B5', red_edge2='B6', red_edge3='B7', red_edge4='B8A', water_vapor='B9', cirrus='B10', swir='B11')\n",
      "    Apply Hollstein mask\n",
      "\n"
     ]
    }
   ],
   "source": [
    "help(holl)"
   ]
  },
  {
   "cell_type": "code",
   "execution_count": 35,
   "metadata": {},
   "outputs": [],
   "source": [
    "iholl = holl(i, ['cloud', 'shadow', 'snow'])"
   ]
  },
  {
   "cell_type": "code",
   "execution_count": 36,
   "metadata": {},
   "outputs": [],
   "source": [
    "Map.addLayer(iholl, s2toa.visualization('NSR'), 'Masked TOA')"
   ]
  },
  {
   "cell_type": "code",
   "execution_count": null,
   "metadata": {},
   "outputs": [],
   "source": []
  }
 ],
 "metadata": {
  "kernelspec": {
   "display_name": "geepy3",
   "language": "python",
   "name": "geepy3"
  },
  "language_info": {
   "codemirror_mode": {
    "name": "ipython",
    "version": 3
   },
   "file_extension": ".py",
   "mimetype": "text/x-python",
   "name": "python",
   "nbconvert_exporter": "python",
   "pygments_lexer": "ipython3",
   "version": "3.5.2"
  }
 },
 "nbformat": 4,
 "nbformat_minor": 2
}
