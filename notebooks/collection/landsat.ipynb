{
 "cells": [
  {
   "cell_type": "markdown",
   "metadata": {},
   "source": [
    "# Landsat Collections"
   ]
  },
  {
   "cell_type": "code",
   "execution_count": 1,
   "metadata": {},
   "outputs": [],
   "source": [
    "from geetools import collection, tools, ui"
   ]
  },
  {
   "cell_type": "code",
   "execution_count": 2,
   "metadata": {},
   "outputs": [],
   "source": [
    "import ee"
   ]
  },
  {
   "cell_type": "markdown",
   "metadata": {},
   "source": [
    "## Default values"
   ]
  },
  {
   "cell_type": "code",
   "execution_count": 3,
   "metadata": {},
   "outputs": [
    {
     "data": {
      "text/plain": [
       "{1: {'process': 'RAW', 'sensor': 'MSS'},\n",
       " 2: {'process': 'RAW', 'sensor': 'MSS'},\n",
       " 3: {'process': 'RAW', 'sensor': 'MSS'},\n",
       " 4: {'process': 'SR', 'sensor': 'TM'},\n",
       " 5: {'process': 'SR', 'sensor': 'TM'},\n",
       " 7: {'process': 'SR', 'sensor': 'ETM'},\n",
       " 8: {'process': 'SR', 'sensor': 'OLI'}}"
      ]
     },
     "execution_count": 3,
     "metadata": {},
     "output_type": "execute_result"
    }
   ],
   "source": [
    "collection.landsat.DEFAULTS"
   ]
  },
  {
   "cell_type": "markdown",
   "metadata": {},
   "source": [
    "This means that the default collection for Landsat 1 is RAW and MSS, for Landsat 5 is SR and TM"
   ]
  },
  {
   "cell_type": "markdown",
   "metadata": {},
   "source": [
    "# HELPERS"
   ]
  },
  {
   "cell_type": "code",
   "execution_count": 4,
   "metadata": {},
   "outputs": [],
   "source": [
    "def print_values(image):\n",
    "    print(tools.image.get_value(image, image.geometry().centroid(), 30, side='client'))"
   ]
  },
  {
   "cell_type": "markdown",
   "metadata": {},
   "source": [
    "## Landsat 8 SR"
   ]
  },
  {
   "cell_type": "code",
   "execution_count": 5,
   "metadata": {},
   "outputs": [],
   "source": [
    "l8sr = collection.Landsat(8, 'SR')"
   ]
  },
  {
   "cell_type": "markdown",
   "metadata": {},
   "source": [
    "## Information about the collection"
   ]
  },
  {
   "cell_type": "code",
   "execution_count": 6,
   "metadata": {},
   "outputs": [
    {
     "data": {
      "text/plain": [
       "{'algorithms': {'brdf': <bound method Landsat.brdf of <geetools.collection.landsat.Landsat object at 0x7f0e7a096d30>>,\n",
       "  'harmonize': <bound method Landsat.harmonize of <geetools.collection.landsat.Landsat object at 0x7f0e7a096d30>>,\n",
       "  'rescale': <bound method Landsat.rescale_all of <geetools.collection.landsat.Landsat object at 0x7f0e7a096d30>>},\n",
       " 'band_names': ['aerosol',\n",
       "  'blue',\n",
       "  'green',\n",
       "  'red',\n",
       "  'nir',\n",
       "  'swir',\n",
       "  'swir2',\n",
       "  'thermal',\n",
       "  'thermal2',\n",
       "  'sr_aerosol',\n",
       "  'pixel_qa',\n",
       "  'radsat_qa'],\n",
       " 'bands': ['B1',\n",
       "  'B2',\n",
       "  'B3',\n",
       "  'B4',\n",
       "  'B5',\n",
       "  'B6',\n",
       "  'B7',\n",
       "  'B10',\n",
       "  'B11',\n",
       "  'sr_aerosol',\n",
       "  'pixel_qa',\n",
       "  'radsat_qa'],\n",
       " 'bit_bands': ['sr_aerosol', 'pixel_qa', 'radsat_qa'],\n",
       " 'classification_bands': [],\n",
       " 'cloud_cover': 'CLOUD_COVER',\n",
       " 'ee_collection': <ee.imagecollection.ImageCollection at 0x7f0e7a096eb8>,\n",
       " 'end_date': '2019-04-09',\n",
       " 'id': 'LANDSAT/LC08/C01/T1_SR',\n",
       " 'indices': {'evi': <function geetools.collection.Collection.evi(self, name='evi', renamed=False)>,\n",
       "  'nbr': <function geetools.collection.Collection.nbr(self, name='nbr', renamed=False)>,\n",
       "  'ndvi': <function geetools.collection.Collection.ndvi(self, name='ndvi', renamed=False)>},\n",
       " 'number': 8,\n",
       " 'optical_bands': ['B1', 'B2', 'B3', 'B4', 'B5', 'B6', 'B7'],\n",
       " 'process': 'SR',\n",
       " 'ranges': {'B1': {'max': 10000, 'min': 0},\n",
       "  'B10': {'max': 10000, 'min': 0},\n",
       "  'B11': {'max': 10000, 'min': 0},\n",
       "  'B2': {'max': 10000, 'min': 0},\n",
       "  'B3': {'max': 10000, 'min': 0},\n",
       "  'B4': {'max': 10000, 'min': 0},\n",
       "  'B5': {'max': 10000, 'min': 0},\n",
       "  'B6': {'max': 10000, 'min': 0},\n",
       "  'B7': {'max': 10000, 'min': 0},\n",
       "  'pixel_qa': {'max': None, 'min': None},\n",
       "  'radsat_qa': {'max': None, 'min': None},\n",
       "  'sr_aerosol': {'max': None, 'min': None}},\n",
       " 'scales': {'B1': 30,\n",
       "  'B10': 30,\n",
       "  'B11': 30,\n",
       "  'B2': 30,\n",
       "  'B3': 30,\n",
       "  'B4': 30,\n",
       "  'B5': 30,\n",
       "  'B6': 30,\n",
       "  'B7': 30,\n",
       "  'pixel_qa': 30,\n",
       "  'radsat_qa': 30,\n",
       "  'sr_aerosol': 30},\n",
       " 'sensor': 'OLI',\n",
       " 'spacecraft': 'LANDSAT',\n",
       " 'start_date': '2013-04-11',\n",
       " 'thermal_bands': ['B10', 'B11'],\n",
       " 'tier': 1}"
      ]
     },
     "execution_count": 6,
     "metadata": {},
     "output_type": "execute_result"
    }
   ],
   "source": [
    "collection.info(l8sr)"
   ]
  },
  {
   "cell_type": "markdown",
   "metadata": {},
   "source": [
    "## get a band by id"
   ]
  },
  {
   "cell_type": "code",
   "execution_count": 7,
   "metadata": {},
   "outputs": [
    {
     "data": {
      "text/plain": [
       "'aerosol'"
      ]
     },
     "execution_count": 7,
     "metadata": {},
     "output_type": "execute_result"
    }
   ],
   "source": [
    "l8sr.get_band('B1').name"
   ]
  },
  {
   "cell_type": "code",
   "execution_count": 8,
   "metadata": {},
   "outputs": [
    {
     "data": {
      "text/plain": [
       "'B4'"
      ]
     },
     "execution_count": 8,
     "metadata": {},
     "output_type": "execute_result"
    }
   ],
   "source": [
    "l8sr.get_band('red', 'name').id"
   ]
  },
  {
   "cell_type": "markdown",
   "metadata": {},
   "source": [
    "## Get one image out of the collection"
   ]
  },
  {
   "cell_type": "code",
   "execution_count": 9,
   "metadata": {},
   "outputs": [],
   "source": [
    "l8sr_i = ee.Image(l8sr.collection.first())"
   ]
  },
  {
   "cell_type": "code",
   "execution_count": 10,
   "metadata": {},
   "outputs": [
    {
     "name": "stdout",
     "output_type": "stream",
     "text": [
      "{'pixel_qa': 480, 'B10': 2639, 'B3': 8054, 'sr_aerosol': 8, 'radsat_qa': 0, 'B2': 8329, 'B5': 7478, 'B1': 8394, 'B6': 3754, 'B4': 8031, 'B7': 3120, 'B11': 2642}\n"
     ]
    }
   ],
   "source": [
    "print_values(l8sr_i)"
   ]
  },
  {
   "cell_type": "markdown",
   "metadata": {},
   "source": [
    "# Rename bands"
   ]
  },
  {
   "cell_type": "code",
   "execution_count": 11,
   "metadata": {},
   "outputs": [
    {
     "data": {
      "text/plain": [
       "['B1',\n",
       " 'B2',\n",
       " 'B3',\n",
       " 'B4',\n",
       " 'B5',\n",
       " 'B6',\n",
       " 'B7',\n",
       " 'B10',\n",
       " 'B11',\n",
       " 'sr_aerosol',\n",
       " 'pixel_qa',\n",
       " 'radsat_qa']"
      ]
     },
     "execution_count": 11,
     "metadata": {},
     "output_type": "execute_result"
    }
   ],
   "source": [
    "l8sr_i.bandNames().getInfo()"
   ]
  },
  {
   "cell_type": "code",
   "execution_count": 12,
   "metadata": {},
   "outputs": [],
   "source": [
    "l8sr_renamed = l8sr.rename(l8sr_i, 'all')"
   ]
  },
  {
   "cell_type": "code",
   "execution_count": 13,
   "metadata": {},
   "outputs": [
    {
     "data": {
      "text/plain": [
       "['aerosol',\n",
       " 'blue',\n",
       " 'green',\n",
       " 'red',\n",
       " 'nir',\n",
       " 'swir',\n",
       " 'swir2',\n",
       " 'thermal',\n",
       " 'thermal2',\n",
       " 'sr_aerosol',\n",
       " 'pixel_qa',\n",
       " 'radsat_qa']"
      ]
     },
     "execution_count": 13,
     "metadata": {},
     "output_type": "execute_result"
    }
   ],
   "source": [
    "l8sr_renamed.bandNames().getInfo()"
   ]
  },
  {
   "cell_type": "markdown",
   "metadata": {},
   "source": [
    "## Get Common Bands"
   ]
  },
  {
   "cell_type": "code",
   "execution_count": 14,
   "metadata": {},
   "outputs": [],
   "source": [
    "s2toa = collection.Sentinel2TOA"
   ]
  },
  {
   "cell_type": "code",
   "execution_count": 15,
   "metadata": {},
   "outputs": [
    {
     "name": "stdout",
     "output_type": "stream",
     "text": [
      "B1 aerosol\n",
      "B2 blue\n",
      "B3 green\n",
      "B4 red\n",
      "B5 red_edge_1\n",
      "B6 red_edge_2\n",
      "B7 red_edge_3\n",
      "B8 nir\n",
      "B8A red_edge_4\n",
      "B9 water_vapor\n",
      "B10 cirrus\n",
      "B11 swir\n",
      "B12 swir2\n",
      "QA10 qa10\n",
      "QA20 qa20\n",
      "QA60 qa60\n"
     ]
    }
   ],
   "source": [
    "for band in s2toa.bands:\n",
    "    print(band.id, band.name)"
   ]
  },
  {
   "cell_type": "code",
   "execution_count": 16,
   "metadata": {},
   "outputs": [],
   "source": [
    "l8toa = collection.Landsat8TOA"
   ]
  },
  {
   "cell_type": "code",
   "execution_count": 17,
   "metadata": {},
   "outputs": [],
   "source": [
    "l8toa_i = ee.Image(l8toa.collection.first())"
   ]
  },
  {
   "cell_type": "code",
   "execution_count": 18,
   "metadata": {},
   "outputs": [
    {
     "name": "stdout",
     "output_type": "stream",
     "text": [
      "B1 aerosol\n",
      "B2 blue\n",
      "B3 green\n",
      "B4 red\n",
      "B5 nir\n",
      "B6 swir\n",
      "B7 swir2\n",
      "B8 pan\n",
      "B9 cirrus\n",
      "B10 thermal\n",
      "B11 thermal2\n",
      "BQA bqa\n"
     ]
    }
   ],
   "source": [
    "for band in l8toa.bands:\n",
    "    print(band.id, band.name)"
   ]
  },
  {
   "cell_type": "code",
   "execution_count": 19,
   "metadata": {},
   "outputs": [
    {
     "data": {
      "text/plain": [
       "['red', 'swir', 'nir', 'aerosol', 'blue', 'swir2', 'green']"
      ]
     },
     "execution_count": 19,
     "metadata": {},
     "output_type": "execute_result"
    }
   ],
   "source": [
    "collection.get_common_bands(l8sr, s2toa, reference='all', match='name')"
   ]
  },
  {
   "cell_type": "markdown",
   "metadata": {},
   "source": [
    "## Re-scale to match Landsat 8 TOA collection"
   ]
  },
  {
   "cell_type": "markdown",
   "metadata": {},
   "source": [
    "For rescaling uses `min` and `max` information for the band that match in each collection"
   ]
  },
  {
   "cell_type": "code",
   "execution_count": 20,
   "metadata": {},
   "outputs": [
    {
     "data": {
      "text/plain": [
       "{'B1': {'max': 10000, 'min': 0},\n",
       " 'B10': {'max': 10000, 'min': 0},\n",
       " 'B11': {'max': 10000, 'min': 0},\n",
       " 'B2': {'max': 10000, 'min': 0},\n",
       " 'B3': {'max': 10000, 'min': 0},\n",
       " 'B4': {'max': 10000, 'min': 0},\n",
       " 'B5': {'max': 10000, 'min': 0},\n",
       " 'B6': {'max': 10000, 'min': 0},\n",
       " 'B7': {'max': 10000, 'min': 0},\n",
       " 'pixel_qa': {'max': None, 'min': None},\n",
       " 'radsat_qa': {'max': None, 'min': None},\n",
       " 'sr_aerosol': {'max': None, 'min': None}}"
      ]
     },
     "execution_count": 20,
     "metadata": {},
     "output_type": "execute_result"
    }
   ],
   "source": [
    "# SR\n",
    "l8sr.ranges('all', False)"
   ]
  },
  {
   "cell_type": "code",
   "execution_count": 21,
   "metadata": {},
   "outputs": [
    {
     "data": {
      "text/plain": [
       "{'B1': {'max': 1, 'min': 0},\n",
       " 'B10': {'max': 1000, 'min': 0},\n",
       " 'B11': {'max': 1000, 'min': 0},\n",
       " 'B2': {'max': 1, 'min': 0},\n",
       " 'B3': {'max': 1, 'min': 0},\n",
       " 'B4': {'max': 1, 'min': 0},\n",
       " 'B5': {'max': 1, 'min': 0},\n",
       " 'B6': {'max': 1, 'min': 0},\n",
       " 'B7': {'max': 1, 'min': 0},\n",
       " 'B8': {'max': 1, 'min': 0},\n",
       " 'B9': {'max': 1, 'min': 0},\n",
       " 'BQA': {'max': None, 'min': None}}"
      ]
     },
     "execution_count": 21,
     "metadata": {},
     "output_type": "execute_result"
    }
   ],
   "source": [
    "# TOA\n",
    "l8toa.ranges()"
   ]
  },
  {
   "cell_type": "code",
   "execution_count": 22,
   "metadata": {},
   "outputs": [
    {
     "name": "stdout",
     "output_type": "stream",
     "text": [
      "aerosol B1 int16\n",
      "blue B2 int16\n",
      "green B3 int16\n",
      "red B4 int16\n",
      "nir B5 int16\n",
      "swir B6 int16\n",
      "swir2 B7 int16\n",
      "thermal B10 int16\n",
      "thermal2 B11 int16\n",
      "sr_aerosol sr_aerosol uint8\n",
      "pixel_qa pixel_qa uint16\n",
      "radsat_qa radsat_qa uint16\n"
     ]
    }
   ],
   "source": [
    "for band in l8sr.bands:\n",
    "    print(band.name, band.id, band.precision)"
   ]
  },
  {
   "cell_type": "code",
   "execution_count": 23,
   "metadata": {},
   "outputs": [
    {
     "name": "stdout",
     "output_type": "stream",
     "text": [
      "{'B8': 0.7274518013000488, 'B10': 2638.9968872070312, 'B3': 7182.049751281738, 'B9': 0.003796438919380307, 'B2': 7998.473644256592, 'B5': 7538.013458251953, 'B1': 8138.679265975952, 'B6': 3911.091685295105, 'B4': 7489.148378372192, 'B7': 3132.632076740265, 'BQA': 2800, 'B11': 2642.7655029296875}\n"
     ]
    }
   ],
   "source": [
    "# l8_i_scaled_toa = l8sr.rescale_all(l8sr_i, 8, 'TOA', drop=True)\n",
    "l8_toa_scaled_sr = collection.rescale(l8toa_i, l8toa, l8sr, drop=False)\n",
    "print_values(l8_toa_scaled_sr)"
   ]
  },
  {
   "cell_type": "code",
   "execution_count": 24,
   "metadata": {},
   "outputs": [
    {
     "name": "stdout",
     "output_type": "stream",
     "text": [
      "{'B1': 8138.679265975952, 'B6': 3911.091685295105, 'B10': 2638.9968872070312, 'B3': 7182.049751281738, 'B4': 7489.148378372192, 'B7': 3132.632076740265, 'B5': 7538.013458251953, 'B2': 7998.473644256592, 'B11': 2642.7655029296875}\n"
     ]
    }
   ],
   "source": [
    "l8_i_scaled_toa = collection.rescale(l8toa_i, l8toa, l8sr, drop=True)\n",
    "print_values(l8_i_scaled_toa)"
   ]
  },
  {
   "cell_type": "code",
   "execution_count": 25,
   "metadata": {},
   "outputs": [
    {
     "name": "stdout",
     "output_type": "stream",
     "text": [
      "{'red': 0.8031, 'swir': 0.3754, 'nir': 0.7478, 'swir2': 0.312, 'aerosol': 0.8394, 'thermal2': 264.2, 'green': 0.8054, 'blue': 0.8329, 'thermal': 263.90000000000003}\n"
     ]
    }
   ],
   "source": [
    "l8_renamed_scaled_toa = collection.rescale(l8sr_renamed, l8sr, l8toa, renamed=True, drop=True)\n",
    "print_values(l8_renamed_scaled_toa)"
   ]
  },
  {
   "cell_type": "code",
   "execution_count": 26,
   "metadata": {},
   "outputs": [
    {
     "name": "stdout",
     "output_type": "stream",
     "text": [
      "{'red': 0.8031, 'swir': 0.3754, 'nir': 0.7478, 'sr_aerosol': 8, 'aerosol': 0.8394, 'blue': 0.8329, 'radsat_qa': 0, 'pixel_qa': 480, 'swir2': 0.312, 'thermal2': 264.2, 'green': 0.8054, 'thermal': 263.90000000000003}\n"
     ]
    }
   ],
   "source": [
    "l8_renamed_scaled_toa = collection.rescale(l8sr_renamed, l8sr, l8toa, renamed=True, drop=False)\n",
    "print_values(l8_renamed_scaled_toa)"
   ]
  },
  {
   "cell_type": "markdown",
   "metadata": {},
   "source": [
    "## Re-scale a collection"
   ]
  },
  {
   "cell_type": "code",
   "execution_count": 27,
   "metadata": {},
   "outputs": [],
   "source": [
    "col = l8sr.collection.limit(5)"
   ]
  },
  {
   "cell_type": "code",
   "execution_count": 28,
   "metadata": {},
   "outputs": [],
   "source": [
    "col_renamed = col.map(lambda img: l8sr.rename(img))"
   ]
  },
  {
   "cell_type": "code",
   "execution_count": 29,
   "metadata": {},
   "outputs": [],
   "source": [
    "col_reescaled = col_renamed.map(lambda img: collection.rescale(img, l8sr, l8toa, drop=False, renamed=True))"
   ]
  },
  {
   "cell_type": "code",
   "execution_count": 30,
   "metadata": {},
   "outputs": [
    {
     "data": {
      "text/plain": [
       "{'LC08_001004_20140524': {'aerosol': 0.8394,\n",
       "  'blue': 0.8329,\n",
       "  'green': 0.8054,\n",
       "  'nir': 0.7478,\n",
       "  'pixel_qa': 480.0,\n",
       "  'radsat_qa': 0.0,\n",
       "  'red': 0.8031,\n",
       "  'sr_aerosol': 8.0,\n",
       "  'swir': 0.3754,\n",
       "  'swir2': 0.312,\n",
       "  'thermal': 263.90000000000003,\n",
       "  'thermal2': 264.2},\n",
       " 'LC08_001004_20140609': {'aerosol': 0.5276,\n",
       "  'blue': 0.5043,\n",
       "  'green': 0.4709,\n",
       "  'nir': 0.4036,\n",
       "  'pixel_qa': 480.0,\n",
       "  'radsat_qa': 0.0,\n",
       "  'red': 0.4519,\n",
       "  'sr_aerosol': 8.0,\n",
       "  'swir': 0.088,\n",
       "  'swir2': 0.0902,\n",
       "  'thermal': 260.79999999999995,\n",
       "  'thermal2': 260.90000000000003},\n",
       " 'LC08_001004_20140625': {'aerosol': 0.4231,\n",
       "  'blue': 0.4203,\n",
       "  'green': 0.4111,\n",
       "  'nir': 0.4199,\n",
       "  'pixel_qa': 480.0,\n",
       "  'radsat_qa': 0.0,\n",
       "  'red': 0.4133,\n",
       "  'sr_aerosol': 8.0,\n",
       "  'swir': 0.3932,\n",
       "  'swir2': 0.3506,\n",
       "  'thermal': 268.2,\n",
       "  'thermal2': 268.8},\n",
       " 'LC08_001004_20140711': {'aerosol': 0.8471,\n",
       "  'blue': 0.8566,\n",
       "  'green': 0.7929,\n",
       "  'nir': 0.5672,\n",
       "  'pixel_qa': 336.0,\n",
       "  'radsat_qa': 0.0,\n",
       "  'red': 0.7489,\n",
       "  'sr_aerosol': 196.0,\n",
       "  'swir': 0.0021,\n",
       "  'swir2': 0.0088,\n",
       "  'thermal': 272.4,\n",
       "  'thermal2': 271.7},\n",
       " 'LC08_001004_20140727': {'aerosol': 0.5977,\n",
       "  'blue': 0.5937,\n",
       "  'green': 0.5773,\n",
       "  'nir': 0.5365,\n",
       "  'pixel_qa': 992.0,\n",
       "  'radsat_qa': 0.0,\n",
       "  'red': 0.5677,\n",
       "  'sr_aerosol': 8.0,\n",
       "  'swir': 0.1824,\n",
       "  'swir2': 0.1946,\n",
       "  'thermal': 250.5,\n",
       "  'thermal2': 251.4}}"
      ]
     },
     "execution_count": 30,
     "metadata": {},
     "output_type": "execute_result"
    }
   ],
   "source": [
    "tools.imagecollection.get_values(col_reescaled, ee.Image(col.first()).geometry().centroid(), 30, side='client')"
   ]
  },
  {
   "cell_type": "markdown",
   "metadata": {},
   "source": [
    "# From Id"
   ]
  },
  {
   "cell_type": "code",
   "execution_count": 31,
   "metadata": {},
   "outputs": [],
   "source": [
    "l5toa = collection.Landsat.fromId('LANDSAT/LT05/C01/T1_TOA')"
   ]
  },
  {
   "cell_type": "code",
   "execution_count": 32,
   "metadata": {},
   "outputs": [
    {
     "data": {
      "text/plain": [
       "{'algorithms': {'brdf': <bound method Landsat.brdf of <geetools.collection.landsat.Landsat object at 0x7f0eb404e400>>,\n",
       "  'harmonize': <bound method Landsat.harmonize of <geetools.collection.landsat.Landsat object at 0x7f0eb404e400>>,\n",
       "  'rescale': <bound method Landsat.rescale_all of <geetools.collection.landsat.Landsat object at 0x7f0eb404e400>>},\n",
       " 'band_names': ['blue',\n",
       "  'green',\n",
       "  'red',\n",
       "  'nir',\n",
       "  'swir',\n",
       "  'thermal',\n",
       "  'swir2',\n",
       "  'bqa'],\n",
       " 'bands': ['B1', 'B2', 'B3', 'B4', 'B5', 'B6', 'B7', 'BQA'],\n",
       " 'bit_bands': ['BQA'],\n",
       " 'classification_bands': [],\n",
       " 'cloud_cover': 'CLOUD_COVER',\n",
       " 'ee_collection': <ee.imagecollection.ImageCollection at 0x7f0e79fc5dd8>,\n",
       " 'end_date': '2012-05-05',\n",
       " 'id': 'LANDSAT/LT05/C01/T1_TOA',\n",
       " 'indices': {'evi': <function geetools.collection.Collection.evi(self, name='evi', renamed=False)>,\n",
       "  'nbr': <function geetools.collection.Collection.nbr(self, name='nbr', renamed=False)>,\n",
       "  'ndvi': <function geetools.collection.Collection.ndvi(self, name='ndvi', renamed=False)>},\n",
       " 'number': 5,\n",
       " 'optical_bands': ['B1', 'B2', 'B3', 'B4', 'B5', 'B7'],\n",
       " 'process': 'TOA',\n",
       " 'ranges': {'B1': {'max': 1, 'min': 0},\n",
       "  'B2': {'max': 1, 'min': 0},\n",
       "  'B3': {'max': 1, 'min': 0},\n",
       "  'B4': {'max': 1, 'min': 0},\n",
       "  'B5': {'max': 1, 'min': 0},\n",
       "  'B6': {'max': 1, 'min': 0},\n",
       "  'B7': {'max': 1, 'min': 0},\n",
       "  'BQA': {'max': None, 'min': None}},\n",
       " 'scales': {'B1': 30,\n",
       "  'B2': 30,\n",
       "  'B3': 30,\n",
       "  'B4': 30,\n",
       "  'B5': 30,\n",
       "  'B6': 30,\n",
       "  'B7': 30,\n",
       "  'BQA': 30},\n",
       " 'sensor': 'TM',\n",
       " 'spacecraft': 'LANDSAT',\n",
       " 'start_date': '1984-01-01',\n",
       " 'thermal_bands': ['B6'],\n",
       " 'tier': 1}"
      ]
     },
     "execution_count": 32,
     "metadata": {},
     "output_type": "execute_result"
    }
   ],
   "source": [
    "collection.info(l5toa)"
   ]
  },
  {
   "cell_type": "code",
   "execution_count": 33,
   "metadata": {},
   "outputs": [
    {
     "data": {
      "text/plain": [
       "'red'"
      ]
     },
     "execution_count": 33,
     "metadata": {},
     "output_type": "execute_result"
    }
   ],
   "source": [
    "l5toa.get_band('B3').name"
   ]
  },
  {
   "cell_type": "markdown",
   "metadata": {},
   "source": [
    "## Visualize"
   ]
  },
  {
   "cell_type": "code",
   "execution_count": 34,
   "metadata": {},
   "outputs": [],
   "source": [
    "Map = ui.Map()"
   ]
  },
  {
   "cell_type": "code",
   "execution_count": 35,
   "metadata": {},
   "outputs": [
    {
     "data": {
      "application/vnd.jupyter.widget-view+json": {
       "model_id": "679de64d8742419f8b99f38701767ca4",
       "version_major": 2,
       "version_minor": 0
      },
      "text/plain": [
       "Map(basemap={'max_zoom': 19, 'url': 'https://{s}.tile.openstreetmap.org/{z}/{x}/{y}.png', 'attribution': 'Map …"
      ]
     },
     "metadata": {},
     "output_type": "display_data"
    },
    {
     "data": {
      "application/vnd.jupyter.widget-view+json": {
       "model_id": "d600c98dad8446e7a953488470b9c9b0",
       "version_major": 2,
       "version_minor": 0
      },
      "text/plain": [
       "Tab(children=(CustomInspector(children=(SelectMultiple(options=OrderedDict(), value=()), Accordion(selected_in…"
      ]
     },
     "metadata": {},
     "output_type": "display_data"
    }
   ],
   "source": [
    "Map.show()"
   ]
  },
  {
   "cell_type": "code",
   "execution_count": 37,
   "metadata": {},
   "outputs": [],
   "source": [
    "rect = ee.Geometry.Rectangle([-71.57, -40.81, -71.43, -40.72])"
   ]
  },
  {
   "cell_type": "code",
   "execution_count": 38,
   "metadata": {},
   "outputs": [],
   "source": [
    "Map.addLayer(rect)"
   ]
  },
  {
   "cell_type": "code",
   "execution_count": 39,
   "metadata": {},
   "outputs": [],
   "source": [
    "p = ee.Geometry.Point([-71.63085937500001, -40.76448635693034])"
   ]
  },
  {
   "cell_type": "code",
   "execution_count": 40,
   "metadata": {},
   "outputs": [],
   "source": [
    "l8sri = l8sr.collection.filterBounds(p).filterMetadata(l8sr.cloud_cover, 'less_than', 30).first()"
   ]
  },
  {
   "cell_type": "code",
   "execution_count": 42,
   "metadata": {},
   "outputs": [],
   "source": [
    "vis = l8sr.visualization('NSR')"
   ]
  },
  {
   "cell_type": "code",
   "execution_count": 43,
   "metadata": {},
   "outputs": [
    {
     "data": {
      "text/plain": [
       "{'bands': ['B5', 'B6', 'B4'],\n",
       " 'max': [5000.0, 5000.0, 5000.0],\n",
       " 'min': [0, 0, 0]}"
      ]
     },
     "execution_count": 43,
     "metadata": {},
     "output_type": "execute_result"
    }
   ],
   "source": [
    "vis"
   ]
  },
  {
   "cell_type": "code",
   "execution_count": 44,
   "metadata": {},
   "outputs": [],
   "source": [
    "Map.addLayer(l8sri, vis, 'L8 SR NSR')"
   ]
  },
  {
   "cell_type": "code",
   "execution_count": 45,
   "metadata": {},
   "outputs": [],
   "source": [
    "Map.centerObject(l8sri)"
   ]
  },
  {
   "cell_type": "code",
   "execution_count": 51,
   "metadata": {},
   "outputs": [],
   "source": []
  },
  {
   "cell_type": "code",
   "execution_count": 52,
   "metadata": {},
   "outputs": [
    {
     "data": {
      "text/plain": [
       "{'bands': ['B8', 'B11', 'B4'],\n",
       " 'max': [5000.0, 5000.0, 5000.0],\n",
       " 'min': [0, 0, 0]}"
      ]
     },
     "execution_count": 52,
     "metadata": {},
     "output_type": "execute_result"
    }
   ],
   "source": [
    "s2sr.visualization('NSR')"
   ]
  },
  {
   "cell_type": "code",
   "execution_count": 53,
   "metadata": {},
   "outputs": [],
   "source": [
    "Map.addLayer(s2sri, visS2, 'Sentinel 2 SCL')"
   ]
  },
  {
   "cell_type": "code",
   "execution_count": 54,
   "metadata": {},
   "outputs": [],
   "source": [
    "Map.addLayer(i2, {'bands':['B8', 'B11', 'B4'], 'max':4000, 'min':0}, 'Sentinel 2 NSR')"
   ]
  },
  {
   "cell_type": "code",
   "execution_count": 55,
   "metadata": {},
   "outputs": [
    {
     "data": {
      "text/plain": [
       "{1: 'saturated',\n",
       " 2: 'dark',\n",
       " 3: 'shadow',\n",
       " 4: 'vegetation',\n",
       " 5: 'bare_soil',\n",
       " 6: 'water',\n",
       " 7: 'cloud_low',\n",
       " 8: 'cloud_medium',\n",
       " 9: 'cloud_high',\n",
       " 10: 'cirrus',\n",
       " 11: 'snow'}"
      ]
     },
     "execution_count": 55,
     "metadata": {},
     "output_type": "execute_result"
    }
   ],
   "source": [
    "s2sr.SCL_data"
   ]
  },
  {
   "cell_type": "code",
   "execution_count": 56,
   "metadata": {},
   "outputs": [],
   "source": [
    "proxy = l8toa.proxy_image()"
   ]
  },
  {
   "cell_type": "code",
   "execution_count": 57,
   "metadata": {},
   "outputs": [
    {
     "data": {
      "application/vnd.jupyter.widget-view+json": {
       "model_id": "3ffaed18bd6e464089eb0b7b04ea4311",
       "version_major": 2,
       "version_minor": 0
      },
      "text/plain": [
       "VBox(children=(VBox(children=(HTML(value='<b>Image id:</b> No Image ID </br>'), Accordion(children=(HTML(value…"
      ]
     },
     "metadata": {},
     "output_type": "display_data"
    }
   ],
   "source": [
    "ui.eprint(proxy, notebook=True)"
   ]
  },
  {
   "cell_type": "code",
   "execution_count": null,
   "metadata": {},
   "outputs": [],
   "source": []
  }
 ],
 "metadata": {
  "kernelspec": {
   "display_name": "geepy3",
   "language": "python",
   "name": "geepy3"
  },
  "language_info": {
   "codemirror_mode": {
    "name": "ipython",
    "version": 3
   },
   "file_extension": ".py",
   "mimetype": "text/x-python",
   "name": "python",
   "nbconvert_exporter": "python",
   "pygments_lexer": "ipython3",
   "version": "3.5.2"
  }
 },
 "nbformat": 4,
 "nbformat_minor": 2
}
