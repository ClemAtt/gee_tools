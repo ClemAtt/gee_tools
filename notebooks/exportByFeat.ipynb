{
 "cells": [
  {
   "cell_type": "markdown",
   "metadata": {},
   "source": [
    "# exportByFeat(img, fc, prop, folder, scale, dataType, **kwargs):\n",
    "Export an image clipped by features (Polygons). You can use the same arguments as the original function ee.batch.export.image.toDrive\n",
    "\n",
    "**Parameters**\n",
    "\n",
    "- img: image to clip\n",
    "- fc: feature collection\n",
    "- prop: name of the property of the features to paste in the image\n",
    "- folder: same as ee.Export\n",
    "- scale: same as ee.Export. Default to 1000\n",
    "- dataType: as downloaded images **must** have the same data type in all\n",
    "    bands, you have to set it here. Can be one of: \"float\", \"double\", \"int\",\n",
    "    \"Uint8\", \"Int8\" or a casting function like *ee.Image.toFloat*\n",
    "- kwargs: keyword arguments that will be passed to ee.batch.export.image.toDrive\n",
    "\n",
    "Return a list of all tasks (for further processing/checking)"
   ]
  },
  {
   "cell_type": "code",
   "execution_count": 2,
   "metadata": {},
   "outputs": [],
   "source": [
    "import ee\n",
    "from geetools import tools"
   ]
  },
  {
   "cell_type": "markdown",
   "metadata": {},
   "source": [
    "## FeatureCollection"
   ]
  },
  {
   "cell_type": "code",
   "execution_count": 3,
   "metadata": {},
   "outputs": [],
   "source": [
    "p1 = ee.Geometry.Point([-71,-42])\n",
    "p2 = ee.Geometry.Point([-71,-43])\n",
    "p3 = ee.Geometry.Point([-71,-44])"
   ]
  },
  {
   "cell_type": "code",
   "execution_count": 4,
   "metadata": {},
   "outputs": [],
   "source": [
    "feat1 = ee.Feature(p1.buffer(1000), {'site': 1})\n",
    "feat2 = ee.Feature(p2.buffer(1000), {'site': 2})\n",
    "feat3 = ee.Feature(p3.buffer(1000), {'site': 3})"
   ]
  },
  {
   "cell_type": "code",
   "execution_count": 5,
   "metadata": {},
   "outputs": [],
   "source": [
    "fc = ee.FeatureCollection([feat1, feat2, feat3])"
   ]
  },
  {
   "cell_type": "markdown",
   "metadata": {},
   "source": [
    "## Image"
   ]
  },
  {
   "cell_type": "code",
   "execution_count": 6,
   "metadata": {},
   "outputs": [],
   "source": [
    "collection = ee.ImageCollection('COPERNICUS/S2').filterBounds(fc.geometry())"
   ]
  },
  {
   "cell_type": "code",
   "execution_count": 7,
   "metadata": {},
   "outputs": [],
   "source": [
    "image = collection.mosaic()"
   ]
  },
  {
   "cell_type": "markdown",
   "metadata": {},
   "source": [
    "## Execute"
   ]
  },
  {
   "cell_type": "code",
   "execution_count": 8,
   "metadata": {},
   "outputs": [
    {
     "name": "stdout",
     "output_type": "stream",
     "text": [
      "try n° 0 ERROR: 'id'\n",
      "try n° 1 ERROR: 'id'\n",
      "try n° 2 ERROR: 'id'\n",
      "try n° 3 ERROR: 'id'\n",
      "try n° 4 ERROR: 'id'\n",
      "try n° 5 ERROR: 'id'\n",
      "try n° 6 ERROR: 'id'\n",
      "try n° 7 ERROR: 'id'\n",
      "try n° 8 ERROR: 'id'\n",
      "try n° 9 ERROR: 'id'\n"
     ]
    },
    {
     "ename": "RuntimeError",
     "evalue": "An error occured tring to excecute the function 'exportByFeat'",
     "output_type": "error",
     "traceback": [
      "\u001b[1;31m\u001b[0m",
      "\u001b[1;31mRuntimeError\u001b[0mTraceback (most recent call last)",
      "\u001b[1;32m<ipython-input-8-929313a5efa0>\u001b[0m in \u001b[0;36m<module>\u001b[1;34m()\u001b[0m\n\u001b[1;32m----> 1\u001b[1;33m \u001b[0mtools\u001b[0m\u001b[1;33m.\u001b[0m\u001b[0mexportByFeat\u001b[0m\u001b[1;33m(\u001b[0m\u001b[0mimage\u001b[0m\u001b[1;33m,\u001b[0m \u001b[0mfc\u001b[0m\u001b[1;33m,\u001b[0m \u001b[1;34m'site'\u001b[0m\u001b[1;33m,\u001b[0m \u001b[1;34m'tools_exportbyfeat'\u001b[0m\u001b[1;33m,\u001b[0m \u001b[1;36m10\u001b[0m\u001b[1;33m,\u001b[0m \u001b[1;34m'float'\u001b[0m\u001b[1;33m)\u001b[0m\u001b[1;33m\u001b[0m\u001b[0m\n\u001b[0m",
      "\u001b[1;32mC:\\Users\\rprincipe\\Python\\gee_tools\\geetools\\tools.pyc\u001b[0m in \u001b[0;36mwrapper\u001b[1;34m(*args, **kwargs)\u001b[0m\n\u001b[0;32m    101\u001b[0m                     \u001b[1;32melif\u001b[0m \u001b[0mi\u001b[0m \u001b[1;33m==\u001b[0m \u001b[0mr\u001b[0m\u001b[1;33m[\u001b[0m\u001b[1;33m-\u001b[0m\u001b[1;36m1\u001b[0m\u001b[1;33m]\u001b[0m\u001b[1;33m:\u001b[0m\u001b[1;33m\u001b[0m\u001b[0m\n\u001b[0;32m    102\u001b[0m                         raise RuntimeError(\"An error occured tring to excecute\"\\\n\u001b[1;32m--> 103\u001b[1;33m                                            \" the function '{0}'\".format(f.__name__))\n\u001b[0m\u001b[0;32m    104\u001b[0m                 \u001b[1;32melse\u001b[0m\u001b[1;33m:\u001b[0m\u001b[1;33m\u001b[0m\u001b[0m\n\u001b[0;32m    105\u001b[0m                     \u001b[1;32mreturn\u001b[0m \u001b[0mresult\u001b[0m\u001b[1;33m\u001b[0m\u001b[0m\n",
      "\u001b[1;31mRuntimeError\u001b[0m: An error occured tring to excecute the function 'exportByFeat'"
     ]
    }
   ],
   "source": [
    "tools.exportByFeat(image, fc, 'site', 'tools_exportbyfeat', 10, 'float')"
   ]
  },
  {
   "cell_type": "code",
   "execution_count": null,
   "metadata": {},
   "outputs": [],
   "source": []
  }
 ],
 "metadata": {
  "kernelspec": {
   "display_name": "Python 2",
   "language": "python",
   "name": "python2"
  },
  "language_info": {
   "codemirror_mode": {
    "name": "ipython",
    "version": 2
   },
   "file_extension": ".py",
   "mimetype": "text/x-python",
   "name": "python",
   "nbconvert_exporter": "python",
   "pygments_lexer": "ipython2",
   "version": "2.7.15"
  }
 },
 "nbformat": 4,
 "nbformat_minor": 2
}
