{
 "cells": [
  {
   "cell_type": "markdown",
   "metadata": {},
   "source": [
    "# Medoid Compositing\n",
    "*Seasonal Composite Landsat TM/ETM+ Images Using the Medoid (a Multi-Dimensional Median), Neil Flood, 2013, doi:10.3390/rs5126481*"
   ]
  },
  {
   "cell_type": "code",
   "execution_count": 1,
   "metadata": {},
   "outputs": [],
   "source": [
    "import ee\n",
    "from geetools import ui, tools, composite, cloud_mask, indices, algorithms"
   ]
  },
  {
   "cell_type": "markdown",
   "metadata": {},
   "source": [
    "## Build a collection"
   ]
  },
  {
   "cell_type": "code",
   "execution_count": 2,
   "metadata": {},
   "outputs": [],
   "source": [
    "p = ee.Geometry.Point(-72, -42)"
   ]
  },
  {
   "cell_type": "code",
   "execution_count": 3,
   "metadata": {},
   "outputs": [],
   "source": [
    "col = ee.ImageCollection('LANDSAT/LC08/C01/T1_SR')\\\n",
    "        .filterBounds(p).filterDate('2017-01-01', '2017-12-01')\\\n",
    "        .map(cloud_mask.landsat8SR_pixelQA())\\\n",
    "        .map(indices.ndvi('B5', 'B4'))\\\n",
    "        .limit(7)"
   ]
  },
  {
   "cell_type": "markdown",
   "metadata": {},
   "source": [
    "## Other simple composites to compare"
   ]
  },
  {
   "cell_type": "code",
   "execution_count": 4,
   "metadata": {},
   "outputs": [],
   "source": [
    "max_ndvi = col.qualityMosaic('ndvi')"
   ]
  },
  {
   "cell_type": "code",
   "execution_count": 5,
   "metadata": {},
   "outputs": [],
   "source": [
    "mosaic = col.mosaic()"
   ]
  },
  {
   "cell_type": "markdown",
   "metadata": {},
   "source": [
    "## Medoid"
   ]
  },
  {
   "cell_type": "code",
   "execution_count": 6,
   "metadata": {},
   "outputs": [],
   "source": [
    "bands = ['B2', 'B3', 'B4', 'B5', 'B6', 'B7']"
   ]
  },
  {
   "cell_type": "markdown",
   "metadata": {},
   "source": [
    "### add date band before compositing"
   ]
  },
  {
   "cell_type": "code",
   "execution_count": 7,
   "metadata": {},
   "outputs": [],
   "source": [
    "def add_date(img):\n",
    "    date = tools.date.get_date_band(img)\n",
    "    return img.addBands(date).copyProperties(date, ['day_since_epoch'])\n",
    "col = col.map(add_date)"
   ]
  },
  {
   "cell_type": "code",
   "execution_count": 8,
   "metadata": {},
   "outputs": [],
   "source": [
    "minval = ee.Number(col.aggregate_min('day_since_epoch'))"
   ]
  },
  {
   "cell_type": "code",
   "execution_count": 9,
   "metadata": {},
   "outputs": [],
   "source": [
    "maxval = ee.Number(col.aggregate_max('day_since_epoch'))"
   ]
  },
  {
   "cell_type": "markdown",
   "metadata": {},
   "source": [
    "## Discarding pixels with zero value"
   ]
  },
  {
   "cell_type": "code",
   "execution_count": 10,
   "metadata": {},
   "outputs": [],
   "source": [
    "medoid = composite.medoid(col, bands, True)"
   ]
  },
  {
   "cell_type": "code",
   "execution_count": 11,
   "metadata": {},
   "outputs": [],
   "source": [
    "medoid = medoid.set('min_date', minval, 'max_date', maxval)"
   ]
  },
  {
   "cell_type": "markdown",
   "metadata": {},
   "source": [
    "## Including zero values"
   ]
  },
  {
   "cell_type": "code",
   "execution_count": 12,
   "metadata": {},
   "outputs": [],
   "source": [
    "medoid0 = composite.medoid(col, bands)"
   ]
  },
  {
   "cell_type": "code",
   "execution_count": 13,
   "metadata": {},
   "outputs": [],
   "source": [
    "medoid0 = medoid0.set('min_date', minval, 'max_date', maxval)"
   ]
  },
  {
   "cell_type": "markdown",
   "metadata": {},
   "source": [
    "## Show on Map"
   ]
  },
  {
   "cell_type": "code",
   "execution_count": 14,
   "metadata": {},
   "outputs": [
    {
     "data": {
      "application/vnd.jupyter.widget-view+json": {
       "model_id": "dd6529fd48d34674964798f8bdc98d58",
       "version_major": 2,
       "version_minor": 0
      },
      "text/plain": [
       "Map(basemap={'max_zoom': 19, 'url': 'https://{s}.tile.openstreetmap.org/{z}/{x}/{y}.png', 'attribution': 'Map …"
      ]
     },
     "metadata": {},
     "output_type": "display_data"
    },
    {
     "data": {
      "application/vnd.jupyter.widget-view+json": {
       "model_id": "d88ec7591c524693881fe14154e167d1",
       "version_major": 2,
       "version_minor": 0
      },
      "text/plain": [
       "Tab(children=(CustomInspector(children=(SelectMultiple(options=OrderedDict(), value=()), Accordion(selected_in…"
      ]
     },
     "metadata": {},
     "output_type": "display_data"
    }
   ],
   "source": [
    "Map = ui.Map()\n",
    "Map.show()"
   ]
  },
  {
   "cell_type": "code",
   "execution_count": 15,
   "metadata": {},
   "outputs": [],
   "source": [
    "vis = {'bands':['B5', 'B6','B4'], 'min':0, 'max':5000}"
   ]
  },
  {
   "cell_type": "code",
   "execution_count": 16,
   "metadata": {},
   "outputs": [],
   "source": [
    "# Map.addLayer(p)\n",
    "Map.centerObject(p)"
   ]
  },
  {
   "cell_type": "code",
   "execution_count": 17,
   "metadata": {},
   "outputs": [],
   "source": [
    "Map.addLayer(max_ndvi, vis, 'max NDVI')"
   ]
  },
  {
   "cell_type": "code",
   "execution_count": 18,
   "metadata": {},
   "outputs": [],
   "source": [
    "Map.addLayer(mosaic, vis, 'simply Mosaic')"
   ]
  },
  {
   "cell_type": "code",
   "execution_count": 19,
   "metadata": {},
   "outputs": [],
   "source": [
    "Map.addLayer(medoid, vis, 'Medoid Without Zeros')"
   ]
  },
  {
   "cell_type": "code",
   "execution_count": 20,
   "metadata": {},
   "outputs": [],
   "source": [
    "Map.addLayer(medoid.select('date').randomVisualizer(), {'bands':['viz-red', 'viz-green', 'viz-blue'], 'min':0, 'max':255}, 'dates without zeros')"
   ]
  },
  {
   "cell_type": "code",
   "execution_count": 21,
   "metadata": {},
   "outputs": [],
   "source": [
    "Map.addLayer(medoid0, vis, 'Medoid With Zeros')"
   ]
  },
  {
   "cell_type": "code",
   "execution_count": 22,
   "metadata": {},
   "outputs": [],
   "source": [
    "Map.addLayer(medoid0.select('date').randomVisualizer(), {'bands':['viz-red', 'viz-green', 'viz-blue'], 'min':0, 'max':255}, 'dates with zeros')"
   ]
  },
  {
   "cell_type": "markdown",
   "metadata": {},
   "source": [
    "## Extract data from images and compute locally to compare"
   ]
  },
  {
   "cell_type": "markdown",
   "metadata": {},
   "source": [
    "Extract medoid values in point"
   ]
  },
  {
   "cell_type": "code",
   "execution_count": 23,
   "metadata": {},
   "outputs": [],
   "source": [
    "point = ee.Geometry.Point(-71.9544, -42.0068)"
   ]
  },
  {
   "cell_type": "code",
   "execution_count": 24,
   "metadata": {},
   "outputs": [],
   "source": [
    "Map.addMarker(point, name='dark zone')\n",
    "Map.centerObject(point)"
   ]
  },
  {
   "cell_type": "code",
   "execution_count": 26,
   "metadata": {},
   "outputs": [],
   "source": [
    "medoid_values = tools.image.get_value(medoid0.select(bands), point, scale=30, side='client')"
   ]
  },
  {
   "cell_type": "code",
   "execution_count": 27,
   "metadata": {},
   "outputs": [
    {
     "data": {
      "text/plain": [
       "{'B2': 11, 'B3': 37, 'B4': -1, 'B5': 508, 'B6': 145, 'B7': 44}"
      ]
     },
     "execution_count": 27,
     "metadata": {},
     "output_type": "execute_result"
    }
   ],
   "source": [
    "medoid_values"
   ]
  },
  {
   "cell_type": "markdown",
   "metadata": {},
   "source": [
    "List of values"
   ]
  },
  {
   "cell_type": "code",
   "execution_count": 28,
   "metadata": {},
   "outputs": [],
   "source": [
    "medoid_values_list = [val for _, val in medoid_values.items()]"
   ]
  },
  {
   "cell_type": "code",
   "execution_count": 29,
   "metadata": {},
   "outputs": [
    {
     "data": {
      "text/plain": [
       "[44, 11, 145, 37, -1, 508]"
      ]
     },
     "execution_count": 29,
     "metadata": {},
     "output_type": "execute_result"
    }
   ],
   "source": [
    "medoid_values_list"
   ]
  },
  {
   "cell_type": "markdown",
   "metadata": {},
   "source": [
    "Extract values at point in each image of the collection"
   ]
  },
  {
   "cell_type": "code",
   "execution_count": 32,
   "metadata": {},
   "outputs": [],
   "source": [
    "col_values = tools.imagecollection.get_values(col.select(bands), point, scale=30, side='client')"
   ]
  },
  {
   "cell_type": "markdown",
   "metadata": {},
   "source": [
    "Get bandnames"
   ]
  },
  {
   "cell_type": "code",
   "execution_count": 33,
   "metadata": {},
   "outputs": [],
   "source": [
    "col_key_list = []\n",
    "for _, d in col_values.items():\n",
    "    keys = []\n",
    "    for k, v in d.items():\n",
    "        keys.append(k)        \n",
    "    col_key_list.append(keys)"
   ]
  },
  {
   "cell_type": "code",
   "execution_count": 34,
   "metadata": {},
   "outputs": [
    {
     "data": {
      "text/plain": [
       "[['B7', 'B2', 'B6', 'B3', 'B4', 'B5'],\n",
       " ['B7', 'B2', 'B6', 'B3', 'B4', 'B5'],\n",
       " ['B7', 'B2', 'B6', 'B3', 'B4', 'B5'],\n",
       " ['B7', 'B2', 'B6', 'B3', 'B4', 'B5'],\n",
       " ['B7', 'B2', 'B6', 'B3', 'B4', 'B5'],\n",
       " ['B7', 'B2', 'B6', 'B3', 'B4', 'B5'],\n",
       " ['B7', 'B2', 'B6', 'B3', 'B4', 'B5']]"
      ]
     },
     "execution_count": 34,
     "metadata": {},
     "output_type": "execute_result"
    }
   ],
   "source": [
    "col_key_list"
   ]
  },
  {
   "cell_type": "markdown",
   "metadata": {},
   "source": [
    "Get values as a list"
   ]
  },
  {
   "cell_type": "code",
   "execution_count": 35,
   "metadata": {},
   "outputs": [],
   "source": [
    "col_values_list = []\n",
    "for _, d in col_values.items():\n",
    "    values = []\n",
    "    for _, v in d.items():\n",
    "        if v:\n",
    "            values.append(v)\n",
    "        else:\n",
    "            values.append(0)\n",
    "    col_values_list.append(values)"
   ]
  },
  {
   "cell_type": "code",
   "execution_count": 36,
   "metadata": {},
   "outputs": [
    {
     "data": {
      "text/plain": [
       "[[171.0, 108.0, 500.0, 168.0, 84.0, 1698.0],\n",
       " [0, 0, 0, 0, 0, 0],\n",
       " [78.0, 71.0, 258.0, 91.0, 23.0, 846.0],\n",
       " [138.0, 77.0, 409.0, 131.0, 53.0, 1440.0],\n",
       " [44.0, 11.0, 145.0, 37.0, -1.0, 508.0],\n",
       " [0, 0, 0, 0, 0, 0],\n",
       " [0, 0, 0, 0, 0, 0]]"
      ]
     },
     "execution_count": 36,
     "metadata": {},
     "output_type": "execute_result"
    }
   ],
   "source": [
    "col_values_list"
   ]
  },
  {
   "cell_type": "markdown",
   "metadata": {},
   "source": [
    "## Medoid Method locally"
   ]
  },
  {
   "cell_type": "code",
   "execution_count": 37,
   "metadata": {},
   "outputs": [],
   "source": [
    "def local_medoid(values):\n",
    "    from copy import copy\n",
    "    import math\n",
    "\n",
    "    def distance(arr1, arr2):\n",
    "        zipped = zip(arr1, arr2)\n",
    "        accum = 0\n",
    "        for a, b in zipped:\n",
    "            calc = (a-b)*(a-b)\n",
    "            accum += calc\n",
    "        return math.sqrt(accum)\n",
    "\n",
    "    def med(values):\n",
    "        results = {}\n",
    "        for i, val in enumerate(values):\n",
    "            val = list(val)\n",
    "            cop = copy(values)\n",
    "            cop = [list(a) for a in cop]\n",
    "            cop.remove(val)\n",
    "            dist = 0\n",
    "            for r in cop:\n",
    "                r = list(r)\n",
    "                d = distance(val, r)\n",
    "                dist += d\n",
    "            results[i] = dist\n",
    "\n",
    "        return results\n",
    "    \n",
    "    def getmin(d):\n",
    "        minval = min(d.values())\n",
    "        for k, v in d.items():\n",
    "            if v == minval:\n",
    "                return k\n",
    "    \n",
    "    values = med(values)\n",
    "    min_value = getmin(values)\n",
    "    \n",
    "    # return the index of the minimized sum as first argument, and all options as second\n",
    "    return min_value, values"
   ]
  },
  {
   "cell_type": "markdown",
   "metadata": {},
   "source": [
    "## Compute medoid locally and compare"
   ]
  },
  {
   "cell_type": "code",
   "execution_count": 38,
   "metadata": {},
   "outputs": [],
   "source": [
    "local = local_medoid(col_values_list)"
   ]
  },
  {
   "cell_type": "code",
   "execution_count": 39,
   "metadata": {},
   "outputs": [
    {
     "data": {
      "text/plain": [
       "(4,\n",
       " {0: 7814.400199950066,\n",
       "  1: 4730.557841022941,\n",
       "  2: 4569.386263405991,\n",
       "  3: 6416.489843846057,\n",
       "  4: 4205.569869588098,\n",
       "  5: 4730.557841022941,\n",
       "  6: 4730.557841022941})"
      ]
     },
     "execution_count": 39,
     "metadata": {},
     "output_type": "execute_result"
    }
   ],
   "source": [
    "local"
   ]
  },
  {
   "cell_type": "markdown",
   "metadata": {},
   "source": [
    "Get the values that correspond to the medoid"
   ]
  },
  {
   "cell_type": "code",
   "execution_count": 40,
   "metadata": {},
   "outputs": [],
   "source": [
    "min_values = col_values_list[local[0]]"
   ]
  },
  {
   "cell_type": "code",
   "execution_count": 41,
   "metadata": {},
   "outputs": [
    {
     "data": {
      "text/plain": [
       "[44.0, 11.0, 145.0, 37.0, -1.0, 508.0]"
      ]
     },
     "execution_count": 41,
     "metadata": {},
     "output_type": "execute_result"
    }
   ],
   "source": [
    "min_values"
   ]
  },
  {
   "cell_type": "markdown",
   "metadata": {},
   "source": [
    "Match bands with values"
   ]
  },
  {
   "cell_type": "code",
   "execution_count": 42,
   "metadata": {},
   "outputs": [],
   "source": [
    "local_medoid = dict(zip(col_key_list[0], min_values))"
   ]
  },
  {
   "cell_type": "code",
   "execution_count": 43,
   "metadata": {},
   "outputs": [
    {
     "data": {
      "text/plain": [
       "{'B2': 11.0, 'B3': 37.0, 'B4': -1.0, 'B5': 508.0, 'B6': 145.0, 'B7': 44.0}"
      ]
     },
     "execution_count": 43,
     "metadata": {},
     "output_type": "execute_result"
    }
   ],
   "source": [
    "local_medoid"
   ]
  },
  {
   "cell_type": "code",
   "execution_count": 44,
   "metadata": {},
   "outputs": [
    {
     "data": {
      "text/plain": [
       "{'B2': 11, 'B3': 37, 'B4': -1, 'B5': 508, 'B6': 145, 'B7': 44}"
      ]
     },
     "execution_count": 44,
     "metadata": {},
     "output_type": "execute_result"
    }
   ],
   "source": [
    "medoid_values"
   ]
  },
  {
   "cell_type": "markdown",
   "metadata": {},
   "source": [
    "## Finally, compare values from medoid mosaic against locally computed medoid (from images values)"
   ]
  },
  {
   "cell_type": "code",
   "execution_count": 45,
   "metadata": {},
   "outputs": [
    {
     "data": {
      "text/plain": [
       "True"
      ]
     },
     "execution_count": 45,
     "metadata": {},
     "output_type": "execute_result"
    }
   ],
   "source": [
    "medoid_values == local_medoid"
   ]
  }
 ],
 "metadata": {
  "kernelspec": {
   "display_name": "geepy3",
   "language": "python",
   "name": "geepy3"
  },
  "language_info": {
   "codemirror_mode": {
    "name": "ipython",
    "version": 3
   },
   "file_extension": ".py",
   "mimetype": "text/x-python",
   "name": "python",
   "nbconvert_exporter": "python",
   "pygments_lexer": "ipython3",
   "version": "3.5.2"
  }
 },
 "nbformat": 4,
 "nbformat_minor": 2
}
